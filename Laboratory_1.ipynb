{
  "nbformat": 4,
  "nbformat_minor": 0,
  "metadata": {
    "colab": {
      "provenance": [],
      "authorship_tag": "ABX9TyPrCfSgZh86MM2Re+4zDP33",
      "include_colab_link": true
    },
    "kernelspec": {
      "name": "python3",
      "display_name": "Python 3"
    },
    "language_info": {
      "name": "python"
    }
  },
  "cells": [
    {
      "cell_type": "markdown",
      "metadata": {
        "id": "view-in-github",
        "colab_type": "text"
      },
      "source": [
        "<a href=\"https://colab.research.google.com/github/AndromedaOMA/Advanced_Analytics_with_Apache_Spark---E.On_Software_Development/blob/main/Laboratory_1.ipynb\" target=\"_parent\"><img src=\"https://colab.research.google.com/assets/colab-badge.svg\" alt=\"Open In Colab\"/></a>"
      ]
    },
    {
      "cell_type": "markdown",
      "source": [
        "# PySpark oferă:\n",
        "    \n",
        "1.  Un obiect de tip **Spark Context**, folosit pentru interacțiunea cu Spark.\n",
        "2.  Un obiect de bază pentru codul SQL și citirea datelor, numit **Spark Session**.\n",
        "3.  Un obiect de lucru cu date, numit **Data Frame**, având o interfață similară cu cel de *Pandas*.\n",
        "4.  Funcții gata implementate pentru transformări și expresii.\n",
        "5.   Abilitatea de a construi propriile funcții de transformare în *Python*.\n",
        "\n"
      ],
      "metadata": {
        "id": "Q5rBoT1tEDhD"
      }
    },
    {
      "cell_type": "markdown",
      "source": [
        "---\n",
        "\n",
        "# **Pregătire mediu de lucru**\n",
        "\n",
        "Stabilirea conexiunii dintre Google drive si Colab notebook și importarea/instalarea pachetelor și librăriilor necesare mai departe."
      ],
      "metadata": {
        "id": "NYNy-9DFFGuT"
      }
    },
    {
      "cell_type": "code",
      "source": [
        "from google.colab import drive\n",
        "drive.mount('/content/drive')"
      ],
      "metadata": {
        "colab": {
          "base_uri": "https://localhost:8080/"
        },
        "id": "m84rf6UjB9Z8",
        "outputId": "ea6752b9-72ef-455e-e816-d0eb9123c21c"
      },
      "execution_count": 23,
      "outputs": [
        {
          "output_type": "stream",
          "name": "stdout",
          "text": [
            "Drive already mounted at /content/drive; to attempt to forcibly remount, call drive.mount(\"/content/drive\", force_remount=True).\n"
          ]
        }
      ]
    },
    {
      "cell_type": "code",
      "source": [
        "!sudo apt update\n",
        "!apt-get install openjdk-8-jdk-headless -qq > /dev/null\n",
        "#Check this site for the latest download link https://dlcdn.apache.org/spark/\n",
        "!wget -q https://dlcdn.apache.org/spark/spark-3.4.4/spark-3.4.4-bin-hadoop3.tgz\n",
        "!tar xf spark-3.4.4-bin-hadoop3.tgz\n",
        "!pip install -q findspark\n",
        "!pip install pyspark\n",
        "!pip install py4j\n",
        "import os\n",
        "import sys\n",
        "# os.environ[\"JAVA_HOME\"] = \"/usr/lib/jvm/java-8-openjdk-amd64\"\n",
        "# os.environ[\"SPARK_HOME\"] = \"/content/spark-3.4.4-bin-hadoop3\"\n",
        "import findspark\n",
        "findspark.init()\n",
        "findspark.find()\n",
        "import pyspark"
      ],
      "metadata": {
        "colab": {
          "base_uri": "https://localhost:8080/"
        },
        "id": "-Qs8o6ObCu8q",
        "outputId": "d2397993-a0fe-489f-ec75-5b5923e93d25"
      },
      "execution_count": 24,
      "outputs": [
        {
          "output_type": "stream",
          "name": "stdout",
          "text": [
            "\u001b[33m\r0% [Working]\u001b[0m\r            \rHit:1 http://security.ubuntu.com/ubuntu jammy-security InRelease\n",
            "Hit:2 https://cloud.r-project.org/bin/linux/ubuntu jammy-cran40/ InRelease\n",
            "Hit:3 http://archive.ubuntu.com/ubuntu jammy InRelease\n",
            "Hit:4 https://r2u.stat.illinois.edu/ubuntu jammy InRelease\n",
            "Hit:5 http://archive.ubuntu.com/ubuntu jammy-updates InRelease\n",
            "Hit:6 http://archive.ubuntu.com/ubuntu jammy-backports InRelease\n",
            "Hit:7 https://developer.download.nvidia.com/compute/cuda/repos/ubuntu2204/x86_64  InRelease\n",
            "Hit:8 https://ppa.launchpadcontent.net/deadsnakes/ppa/ubuntu jammy InRelease\n",
            "Hit:9 https://ppa.launchpadcontent.net/graphics-drivers/ppa/ubuntu jammy InRelease\n",
            "Hit:10 https://ppa.launchpadcontent.net/ubuntugis/ppa/ubuntu jammy InRelease\n",
            "Reading package lists... Done\n",
            "Building dependency tree... Done\n",
            "Reading state information... Done\n",
            "47 packages can be upgraded. Run 'apt list --upgradable' to see them.\n",
            "\u001b[1;33mW: \u001b[0mSkipping acquire of configured file 'main/source/Sources' as repository 'https://r2u.stat.illinois.edu/ubuntu jammy InRelease' does not seem to provide it (sources.list entry misspelt?)\u001b[0m\n",
            "Requirement already satisfied: pyspark in /usr/local/lib/python3.11/dist-packages (3.5.5)\n",
            "Requirement already satisfied: py4j==0.10.9.7 in /usr/local/lib/python3.11/dist-packages (from pyspark) (0.10.9.7)\n",
            "Requirement already satisfied: py4j in /usr/local/lib/python3.11/dist-packages (0.10.9.7)\n"
          ]
        }
      ]
    },
    {
      "cell_type": "code",
      "source": [
        "from pyspark.sql import DataFrame, SparkSession\n",
        "from typing import List\n",
        "import pyspark.sql.types as T\n",
        "import pyspark.sql.functions as F\n",
        "spark= SparkSession \\\n",
        ".builder \\\n",
        ".getOrCreate()\n",
        "spark"
      ],
      "metadata": {
        "colab": {
          "base_uri": "https://localhost:8080/",
          "height": 0
        },
        "id": "TOZYMlKvCv4M",
        "outputId": "06aabec7-f92f-46ef-87e8-c86b19b8fe37"
      },
      "execution_count": 25,
      "outputs": [
        {
          "output_type": "execute_result",
          "data": {
            "text/plain": [
              "<pyspark.sql.session.SparkSession at 0x78a25f0a74d0>"
            ],
            "text/html": [
              "\n",
              "            <div>\n",
              "                <p><b>SparkSession - in-memory</b></p>\n",
              "                \n",
              "        <div>\n",
              "            <p><b>SparkContext</b></p>\n",
              "\n",
              "            <p><a href=\"http://fe61e2d277b1:4040\">Spark UI</a></p>\n",
              "\n",
              "            <dl>\n",
              "              <dt>Version</dt>\n",
              "                <dd><code>v3.5.5</code></dd>\n",
              "              <dt>Master</dt>\n",
              "                <dd><code>local[*]</code></dd>\n",
              "              <dt>AppName</dt>\n",
              "                <dd><code>pyspark-shell</code></dd>\n",
              "            </dl>\n",
              "        </div>\n",
              "        \n",
              "            </div>\n",
              "        "
            ]
          },
          "metadata": {},
          "execution_count": 25
        }
      ]
    },
    {
      "cell_type": "markdown",
      "source": [
        "---\n",
        "\n",
        "# **Data Frame**\n",
        "\n",
        "**Spark SQL** lucrează datele sub forma unui **tabel**.\n",
        "\n",
        "Librăria **PySpark** oferă un clasă care reprezintă un tabel de date, unde fiecare coloană conține același tip de date, numită **Data Frame**, similar cu ce oferă librăria **Pandas**.\n",
        "\n",
        "Fiind concepute pentru Big Data, un Data Frame nu încarcă datele.\n",
        "El reține doar locația și tipul lor.\n",
        "La fiecare  transformare de date, noul Data Frame va fi creat care reține locația și tipul datelor, precum și lanțul de transformări.\n",
        "Transformările vor fi efectuate **doar** în momentul scrierii sau afișării datelor de către executori."
      ],
      "metadata": {
        "id": "o8HCp868KDX2"
      }
    },
    {
      "cell_type": "markdown",
      "source": [
        " ➢ Această schema se poate defini de dezolator după un anume format\n",
        "\n",
        " ➢ Pentru a dezactiva determinarea automata a tipurilor de date, la citire, se poate furniza schema\n",
        "\n",
        " ➢ Principalele tipuri de date din Spark (Lista completă: https://spark.apache.org/docs/latest/sql-ref-datatypes.html ):\n",
        "\n",
        "1. integer\n",
        "2. string\n",
        "3. float\n",
        "4. double\n",
        "5. boolean\n",
        "6. date\n",
        "7. timestamp\n",
        "8. array<tip element>\n",
        "9. map<tip cheie, tip valoare>\n",
        "10. struct<coloana1:tip 1, coloana2:tip 2,...>"
      ],
      "metadata": {
        "id": "FE7GEOciWEKz"
      }
    },
    {
      "cell_type": "markdown",
      "source": [
        "## Crearea unui Data Frame Spark dintr-o listă de Python."
      ],
      "metadata": {
        "id": "IUWlnNw-Fu4T"
      }
    },
    {
      "cell_type": "code",
      "source": [
        "data = [\n",
        "    ['Vali', 23, 'Programator', 4, None, ['Sport', 'Boardgames']],\n",
        "    ['Vlad', 34, 'Instalator', 11, None, ['Alergare']],\n",
        "    ['Bea', 29, 'Reporter', 7, True, None]\n",
        "]\n",
        "\n",
        "data_df_python = spark.createDataFrame(data)\n",
        "\n",
        "data_df_python.show()"
      ],
      "metadata": {
        "colab": {
          "base_uri": "https://localhost:8080/"
        },
        "id": "jQ27FyYXDEAq",
        "outputId": "1fe5bdbb-e087-4e3e-d15f-26452ceb91dd"
      },
      "execution_count": 27,
      "outputs": [
        {
          "output_type": "stream",
          "name": "stdout",
          "text": [
            "+----+---+-----------+---+----+-------------------+\n",
            "|  _1| _2|         _3| _4|  _5|                 _6|\n",
            "+----+---+-----------+---+----+-------------------+\n",
            "|Vali| 23|Programator|  4|NULL|[Sport, Boardgames]|\n",
            "|Vlad| 34| Instalator| 11|NULL|         [Alergare]|\n",
            "| Bea| 29|   Reporter|  7|true|               NULL|\n",
            "+----+---+-----------+---+----+-------------------+\n",
            "\n"
          ]
        }
      ]
    },
    {
      "cell_type": "markdown",
      "source": [
        "## Formatele JSON, Parquet și CSV\n",
        "\n",
        "În Big Data, în general, datele sunt stocate extern în unul sau mai multe formate. PySpark oferă metode\n",
        "pentru citirea celor mai populare și des utilizare formate, precum JSON, Parquet sau CSV."
      ],
      "metadata": {
        "id": "VTYxHFt_LoLA"
      }
    },
    {
      "cell_type": "markdown",
      "source": [
        "### Citirea fișierelor de tip JSON Lines."
      ],
      "metadata": {
        "id": "8tpt9_gxGbPc"
      }
    },
    {
      "cell_type": "code",
      "source": [
        "path_json = \"/content/drive/MyDrive/FP-EON/practice/IN/json\"\n",
        "data_df_json = spark.read.format('json').load(path_json)\n",
        "data_df_json.show()"
      ],
      "metadata": {
        "colab": {
          "base_uri": "https://localhost:8080/"
        },
        "id": "qTRg-VhZF-Mk",
        "outputId": "b2a49480-53d2-4628-dbbe-9c4602c77b0c"
      },
      "execution_count": 28,
      "outputs": [
        {
          "output_type": "stream",
          "name": "stdout",
          "text": [
            "+--------------------+-------+-----------+--------------------+------+-------+\n",
            "|               extra|inactiv|       nume|            ocupatie|varsta|vechime|\n",
            "+--------------------+-------+-----------+--------------------+------+-------+\n",
            "|            [PV, EV]|   NULL|     Andrei|Specialist marketing|    38|     13|\n",
            "|   [3D Printer, WII]|   NULL|  Alexandru|      Specialist HR |    34|      8|\n",
            "| [AC, EV, 5G Router]|   NULL|     Adrian|       Inginer civil|    45|     23|\n",
            "|              [XBOX]|   NULL|      Alin |   Vânzător  retail |    26|      2|\n",
            "|[5G Router, 3D Pr...|   NULL|      Anton|     Manager proiect|    40|     15|\n",
            "|            [EV, AC]|   NULL|        Ana|  Muncitor alimentar|    35|      9|\n",
            "|[PC, 3D Printer, AC]|  false|     Bogdan|           Farmacist|    50|     32|\n",
            "|                NULL|   true|  Cătălin  |        Medic primar|    20|      0|\n",
            "|      [AC, XBOX, PV]|   NULL|     Cosmin|           Farmacist|    49|     31|\n",
            "|[XBOX, 3D Printer...|  false|   Cristian|    Asistent  social|    44|     21|\n",
            "|[3D Printer, 3D P...|   NULL|    Gabriel|     Asistent social|    44|     21|\n",
            "|[3D Printer, AC, ...|  false|     George|     Agent imobiliar|    46|     25|\n",
            "|   [WII, 3D Printer]|   NULL|   Gheorghe|      Specialist HR |    34|      8|\n",
            "|[WII, 5G Router, ...|   NULL|    Grigore|    Asistent  social|    44|     21|\n",
            "|     [5G Router, PV]|   NULL|      Horia|           Arhitect |    42|     18|\n",
            "|                [PC]|   NULL|      Ilie |     Vânzător retail|    26|      2|\n",
            "|              [XBOX]|   NULL|       Ion |     Vânzător retail|    27|      2|\n",
            "|[EV, XBOX, 3D Pri...|   NULL|      Ionel|     Inginer  civil |    45|     23|\n",
            "|                NULL|   NULL|     Iosif |   Vânzător  retail |    26|      2|\n",
            "|      [PV, XBOX, AC]|  false|     Lucian|     Designer grafic|    49|     30|\n",
            "+--------------------+-------+-----------+--------------------+------+-------+\n",
            "only showing top 20 rows\n",
            "\n"
          ]
        }
      ]
    },
    {
      "cell_type": "markdown",
      "source": [
        "### Citirea fișierelor de tip Parquet."
      ],
      "metadata": {
        "id": "v3diZlQ6IVFm"
      }
    },
    {
      "cell_type": "code",
      "source": [
        "path_parquet = \"/content/drive/MyDrive/FP-EON/practice/IN/parquet\"\n",
        "data_df_parquet = spark.read.format('parquet').load(path_parquet)\n",
        "data_df_parquet.show()"
      ],
      "metadata": {
        "colab": {
          "base_uri": "https://localhost:8080/"
        },
        "id": "rYm0ZnAGISm9",
        "outputId": "133e7bd8-df9f-48dc-a484-b9b7c8f0ad89"
      },
      "execution_count": 29,
      "outputs": [
        {
          "output_type": "stream",
          "name": "stdout",
          "text": [
            "+------------+------+--------------------+-------+-------+--------------------+\n",
            "|        nume|varsta|            ocupatie|vechime|inactiv|               extra|\n",
            "+------------+------+--------------------+-------+-------+--------------------+\n",
            "|       Daria|    33|   Inginer  mecanic |      7|   NULL|                [EV]|\n",
            "|     Delia  |    20|        Medic primar|      0|   true|                NULL|\n",
            "|       Diana|    45|   Asistent  social |     23|   NULL|[XBOX, 3D Printer...|\n",
            "|       Doina|    37|Specialist  marke...|     11|   NULL|          [WII, PS5]|\n",
            "|      Elena |    25|            Contabil|      1|   NULL|                NULL|\n",
            "|     Eliza  |    23|          Instalator|      0|   NULL|                NULL|\n",
            "|     Emilia |    25|            Contabil|      1|   NULL|                NULL|\n",
            "|   Eugenia  |    24|        Programator |      1|   NULL|                NULL|\n",
            "|     Felicia|    34|      Specialist  HR|      8|   NULL|          [WII, PS5]|\n",
            "|    Florina |    28|               Șofer|      3|   NULL|                [EV]|\n",
            "|      Vasile|    40|     Manager proiect|     15|   NULL|            [AC, AC]|\n",
            "|      Victor|    42|            Arhitect|     18|   NULL|   [5G Router, XBOX]|\n",
            "|      Viorel|    50|          Farmacist |     32|  false|[PS5, 3D Printer,...|\n",
            "|  Vladimir  |    18|   Asistent  medical|      0|   true|                NULL|\n",
            "|     Voicu  |    22|          Instalator|      0|   NULL|                NULL|\n",
            "|      Zamfir|    46|       Inginer civil|     24|   NULL|[3D Printer, 3D P...|\n",
            "|  Alexandra |    29|Operator call center|      4|  false|                [PC]|\n",
            "|         Ana|    45|     Asistent social|     22|   NULL|[3D Printer, 5G R...|\n",
            "|       Alina|    44|    Asistent  social|     21|   NULL|      [PS5, AC, PS5]|\n",
            "|       Adela|    40|    Manager  proiect|     15|   NULL|    [3D Printer, PC]|\n",
            "+------------+------+--------------------+-------+-------+--------------------+\n",
            "only showing top 20 rows\n",
            "\n"
          ]
        }
      ]
    },
    {
      "cell_type": "markdown",
      "source": [
        "### Citirea fișierelor de tip CSV cu rând de Header."
      ],
      "metadata": {
        "id": "-baDcrDZJFnS"
      }
    },
    {
      "cell_type": "markdown",
      "source": [
        "Putem schimba și setările implicite de citire. De exemplu, implicit, Spark ignoră Header-ul din fișiere CSV."
      ],
      "metadata": {
        "id": "yCORGYmcJEiZ"
      }
    },
    {
      "cell_type": "code",
      "source": [
        "path_csv = 'path/to/folder/or/file'\n",
        "data_df_csv = spark.read.format('csv').option('header','true').load(path_csv)"
      ],
      "metadata": {
        "id": "wXqgE_gAIslB"
      },
      "execution_count": null,
      "outputs": []
    },
    {
      "cell_type": "markdown",
      "source": [
        "\n",
        "\n",
        "---\n",
        "\n",
        "\n",
        "# **Schema datelor**\n",
        "\n",
        "Întrucât Spark SQL a fost conceput pentru date structurate, el încearcă să determine tipurile de coloane, numită schema datelor, în mod automat, din sursele de date la citire. Acest proces nu este necesar pentru formate structurate ca Parquet, dar necesar pentru obiecte Python sau date semi-structurate, JSON și CSV."
      ],
      "metadata": {
        "id": "5DM5LKwyKd-O"
      }
    },
    {
      "cell_type": "markdown",
      "source": [
        "## Definirea unei scheme a datelor"
      ],
      "metadata": {
        "id": "JqAQej7FQwnt"
      }
    },
    {
      "cell_type": "markdown",
      "source": [
        "PySpark oferă un și un mod programatic de a defini o schemă a datelor:"
      ],
      "metadata": {
        "id": "QyO6IqktSDI0"
      }
    },
    {
      "cell_type": "code",
      "source": [
        "from pyspark.sql import types as types\n",
        "\n",
        "data_schema = T.StructType([\n",
        "    T.StructField('nume', T.StringType(), False),\n",
        "    T.StructField('varsta', T.IntegerType(), False),\n",
        "    T.StructField('ocupatie', T.StringType(), False),\n",
        "    T.StructField('vechime',T.IntegerType(),True),\n",
        "    T.StructField('inactiv', T.BooleanType(), True),\n",
        "    T.StructField('extra', T.ArrayType(T.StringType()), True)\n",
        "])"
      ],
      "metadata": {
        "id": "BjyEH_-_Psqo"
      },
      "execution_count": 30,
      "outputs": []
    },
    {
      "cell_type": "markdown",
      "source": [
        "Dacă se furnizează la citire schema, Spark va ignora sau pune NULL pe coloanele care nu se potrivesc sau nu există:"
      ],
      "metadata": {
        "id": "EEzj8ukrRq1T"
      }
    },
    {
      "cell_type": "code",
      "source": [
        "data_df = spark.createDataFrame(data, schema=data_schema)\n",
        "# or\n",
        "# data_df = spark.read.format('json').schema(data_schema).load('/path/to/folder/or/file')"
      ],
      "metadata": {
        "id": "vDBYWiyWRrsp"
      },
      "execution_count": 31,
      "outputs": []
    },
    {
      "cell_type": "markdown",
      "source": [
        "## Data Frame – Schema Datelor\n",
        "\n",
        "Fie prin detectare automată, fie prin furnizarea la citire, fiecare Data Frame va avea întotdeauna o structură a\n",
        "datelor foarte bine definită. Pentru fiecare coloană avem numele, tipul de dată și dacă se permit valori de ”NULL”."
      ],
      "metadata": {
        "id": "kIMiCC2sSU1s"
      }
    },
    {
      "cell_type": "markdown",
      "source": [
        "➢ Pentru a afișa structură a datelor / schema datelor pentru un Data Frame, folosim:"
      ],
      "metadata": {
        "id": "q5-f3qpLUhwn"
      }
    },
    {
      "cell_type": "code",
      "source": [
        "data_df.printSchema()"
      ],
      "metadata": {
        "colab": {
          "base_uri": "https://localhost:8080/"
        },
        "id": "HPu5wkzESW39",
        "outputId": "3ac9ac32-94c0-4b88-9460-cd2f2175ca41"
      },
      "execution_count": 33,
      "outputs": [
        {
          "output_type": "stream",
          "name": "stdout",
          "text": [
            "root\n",
            " |-- nume: string (nullable = false)\n",
            " |-- varsta: integer (nullable = false)\n",
            " |-- ocupatie: string (nullable = false)\n",
            " |-- vechime: integer (nullable = true)\n",
            " |-- inactiv: boolean (nullable = true)\n",
            " |-- extra: array (nullable = true)\n",
            " |    |-- element: string (containsNull = true)\n",
            "\n"
          ]
        }
      ]
    },
    {
      "cell_type": "markdown",
      "source": [
        "OBS: Dacă avem de lucrat cu date care nu au o schemă bine definită, fie date nestructurate, fie date semi-\n",
        "structurate cu multe abateri, atunci NU folosim Data Frame-ul din Spark SQL."
      ],
      "metadata": {
        "id": "RBuMemjtSmcD"
      }
    },
    {
      "cell_type": "markdown",
      "source": [
        "## Data Frame – Afișarea Datelor\n",
        "\n",
        "De multe ori ne găsim în situația în care este nevoie să depanăm procesul de transformare a datelor. Așadar, Spark\n",
        "ofertă metode pentru acest scop.\n"
      ],
      "metadata": {
        "id": "zN9GgzilS3we"
      }
    },
    {
      "cell_type": "markdown",
      "source": [
        "➢ Pentru a printa datele la consolă, folosim:"
      ],
      "metadata": {
        "id": "Lz8oW8YKUk7q"
      }
    },
    {
      "cell_type": "code",
      "source": [
        "data_df.show()"
      ],
      "metadata": {
        "colab": {
          "base_uri": "https://localhost:8080/"
        },
        "id": "fIbx_3caS99h",
        "outputId": "30bcd7e1-4244-4684-f302-e9fbe29c2c1a"
      },
      "execution_count": 36,
      "outputs": [
        {
          "output_type": "stream",
          "name": "stdout",
          "text": [
            "+----+------+-----------+-------+-------+-------------------+\n",
            "|nume|varsta|   ocupatie|vechime|inactiv|              extra|\n",
            "+----+------+-----------+-------+-------+-------------------+\n",
            "|Vali|    23|Programator|      4|   NULL|[Sport, Boardgames]|\n",
            "|Vlad|    34| Instalator|     11|   NULL|         [Alergare]|\n",
            "| Bea|    29|   Reporter|      7|   true|               NULL|\n",
            "+----+------+-----------+-------+-------+-------------------+\n",
            "\n"
          ]
        }
      ]
    },
    {
      "cell_type": "code",
      "source": [
        "display(data_df.toPandas())"
      ],
      "metadata": {
        "id": "Ddh7G_EkkipN",
        "outputId": "6efb9f96-d87e-49dc-c422-00a75f91ddee",
        "colab": {
          "base_uri": "https://localhost:8080/",
          "height": 143
        }
      },
      "execution_count": 35,
      "outputs": [
        {
          "output_type": "display_data",
          "data": {
            "text/plain": [
              "   nume  varsta     ocupatie  vechime inactiv                extra\n",
              "0  Vali      23  Programator        4    None  [Sport, Boardgames]\n",
              "1  Vlad      34   Instalator       11    None           [Alergare]\n",
              "2   Bea      29     Reporter        7    True                 None"
            ],
            "text/html": [
              "\n",
              "  <div id=\"df-44c5fadc-d451-49ce-9597-2045c10a83a5\" class=\"colab-df-container\">\n",
              "    <div>\n",
              "<style scoped>\n",
              "    .dataframe tbody tr th:only-of-type {\n",
              "        vertical-align: middle;\n",
              "    }\n",
              "\n",
              "    .dataframe tbody tr th {\n",
              "        vertical-align: top;\n",
              "    }\n",
              "\n",
              "    .dataframe thead th {\n",
              "        text-align: right;\n",
              "    }\n",
              "</style>\n",
              "<table border=\"1\" class=\"dataframe\">\n",
              "  <thead>\n",
              "    <tr style=\"text-align: right;\">\n",
              "      <th></th>\n",
              "      <th>nume</th>\n",
              "      <th>varsta</th>\n",
              "      <th>ocupatie</th>\n",
              "      <th>vechime</th>\n",
              "      <th>inactiv</th>\n",
              "      <th>extra</th>\n",
              "    </tr>\n",
              "  </thead>\n",
              "  <tbody>\n",
              "    <tr>\n",
              "      <th>0</th>\n",
              "      <td>Vali</td>\n",
              "      <td>23</td>\n",
              "      <td>Programator</td>\n",
              "      <td>4</td>\n",
              "      <td>None</td>\n",
              "      <td>[Sport, Boardgames]</td>\n",
              "    </tr>\n",
              "    <tr>\n",
              "      <th>1</th>\n",
              "      <td>Vlad</td>\n",
              "      <td>34</td>\n",
              "      <td>Instalator</td>\n",
              "      <td>11</td>\n",
              "      <td>None</td>\n",
              "      <td>[Alergare]</td>\n",
              "    </tr>\n",
              "    <tr>\n",
              "      <th>2</th>\n",
              "      <td>Bea</td>\n",
              "      <td>29</td>\n",
              "      <td>Reporter</td>\n",
              "      <td>7</td>\n",
              "      <td>True</td>\n",
              "      <td>None</td>\n",
              "    </tr>\n",
              "  </tbody>\n",
              "</table>\n",
              "</div>\n",
              "    <div class=\"colab-df-buttons\">\n",
              "\n",
              "  <div class=\"colab-df-container\">\n",
              "    <button class=\"colab-df-convert\" onclick=\"convertToInteractive('df-44c5fadc-d451-49ce-9597-2045c10a83a5')\"\n",
              "            title=\"Convert this dataframe to an interactive table.\"\n",
              "            style=\"display:none;\">\n",
              "\n",
              "  <svg xmlns=\"http://www.w3.org/2000/svg\" height=\"24px\" viewBox=\"0 -960 960 960\">\n",
              "    <path d=\"M120-120v-720h720v720H120Zm60-500h600v-160H180v160Zm220 220h160v-160H400v160Zm0 220h160v-160H400v160ZM180-400h160v-160H180v160Zm440 0h160v-160H620v160ZM180-180h160v-160H180v160Zm440 0h160v-160H620v160Z\"/>\n",
              "  </svg>\n",
              "    </button>\n",
              "\n",
              "  <style>\n",
              "    .colab-df-container {\n",
              "      display:flex;\n",
              "      gap: 12px;\n",
              "    }\n",
              "\n",
              "    .colab-df-convert {\n",
              "      background-color: #E8F0FE;\n",
              "      border: none;\n",
              "      border-radius: 50%;\n",
              "      cursor: pointer;\n",
              "      display: none;\n",
              "      fill: #1967D2;\n",
              "      height: 32px;\n",
              "      padding: 0 0 0 0;\n",
              "      width: 32px;\n",
              "    }\n",
              "\n",
              "    .colab-df-convert:hover {\n",
              "      background-color: #E2EBFA;\n",
              "      box-shadow: 0px 1px 2px rgba(60, 64, 67, 0.3), 0px 1px 3px 1px rgba(60, 64, 67, 0.15);\n",
              "      fill: #174EA6;\n",
              "    }\n",
              "\n",
              "    .colab-df-buttons div {\n",
              "      margin-bottom: 4px;\n",
              "    }\n",
              "\n",
              "    [theme=dark] .colab-df-convert {\n",
              "      background-color: #3B4455;\n",
              "      fill: #D2E3FC;\n",
              "    }\n",
              "\n",
              "    [theme=dark] .colab-df-convert:hover {\n",
              "      background-color: #434B5C;\n",
              "      box-shadow: 0px 1px 3px 1px rgba(0, 0, 0, 0.15);\n",
              "      filter: drop-shadow(0px 1px 2px rgba(0, 0, 0, 0.3));\n",
              "      fill: #FFFFFF;\n",
              "    }\n",
              "  </style>\n",
              "\n",
              "    <script>\n",
              "      const buttonEl =\n",
              "        document.querySelector('#df-44c5fadc-d451-49ce-9597-2045c10a83a5 button.colab-df-convert');\n",
              "      buttonEl.style.display =\n",
              "        google.colab.kernel.accessAllowed ? 'block' : 'none';\n",
              "\n",
              "      async function convertToInteractive(key) {\n",
              "        const element = document.querySelector('#df-44c5fadc-d451-49ce-9597-2045c10a83a5');\n",
              "        const dataTable =\n",
              "          await google.colab.kernel.invokeFunction('convertToInteractive',\n",
              "                                                    [key], {});\n",
              "        if (!dataTable) return;\n",
              "\n",
              "        const docLinkHtml = 'Like what you see? Visit the ' +\n",
              "          '<a target=\"_blank\" href=https://colab.research.google.com/notebooks/data_table.ipynb>data table notebook</a>'\n",
              "          + ' to learn more about interactive tables.';\n",
              "        element.innerHTML = '';\n",
              "        dataTable['output_type'] = 'display_data';\n",
              "        await google.colab.output.renderOutput(dataTable, element);\n",
              "        const docLink = document.createElement('div');\n",
              "        docLink.innerHTML = docLinkHtml;\n",
              "        element.appendChild(docLink);\n",
              "      }\n",
              "    </script>\n",
              "  </div>\n",
              "\n",
              "\n",
              "<div id=\"df-d03bea1b-a76b-4055-9c31-87030175203f\">\n",
              "  <button class=\"colab-df-quickchart\" onclick=\"quickchart('df-d03bea1b-a76b-4055-9c31-87030175203f')\"\n",
              "            title=\"Suggest charts\"\n",
              "            style=\"display:none;\">\n",
              "\n",
              "<svg xmlns=\"http://www.w3.org/2000/svg\" height=\"24px\"viewBox=\"0 0 24 24\"\n",
              "     width=\"24px\">\n",
              "    <g>\n",
              "        <path d=\"M19 3H5c-1.1 0-2 .9-2 2v14c0 1.1.9 2 2 2h14c1.1 0 2-.9 2-2V5c0-1.1-.9-2-2-2zM9 17H7v-7h2v7zm4 0h-2V7h2v10zm4 0h-2v-4h2v4z\"/>\n",
              "    </g>\n",
              "</svg>\n",
              "  </button>\n",
              "\n",
              "<style>\n",
              "  .colab-df-quickchart {\n",
              "      --bg-color: #E8F0FE;\n",
              "      --fill-color: #1967D2;\n",
              "      --hover-bg-color: #E2EBFA;\n",
              "      --hover-fill-color: #174EA6;\n",
              "      --disabled-fill-color: #AAA;\n",
              "      --disabled-bg-color: #DDD;\n",
              "  }\n",
              "\n",
              "  [theme=dark] .colab-df-quickchart {\n",
              "      --bg-color: #3B4455;\n",
              "      --fill-color: #D2E3FC;\n",
              "      --hover-bg-color: #434B5C;\n",
              "      --hover-fill-color: #FFFFFF;\n",
              "      --disabled-bg-color: #3B4455;\n",
              "      --disabled-fill-color: #666;\n",
              "  }\n",
              "\n",
              "  .colab-df-quickchart {\n",
              "    background-color: var(--bg-color);\n",
              "    border: none;\n",
              "    border-radius: 50%;\n",
              "    cursor: pointer;\n",
              "    display: none;\n",
              "    fill: var(--fill-color);\n",
              "    height: 32px;\n",
              "    padding: 0;\n",
              "    width: 32px;\n",
              "  }\n",
              "\n",
              "  .colab-df-quickchart:hover {\n",
              "    background-color: var(--hover-bg-color);\n",
              "    box-shadow: 0 1px 2px rgba(60, 64, 67, 0.3), 0 1px 3px 1px rgba(60, 64, 67, 0.15);\n",
              "    fill: var(--button-hover-fill-color);\n",
              "  }\n",
              "\n",
              "  .colab-df-quickchart-complete:disabled,\n",
              "  .colab-df-quickchart-complete:disabled:hover {\n",
              "    background-color: var(--disabled-bg-color);\n",
              "    fill: var(--disabled-fill-color);\n",
              "    box-shadow: none;\n",
              "  }\n",
              "\n",
              "  .colab-df-spinner {\n",
              "    border: 2px solid var(--fill-color);\n",
              "    border-color: transparent;\n",
              "    border-bottom-color: var(--fill-color);\n",
              "    animation:\n",
              "      spin 1s steps(1) infinite;\n",
              "  }\n",
              "\n",
              "  @keyframes spin {\n",
              "    0% {\n",
              "      border-color: transparent;\n",
              "      border-bottom-color: var(--fill-color);\n",
              "      border-left-color: var(--fill-color);\n",
              "    }\n",
              "    20% {\n",
              "      border-color: transparent;\n",
              "      border-left-color: var(--fill-color);\n",
              "      border-top-color: var(--fill-color);\n",
              "    }\n",
              "    30% {\n",
              "      border-color: transparent;\n",
              "      border-left-color: var(--fill-color);\n",
              "      border-top-color: var(--fill-color);\n",
              "      border-right-color: var(--fill-color);\n",
              "    }\n",
              "    40% {\n",
              "      border-color: transparent;\n",
              "      border-right-color: var(--fill-color);\n",
              "      border-top-color: var(--fill-color);\n",
              "    }\n",
              "    60% {\n",
              "      border-color: transparent;\n",
              "      border-right-color: var(--fill-color);\n",
              "    }\n",
              "    80% {\n",
              "      border-color: transparent;\n",
              "      border-right-color: var(--fill-color);\n",
              "      border-bottom-color: var(--fill-color);\n",
              "    }\n",
              "    90% {\n",
              "      border-color: transparent;\n",
              "      border-bottom-color: var(--fill-color);\n",
              "    }\n",
              "  }\n",
              "</style>\n",
              "\n",
              "  <script>\n",
              "    async function quickchart(key) {\n",
              "      const quickchartButtonEl =\n",
              "        document.querySelector('#' + key + ' button');\n",
              "      quickchartButtonEl.disabled = true;  // To prevent multiple clicks.\n",
              "      quickchartButtonEl.classList.add('colab-df-spinner');\n",
              "      try {\n",
              "        const charts = await google.colab.kernel.invokeFunction(\n",
              "            'suggestCharts', [key], {});\n",
              "      } catch (error) {\n",
              "        console.error('Error during call to suggestCharts:', error);\n",
              "      }\n",
              "      quickchartButtonEl.classList.remove('colab-df-spinner');\n",
              "      quickchartButtonEl.classList.add('colab-df-quickchart-complete');\n",
              "    }\n",
              "    (() => {\n",
              "      let quickchartButtonEl =\n",
              "        document.querySelector('#df-d03bea1b-a76b-4055-9c31-87030175203f button');\n",
              "      quickchartButtonEl.style.display =\n",
              "        google.colab.kernel.accessAllowed ? 'block' : 'none';\n",
              "    })();\n",
              "  </script>\n",
              "</div>\n",
              "\n",
              "    </div>\n",
              "  </div>\n"
            ],
            "application/vnd.google.colaboratory.intrinsic+json": {
              "type": "dataframe",
              "summary": "{\n  \"name\": \"display(data_df\",\n  \"rows\": 3,\n  \"fields\": [\n    {\n      \"column\": \"nume\",\n      \"properties\": {\n        \"dtype\": \"string\",\n        \"num_unique_values\": 3,\n        \"samples\": [\n          \"Vali\",\n          \"Vlad\",\n          \"Bea\"\n        ],\n        \"semantic_type\": \"\",\n        \"description\": \"\"\n      }\n    },\n    {\n      \"column\": \"varsta\",\n      \"properties\": {\n        \"dtype\": \"int32\",\n        \"num_unique_values\": 3,\n        \"samples\": [\n          23,\n          34,\n          29\n        ],\n        \"semantic_type\": \"\",\n        \"description\": \"\"\n      }\n    },\n    {\n      \"column\": \"ocupatie\",\n      \"properties\": {\n        \"dtype\": \"string\",\n        \"num_unique_values\": 3,\n        \"samples\": [\n          \"Programator\",\n          \"Instalator\",\n          \"Reporter\"\n        ],\n        \"semantic_type\": \"\",\n        \"description\": \"\"\n      }\n    },\n    {\n      \"column\": \"vechime\",\n      \"properties\": {\n        \"dtype\": \"int32\",\n        \"num_unique_values\": 3,\n        \"samples\": [\n          4,\n          11,\n          7\n        ],\n        \"semantic_type\": \"\",\n        \"description\": \"\"\n      }\n    },\n    {\n      \"column\": \"inactiv\",\n      \"properties\": {\n        \"dtype\": \"category\",\n        \"num_unique_values\": 1,\n        \"samples\": [\n          true\n        ],\n        \"semantic_type\": \"\",\n        \"description\": \"\"\n      }\n    },\n    {\n      \"column\": \"extra\",\n      \"properties\": {\n        \"dtype\": \"object\",\n        \"semantic_type\": \"\",\n        \"description\": \"\"\n      }\n    }\n  ]\n}"
            }
          },
          "metadata": {}
        }
      ]
    },
    {
      "cell_type": "markdown",
      "source": [
        "**Atenție!**\n",
        "\n",
        "Datele sunt transferate mai întâi de la executori pe Spark Driver înainte de afișare, așadar această\n",
        "metodă limitează numărul de date afișate pentru a evita prăbușirea mașinii principale."
      ],
      "metadata": {
        "id": "2ifYPWpjTUfd"
      }
    },
    {
      "cell_type": "markdown",
      "source": [
        "## Data Frame – Colectarea Datelor\n",
        "\n",
        "Alte metode pe care Spark le ofertă, nu numai pentru depănarea datelor, dar și pentru rarele situații când am redus datele și vrem să prelucrăm cu alte librării, sunt cele de colectare a datelor în obiecte de Python pe mașina Master."
      ],
      "metadata": {
        "id": "kDdyMuo_TzZx"
      }
    },
    {
      "cell_type": "markdown",
      "source": [
        "➢ Pentru a colecta datele într-o listă de Python, folosim:"
      ],
      "metadata": {
        "id": "0sM4HNnrT_oS"
      }
    },
    {
      "cell_type": "code",
      "source": [
        "data_list = data_df.collect()\n",
        "display(data_list)"
      ],
      "metadata": {
        "id": "_q-EsvP9UAet",
        "outputId": "65933636-0fed-41d9-e4bd-80b8ac65dc90",
        "colab": {
          "base_uri": "https://localhost:8080/",
          "height": 69
        }
      },
      "execution_count": 38,
      "outputs": [
        {
          "output_type": "display_data",
          "data": {
            "text/plain": [
              "[Row(nume='Vali', varsta=23, ocupatie='Programator', vechime=4, inactiv=None, extra=['Sport', 'Boardgames']),\n",
              " Row(nume='Vlad', varsta=34, ocupatie='Instalator', vechime=11, inactiv=None, extra=['Alergare']),\n",
              " Row(nume='Bea', varsta=29, ocupatie='Reporter', vechime=7, inactiv=True, extra=None)]"
            ]
          },
          "metadata": {}
        }
      ]
    },
    {
      "cell_type": "markdown",
      "source": [
        "➢ Pentru a colecta datele într-un obiect de Data Frame, dar a librăriei Pandas, folosim:"
      ],
      "metadata": {
        "id": "GKSptjGfUGuy"
      }
    },
    {
      "cell_type": "code",
      "source": [
        "data_pandas_pdf = data_df.toPandas()\n",
        "display(data_pandas_pdf)"
      ],
      "metadata": {
        "id": "YaTMaiLJUIcr",
        "outputId": "40b237b6-014d-4e1c-92ee-cc9dad729d47",
        "colab": {
          "base_uri": "https://localhost:8080/",
          "height": 143
        }
      },
      "execution_count": 41,
      "outputs": [
        {
          "output_type": "display_data",
          "data": {
            "text/plain": [
              "   nume  varsta     ocupatie  vechime inactiv                extra\n",
              "0  Vali      23  Programator        4    None  [Sport, Boardgames]\n",
              "1  Vlad      34   Instalator       11    None           [Alergare]\n",
              "2   Bea      29     Reporter        7    True                 None"
            ],
            "text/html": [
              "\n",
              "  <div id=\"df-a9fcf2e2-f631-4a89-a2b1-0a2cb435de7e\" class=\"colab-df-container\">\n",
              "    <div>\n",
              "<style scoped>\n",
              "    .dataframe tbody tr th:only-of-type {\n",
              "        vertical-align: middle;\n",
              "    }\n",
              "\n",
              "    .dataframe tbody tr th {\n",
              "        vertical-align: top;\n",
              "    }\n",
              "\n",
              "    .dataframe thead th {\n",
              "        text-align: right;\n",
              "    }\n",
              "</style>\n",
              "<table border=\"1\" class=\"dataframe\">\n",
              "  <thead>\n",
              "    <tr style=\"text-align: right;\">\n",
              "      <th></th>\n",
              "      <th>nume</th>\n",
              "      <th>varsta</th>\n",
              "      <th>ocupatie</th>\n",
              "      <th>vechime</th>\n",
              "      <th>inactiv</th>\n",
              "      <th>extra</th>\n",
              "    </tr>\n",
              "  </thead>\n",
              "  <tbody>\n",
              "    <tr>\n",
              "      <th>0</th>\n",
              "      <td>Vali</td>\n",
              "      <td>23</td>\n",
              "      <td>Programator</td>\n",
              "      <td>4</td>\n",
              "      <td>None</td>\n",
              "      <td>[Sport, Boardgames]</td>\n",
              "    </tr>\n",
              "    <tr>\n",
              "      <th>1</th>\n",
              "      <td>Vlad</td>\n",
              "      <td>34</td>\n",
              "      <td>Instalator</td>\n",
              "      <td>11</td>\n",
              "      <td>None</td>\n",
              "      <td>[Alergare]</td>\n",
              "    </tr>\n",
              "    <tr>\n",
              "      <th>2</th>\n",
              "      <td>Bea</td>\n",
              "      <td>29</td>\n",
              "      <td>Reporter</td>\n",
              "      <td>7</td>\n",
              "      <td>True</td>\n",
              "      <td>None</td>\n",
              "    </tr>\n",
              "  </tbody>\n",
              "</table>\n",
              "</div>\n",
              "    <div class=\"colab-df-buttons\">\n",
              "\n",
              "  <div class=\"colab-df-container\">\n",
              "    <button class=\"colab-df-convert\" onclick=\"convertToInteractive('df-a9fcf2e2-f631-4a89-a2b1-0a2cb435de7e')\"\n",
              "            title=\"Convert this dataframe to an interactive table.\"\n",
              "            style=\"display:none;\">\n",
              "\n",
              "  <svg xmlns=\"http://www.w3.org/2000/svg\" height=\"24px\" viewBox=\"0 -960 960 960\">\n",
              "    <path d=\"M120-120v-720h720v720H120Zm60-500h600v-160H180v160Zm220 220h160v-160H400v160Zm0 220h160v-160H400v160ZM180-400h160v-160H180v160Zm440 0h160v-160H620v160ZM180-180h160v-160H180v160Zm440 0h160v-160H620v160Z\"/>\n",
              "  </svg>\n",
              "    </button>\n",
              "\n",
              "  <style>\n",
              "    .colab-df-container {\n",
              "      display:flex;\n",
              "      gap: 12px;\n",
              "    }\n",
              "\n",
              "    .colab-df-convert {\n",
              "      background-color: #E8F0FE;\n",
              "      border: none;\n",
              "      border-radius: 50%;\n",
              "      cursor: pointer;\n",
              "      display: none;\n",
              "      fill: #1967D2;\n",
              "      height: 32px;\n",
              "      padding: 0 0 0 0;\n",
              "      width: 32px;\n",
              "    }\n",
              "\n",
              "    .colab-df-convert:hover {\n",
              "      background-color: #E2EBFA;\n",
              "      box-shadow: 0px 1px 2px rgba(60, 64, 67, 0.3), 0px 1px 3px 1px rgba(60, 64, 67, 0.15);\n",
              "      fill: #174EA6;\n",
              "    }\n",
              "\n",
              "    .colab-df-buttons div {\n",
              "      margin-bottom: 4px;\n",
              "    }\n",
              "\n",
              "    [theme=dark] .colab-df-convert {\n",
              "      background-color: #3B4455;\n",
              "      fill: #D2E3FC;\n",
              "    }\n",
              "\n",
              "    [theme=dark] .colab-df-convert:hover {\n",
              "      background-color: #434B5C;\n",
              "      box-shadow: 0px 1px 3px 1px rgba(0, 0, 0, 0.15);\n",
              "      filter: drop-shadow(0px 1px 2px rgba(0, 0, 0, 0.3));\n",
              "      fill: #FFFFFF;\n",
              "    }\n",
              "  </style>\n",
              "\n",
              "    <script>\n",
              "      const buttonEl =\n",
              "        document.querySelector('#df-a9fcf2e2-f631-4a89-a2b1-0a2cb435de7e button.colab-df-convert');\n",
              "      buttonEl.style.display =\n",
              "        google.colab.kernel.accessAllowed ? 'block' : 'none';\n",
              "\n",
              "      async function convertToInteractive(key) {\n",
              "        const element = document.querySelector('#df-a9fcf2e2-f631-4a89-a2b1-0a2cb435de7e');\n",
              "        const dataTable =\n",
              "          await google.colab.kernel.invokeFunction('convertToInteractive',\n",
              "                                                    [key], {});\n",
              "        if (!dataTable) return;\n",
              "\n",
              "        const docLinkHtml = 'Like what you see? Visit the ' +\n",
              "          '<a target=\"_blank\" href=https://colab.research.google.com/notebooks/data_table.ipynb>data table notebook</a>'\n",
              "          + ' to learn more about interactive tables.';\n",
              "        element.innerHTML = '';\n",
              "        dataTable['output_type'] = 'display_data';\n",
              "        await google.colab.output.renderOutput(dataTable, element);\n",
              "        const docLink = document.createElement('div');\n",
              "        docLink.innerHTML = docLinkHtml;\n",
              "        element.appendChild(docLink);\n",
              "      }\n",
              "    </script>\n",
              "  </div>\n",
              "\n",
              "\n",
              "<div id=\"df-bfd81629-15be-49cc-b4a3-625438204e09\">\n",
              "  <button class=\"colab-df-quickchart\" onclick=\"quickchart('df-bfd81629-15be-49cc-b4a3-625438204e09')\"\n",
              "            title=\"Suggest charts\"\n",
              "            style=\"display:none;\">\n",
              "\n",
              "<svg xmlns=\"http://www.w3.org/2000/svg\" height=\"24px\"viewBox=\"0 0 24 24\"\n",
              "     width=\"24px\">\n",
              "    <g>\n",
              "        <path d=\"M19 3H5c-1.1 0-2 .9-2 2v14c0 1.1.9 2 2 2h14c1.1 0 2-.9 2-2V5c0-1.1-.9-2-2-2zM9 17H7v-7h2v7zm4 0h-2V7h2v10zm4 0h-2v-4h2v4z\"/>\n",
              "    </g>\n",
              "</svg>\n",
              "  </button>\n",
              "\n",
              "<style>\n",
              "  .colab-df-quickchart {\n",
              "      --bg-color: #E8F0FE;\n",
              "      --fill-color: #1967D2;\n",
              "      --hover-bg-color: #E2EBFA;\n",
              "      --hover-fill-color: #174EA6;\n",
              "      --disabled-fill-color: #AAA;\n",
              "      --disabled-bg-color: #DDD;\n",
              "  }\n",
              "\n",
              "  [theme=dark] .colab-df-quickchart {\n",
              "      --bg-color: #3B4455;\n",
              "      --fill-color: #D2E3FC;\n",
              "      --hover-bg-color: #434B5C;\n",
              "      --hover-fill-color: #FFFFFF;\n",
              "      --disabled-bg-color: #3B4455;\n",
              "      --disabled-fill-color: #666;\n",
              "  }\n",
              "\n",
              "  .colab-df-quickchart {\n",
              "    background-color: var(--bg-color);\n",
              "    border: none;\n",
              "    border-radius: 50%;\n",
              "    cursor: pointer;\n",
              "    display: none;\n",
              "    fill: var(--fill-color);\n",
              "    height: 32px;\n",
              "    padding: 0;\n",
              "    width: 32px;\n",
              "  }\n",
              "\n",
              "  .colab-df-quickchart:hover {\n",
              "    background-color: var(--hover-bg-color);\n",
              "    box-shadow: 0 1px 2px rgba(60, 64, 67, 0.3), 0 1px 3px 1px rgba(60, 64, 67, 0.15);\n",
              "    fill: var(--button-hover-fill-color);\n",
              "  }\n",
              "\n",
              "  .colab-df-quickchart-complete:disabled,\n",
              "  .colab-df-quickchart-complete:disabled:hover {\n",
              "    background-color: var(--disabled-bg-color);\n",
              "    fill: var(--disabled-fill-color);\n",
              "    box-shadow: none;\n",
              "  }\n",
              "\n",
              "  .colab-df-spinner {\n",
              "    border: 2px solid var(--fill-color);\n",
              "    border-color: transparent;\n",
              "    border-bottom-color: var(--fill-color);\n",
              "    animation:\n",
              "      spin 1s steps(1) infinite;\n",
              "  }\n",
              "\n",
              "  @keyframes spin {\n",
              "    0% {\n",
              "      border-color: transparent;\n",
              "      border-bottom-color: var(--fill-color);\n",
              "      border-left-color: var(--fill-color);\n",
              "    }\n",
              "    20% {\n",
              "      border-color: transparent;\n",
              "      border-left-color: var(--fill-color);\n",
              "      border-top-color: var(--fill-color);\n",
              "    }\n",
              "    30% {\n",
              "      border-color: transparent;\n",
              "      border-left-color: var(--fill-color);\n",
              "      border-top-color: var(--fill-color);\n",
              "      border-right-color: var(--fill-color);\n",
              "    }\n",
              "    40% {\n",
              "      border-color: transparent;\n",
              "      border-right-color: var(--fill-color);\n",
              "      border-top-color: var(--fill-color);\n",
              "    }\n",
              "    60% {\n",
              "      border-color: transparent;\n",
              "      border-right-color: var(--fill-color);\n",
              "    }\n",
              "    80% {\n",
              "      border-color: transparent;\n",
              "      border-right-color: var(--fill-color);\n",
              "      border-bottom-color: var(--fill-color);\n",
              "    }\n",
              "    90% {\n",
              "      border-color: transparent;\n",
              "      border-bottom-color: var(--fill-color);\n",
              "    }\n",
              "  }\n",
              "</style>\n",
              "\n",
              "  <script>\n",
              "    async function quickchart(key) {\n",
              "      const quickchartButtonEl =\n",
              "        document.querySelector('#' + key + ' button');\n",
              "      quickchartButtonEl.disabled = true;  // To prevent multiple clicks.\n",
              "      quickchartButtonEl.classList.add('colab-df-spinner');\n",
              "      try {\n",
              "        const charts = await google.colab.kernel.invokeFunction(\n",
              "            'suggestCharts', [key], {});\n",
              "      } catch (error) {\n",
              "        console.error('Error during call to suggestCharts:', error);\n",
              "      }\n",
              "      quickchartButtonEl.classList.remove('colab-df-spinner');\n",
              "      quickchartButtonEl.classList.add('colab-df-quickchart-complete');\n",
              "    }\n",
              "    (() => {\n",
              "      let quickchartButtonEl =\n",
              "        document.querySelector('#df-bfd81629-15be-49cc-b4a3-625438204e09 button');\n",
              "      quickchartButtonEl.style.display =\n",
              "        google.colab.kernel.accessAllowed ? 'block' : 'none';\n",
              "    })();\n",
              "  </script>\n",
              "</div>\n",
              "\n",
              "  <div id=\"id_1a558d27-7bfc-43e9-afff-2d626e4ce557\">\n",
              "    <style>\n",
              "      .colab-df-generate {\n",
              "        background-color: #E8F0FE;\n",
              "        border: none;\n",
              "        border-radius: 50%;\n",
              "        cursor: pointer;\n",
              "        display: none;\n",
              "        fill: #1967D2;\n",
              "        height: 32px;\n",
              "        padding: 0 0 0 0;\n",
              "        width: 32px;\n",
              "      }\n",
              "\n",
              "      .colab-df-generate:hover {\n",
              "        background-color: #E2EBFA;\n",
              "        box-shadow: 0px 1px 2px rgba(60, 64, 67, 0.3), 0px 1px 3px 1px rgba(60, 64, 67, 0.15);\n",
              "        fill: #174EA6;\n",
              "      }\n",
              "\n",
              "      [theme=dark] .colab-df-generate {\n",
              "        background-color: #3B4455;\n",
              "        fill: #D2E3FC;\n",
              "      }\n",
              "\n",
              "      [theme=dark] .colab-df-generate:hover {\n",
              "        background-color: #434B5C;\n",
              "        box-shadow: 0px 1px 3px 1px rgba(0, 0, 0, 0.15);\n",
              "        filter: drop-shadow(0px 1px 2px rgba(0, 0, 0, 0.3));\n",
              "        fill: #FFFFFF;\n",
              "      }\n",
              "    </style>\n",
              "    <button class=\"colab-df-generate\" onclick=\"generateWithVariable('data_pandas_pdf')\"\n",
              "            title=\"Generate code using this dataframe.\"\n",
              "            style=\"display:none;\">\n",
              "\n",
              "  <svg xmlns=\"http://www.w3.org/2000/svg\" height=\"24px\"viewBox=\"0 0 24 24\"\n",
              "       width=\"24px\">\n",
              "    <path d=\"M7,19H8.4L18.45,9,17,7.55,7,17.6ZM5,21V16.75L18.45,3.32a2,2,0,0,1,2.83,0l1.4,1.43a1.91,1.91,0,0,1,.58,1.4,1.91,1.91,0,0,1-.58,1.4L9.25,21ZM18.45,9,17,7.55Zm-12,3A5.31,5.31,0,0,0,4.9,8.1,5.31,5.31,0,0,0,1,6.5,5.31,5.31,0,0,0,4.9,4.9,5.31,5.31,0,0,0,6.5,1,5.31,5.31,0,0,0,8.1,4.9,5.31,5.31,0,0,0,12,6.5,5.46,5.46,0,0,0,6.5,12Z\"/>\n",
              "  </svg>\n",
              "    </button>\n",
              "    <script>\n",
              "      (() => {\n",
              "      const buttonEl =\n",
              "        document.querySelector('#id_1a558d27-7bfc-43e9-afff-2d626e4ce557 button.colab-df-generate');\n",
              "      buttonEl.style.display =\n",
              "        google.colab.kernel.accessAllowed ? 'block' : 'none';\n",
              "\n",
              "      buttonEl.onclick = () => {\n",
              "        google.colab.notebook.generateWithVariable('data_pandas_pdf');\n",
              "      }\n",
              "      })();\n",
              "    </script>\n",
              "  </div>\n",
              "\n",
              "    </div>\n",
              "  </div>\n"
            ],
            "application/vnd.google.colaboratory.intrinsic+json": {
              "type": "dataframe",
              "variable_name": "data_pandas_pdf",
              "summary": "{\n  \"name\": \"data_pandas_pdf\",\n  \"rows\": 3,\n  \"fields\": [\n    {\n      \"column\": \"nume\",\n      \"properties\": {\n        \"dtype\": \"string\",\n        \"num_unique_values\": 3,\n        \"samples\": [\n          \"Vali\",\n          \"Vlad\",\n          \"Bea\"\n        ],\n        \"semantic_type\": \"\",\n        \"description\": \"\"\n      }\n    },\n    {\n      \"column\": \"varsta\",\n      \"properties\": {\n        \"dtype\": \"int32\",\n        \"num_unique_values\": 3,\n        \"samples\": [\n          23,\n          34,\n          29\n        ],\n        \"semantic_type\": \"\",\n        \"description\": \"\"\n      }\n    },\n    {\n      \"column\": \"ocupatie\",\n      \"properties\": {\n        \"dtype\": \"string\",\n        \"num_unique_values\": 3,\n        \"samples\": [\n          \"Programator\",\n          \"Instalator\",\n          \"Reporter\"\n        ],\n        \"semantic_type\": \"\",\n        \"description\": \"\"\n      }\n    },\n    {\n      \"column\": \"vechime\",\n      \"properties\": {\n        \"dtype\": \"int32\",\n        \"num_unique_values\": 3,\n        \"samples\": [\n          4,\n          11,\n          7\n        ],\n        \"semantic_type\": \"\",\n        \"description\": \"\"\n      }\n    },\n    {\n      \"column\": \"inactiv\",\n      \"properties\": {\n        \"dtype\": \"category\",\n        \"num_unique_values\": 1,\n        \"samples\": [\n          true\n        ],\n        \"semantic_type\": \"\",\n        \"description\": \"\"\n      }\n    },\n    {\n      \"column\": \"extra\",\n      \"properties\": {\n        \"dtype\": \"object\",\n        \"semantic_type\": \"\",\n        \"description\": \"\"\n      }\n    }\n  ]\n}"
            }
          },
          "metadata": {}
        }
      ]
    },
    {
      "cell_type": "markdown",
      "source": [
        "**Atenție!**\n",
        "\n",
        "Datele sunt transferate mai întâi de la executori pe Spark Driver la colectare. Dacă sunt prea multe\n",
        "date, există pericolul ca procesul de Spark Driver să nu mai facă față și să fie terminat de către sistem."
      ],
      "metadata": {
        "id": "rmr_11wBULUL"
      }
    },
    {
      "cell_type": "markdown",
      "source": [
        "## Scrierea Datelor\n",
        "\n",
        "În Big Data, după procesare, datele sunt stocate extern în unul sau mai multe formate. PySpark oferă metode pentru scrierea celor mai populare și des utilizare formate."
      ],
      "metadata": {
        "id": "70UMLW2xU4FL"
      }
    },
    {
      "cell_type": "markdown",
      "source": [
        "➢ Scrierea fișierelor de tip Parquet."
      ],
      "metadata": {
        "id": "jcjFJKnDVFKy"
      }
    },
    {
      "cell_type": "code",
      "source": [
        "data_df.write.format('parquet').save('/path/to/save/folder')"
      ],
      "metadata": {
        "id": "kkcCes3sVGwE"
      },
      "execution_count": null,
      "outputs": []
    },
    {
      "cell_type": "markdown",
      "source": [
        "➢ Scrierea fișierelor de tip JSON Lines.\n"
      ],
      "metadata": {
        "id": "4y9ndtOTU-CT"
      }
    },
    {
      "cell_type": "code",
      "source": [
        "data_df.write.format('json').save('/path/to/save/folder/')"
      ],
      "metadata": {
        "id": "iDBj-6O7U_rH"
      },
      "execution_count": null,
      "outputs": []
    },
    {
      "cell_type": "markdown",
      "source": [
        "Putem schimba și setările implicite de citire. De exemplu, implicit, Spark nu scrie Header-ul în fișiere CSV.\n",
        "\n",
        "➢ Scrierea fișierelor de tip CSV cu rând de Header."
      ],
      "metadata": {
        "id": "SN7FnFLLVrk8"
      }
    },
    {
      "cell_type": "code",
      "source": [
        "data_df.write.format('csv').option('header', 'true').save('/path/to/save/folder')"
      ],
      "metadata": {
        "id": "7u6bvNuoVuKa"
      },
      "execution_count": null,
      "outputs": []
    },
    {
      "cell_type": "markdown",
      "source": [
        "OBS: Dacă avem mai multe setări, adăugăm la lanț câte un apel la funcția option pentru fiecare setare. O listă cu toate opțiunile disponibile pentru fiecare format găsiți la https://spark.apache.org/docs/latest/sql-data-sources.html."
      ],
      "metadata": {
        "id": "Lh_XOdglVxvy"
      }
    }
  ]
}