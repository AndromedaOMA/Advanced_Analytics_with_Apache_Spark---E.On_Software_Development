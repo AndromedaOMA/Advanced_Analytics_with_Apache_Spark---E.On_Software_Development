{
  "nbformat": 4,
  "nbformat_minor": 0,
  "metadata": {
    "colab": {
      "provenance": [],
      "authorship_tag": "ABX9TyMOeuIMAEtUTaNwgqMAJpzv",
      "include_colab_link": true
    },
    "kernelspec": {
      "name": "python3",
      "display_name": "Python 3"
    },
    "language_info": {
      "name": "python"
    }
  },
  "cells": [
    {
      "cell_type": "markdown",
      "metadata": {
        "id": "view-in-github",
        "colab_type": "text"
      },
      "source": [
        "<a href=\"https://colab.research.google.com/github/AndromedaOMA/Advanced_Analytics_with_Apache_Spark---E.On_Software_Development/blob/main/Final_Project.ipynb\" target=\"_parent\"><img src=\"https://colab.research.google.com/assets/colab-badge.svg\" alt=\"Open In Colab\"/></a>"
      ]
    },
    {
      "cell_type": "markdown",
      "source": [
        "# Descriere proiect"
      ],
      "metadata": {
        "id": "tZeome76utxh"
      }
    },
    {
      "cell_type": "markdown",
      "source": [
        "Acest proiect are ca scop principal analiza consumului de energie al unui grup de consumatori fictivi, pe parcursul unui an, a unei companii de energie, folosind tehnicile de analiză din motorul Apache Spark.\n",
        "\n",
        "1. Primul set de date reflectă atât consumul total de energie, cât și detalii specifice, dacă există, despre producția din panouri solare, consumul pentru vehicule electrice (EV), energia furnizată înapoi către rețeaua electrică, consumul și încărcarea bateriilor.\n",
        "2. Al doilea set de date oferă atât tariful pe an și prețurile per kWh în diferite intervale de timp, unice pentru fiecare client în parte, cât și prețul de vânzare la nivelul companiei de energie pe diferite intervale de timp.\n",
        "\n",
        "Proiectul implică curățarea și prelucrarea datelor, completarea valorilor lipsă, iar la final calculul facturii de energie, bonus fiind compararea facturii cu alți clienți similari.\n",
        "\n"
      ],
      "metadata": {
        "id": "VF4AFtmMvGn0"
      }
    },
    {
      "cell_type": "markdown",
      "source": [
        "---\n",
        "\n",
        "# Seturile de date"
      ],
      "metadata": {
        "id": "LcEJ47LQvJkD"
      }
    },
    {
      "cell_type": "markdown",
      "source": [
        "## Pregătire mediu de lucru"
      ],
      "metadata": {
        "id": "K31gZUBzvpwK"
      }
    },
    {
      "cell_type": "code",
      "source": [
        "from google.colab import drive\n",
        "# drive.mount('/content/drive')\n",
        "drive.mount(\"/content/drive\", force_remount=True)"
      ],
      "metadata": {
        "id": "faYdKEGtvsHD",
        "outputId": "f716c2c2-3fd9-44f8-baec-a34a5fa2970e",
        "colab": {
          "base_uri": "https://localhost:8080/"
        }
      },
      "execution_count": 1,
      "outputs": [
        {
          "output_type": "stream",
          "name": "stdout",
          "text": [
            "Mounted at /content/drive\n"
          ]
        }
      ]
    },
    {
      "cell_type": "code",
      "source": [
        "!sudo apt update\n",
        "!apt-get install openjdk-8-jdk-headless -qq > /dev/null\n",
        "#Check this site for the latest download link https://dlcdn.apache.org/spark/\n",
        "!wget -q https://dlcdn.apache.org/spark/spark-3.4.4/spark-3.4.4-bin-hadoop3.tgz\n",
        "!tar xf spark-3.4.4-bin-hadoop3.tgz\n",
        "!pip install -q findspark\n",
        "!pip install pyspark\n",
        "!pip install py4j\n",
        "import os\n",
        "import sys\n",
        "# os.environ[\"JAVA_HOME\"] = \"/usr/lib/jvm/java-8-openjdk-amd64\"\n",
        "# os.environ[\"SPARK_HOME\"] = \"/content/spark-3.4.4-bin-hadoop3\"\n",
        "import findspark\n",
        "findspark.init()\n",
        "findspark.find()\n",
        "import pyspark\n",
        "\n",
        "from pyspark.sql import DataFrame, SparkSession\n",
        "from typing import List\n",
        "import pyspark.sql.types as T\n",
        "import pyspark.sql.functions as f\n",
        "spark= SparkSession.builder.getOrCreate()\n",
        "spark"
      ],
      "metadata": {
        "id": "H2TC5acRvxIE",
        "outputId": "7d2cdac3-1af6-4e24-d65c-94cf25304131",
        "colab": {
          "base_uri": "https://localhost:8080/",
          "height": 708
        }
      },
      "execution_count": 2,
      "outputs": [
        {
          "output_type": "stream",
          "name": "stdout",
          "text": [
            "\u001b[33m\r0% [Working]\u001b[0m\r            \rHit:1 http://archive.ubuntu.com/ubuntu jammy InRelease\n",
            "\u001b[33m\r0% [Connecting to security.ubuntu.com (91.189.91.83)] [Connected to cloud.r-pro\u001b[0m\r                                                                               \rGet:2 http://archive.ubuntu.com/ubuntu jammy-updates InRelease [128 kB]\n",
            "\u001b[33m\r0% [Waiting for headers] [Waiting for headers] [Connected to cloud.r-project.or\u001b[0m\r                                                                               \rHit:3 http://archive.ubuntu.com/ubuntu jammy-backports InRelease\n",
            "\u001b[33m\r0% [Waiting for headers] [Connected to cloud.r-project.org (65.9.86.28)] [Conne\u001b[0m\r                                                                               \rGet:4 https://developer.download.nvidia.com/compute/cuda/repos/ubuntu2204/x86_64  InRelease [1,581 B]\n",
            "\u001b[33m\r0% [Waiting for headers] [Connected to cloud.r-project.org (65.9.86.28)] [Conne\u001b[0m\u001b[33m\r0% [Waiting for headers] [Connected to cloud.r-project.org (65.9.86.28)] [Conne\u001b[0m\r                                                                               \rGet:5 https://cloud.r-project.org/bin/linux/ubuntu jammy-cran40/ InRelease [3,632 B]\n",
            "\u001b[33m\r0% [Waiting for headers] [5 InRelease 0 B/3,632 B 0%] [Connected to r2u.stat.il\u001b[0m\u001b[33m\r0% [Waiting for headers] [Connected to r2u.stat.illinois.edu (192.17.190.167)] \u001b[0m\r                                                                               \rGet:6 http://security.ubuntu.com/ubuntu jammy-security InRelease [129 kB]\n",
            "\u001b[33m\r0% [6 InRelease 14.2 kB/129 kB 11%] [Connected to r2u.stat.illinois.edu (192.17\u001b[0m\r                                                                               \rHit:7 https://ppa.launchpadcontent.net/deadsnakes/ppa/ubuntu jammy InRelease\n",
            "\u001b[33m\r0% [6 InRelease 14.2 kB/129 kB 11%] [Connected to r2u.stat.illinois.edu (192.17\u001b[0m\r                                                                               \rHit:8 https://ppa.launchpadcontent.net/graphics-drivers/ppa/ubuntu jammy InRelease\n",
            "Hit:9 https://ppa.launchpadcontent.net/ubuntugis/ppa/ubuntu jammy InRelease\n",
            "Get:10 https://r2u.stat.illinois.edu/ubuntu jammy InRelease [6,555 B]\n",
            "Get:11 http://archive.ubuntu.com/ubuntu jammy-updates/universe amd64 Packages [1,542 kB]\n",
            "Get:12 http://archive.ubuntu.com/ubuntu jammy-updates/main amd64 Packages [3,140 kB]\n",
            "Get:13 https://developer.download.nvidia.com/compute/cuda/repos/ubuntu2204/x86_64  Packages [1,604 kB]\n",
            "Get:14 https://cloud.r-project.org/bin/linux/ubuntu jammy-cran40/ Packages [75.2 kB]\n",
            "Get:15 http://security.ubuntu.com/ubuntu jammy-security/main amd64 Packages [2,788 kB]\n",
            "Get:16 https://r2u.stat.illinois.edu/ubuntu jammy/main all Packages [8,842 kB]\n",
            "Get:17 http://security.ubuntu.com/ubuntu jammy-security/universe amd64 Packages [1,243 kB]\n",
            "Get:18 https://r2u.stat.illinois.edu/ubuntu jammy/main amd64 Packages [2,695 kB]\n",
            "Fetched 22.2 MB in 4s (5,098 kB/s)\n",
            "Reading package lists... Done\n",
            "Building dependency tree... Done\n",
            "Reading state information... Done\n",
            "41 packages can be upgraded. Run 'apt list --upgradable' to see them.\n",
            "\u001b[1;33mW: \u001b[0mSkipping acquire of configured file 'main/source/Sources' as repository 'https://r2u.stat.illinois.edu/ubuntu jammy InRelease' does not seem to provide it (sources.list entry misspelt?)\u001b[0m\n",
            "Requirement already satisfied: pyspark in /usr/local/lib/python3.11/dist-packages (3.5.5)\n",
            "Requirement already satisfied: py4j==0.10.9.7 in /usr/local/lib/python3.11/dist-packages (from pyspark) (0.10.9.7)\n",
            "Requirement already satisfied: py4j in /usr/local/lib/python3.11/dist-packages (0.10.9.7)\n"
          ]
        },
        {
          "output_type": "execute_result",
          "data": {
            "text/plain": [
              "<pyspark.sql.session.SparkSession at 0x783c28570550>"
            ],
            "text/html": [
              "\n",
              "            <div>\n",
              "                <p><b>SparkSession - in-memory</b></p>\n",
              "                \n",
              "        <div>\n",
              "            <p><b>SparkContext</b></p>\n",
              "\n",
              "            <p><a href=\"http://6eb4b589bbf7:4040\">Spark UI</a></p>\n",
              "\n",
              "            <dl>\n",
              "              <dt>Version</dt>\n",
              "                <dd><code>v3.5.5</code></dd>\n",
              "              <dt>Master</dt>\n",
              "                <dd><code>local[*]</code></dd>\n",
              "              <dt>AppName</dt>\n",
              "                <dd><code>pyspark-shell</code></dd>\n",
              "            </dl>\n",
              "        </div>\n",
              "        \n",
              "            </div>\n",
              "        "
            ]
          },
          "metadata": {},
          "execution_count": 2
        }
      ]
    },
    {
      "cell_type": "markdown",
      "source": [
        "## Setul de Date – Raw Time Series\n",
        "\n",
        "Acest set de date conține informații despre consumul de date a unor clienți fictivi ai unei companii de energie. Structura datelor este una similară cu schemele folosite la momentul actual pentru astfel de date."
      ],
      "metadata": {
        "id": "51NcIq2BvWj2"
      }
    },
    {
      "cell_type": "code",
      "execution_count": 89,
      "metadata": {
        "colab": {
          "base_uri": "https://localhost:8080/"
        },
        "id": "QPvRNKDT-D_f",
        "outputId": "528f51c0-9781-4b96-eaf5-13c82a44af2b"
      },
      "outputs": [
        {
          "output_type": "stream",
          "name": "stdout",
          "text": [
            "+-------------------+-------------------+--------------------+------------+--------------------------+\n",
            "|contract_id        |timestamp          |value               |value_source|annotations               |\n",
            "+-------------------+-------------------+--------------------+------------+--------------------------+\n",
            "|04_02_111 _ CHR12  |2023-01-01 06:00:00|0.02591860654732236 |measurement |{\"region\":\"Europe/Berlin\"}|\n",
            "|04 _02_111 _CHR12  |2023-01-01 17:00:00|0.07385444264936832 |measurement |{\"region\":\"Europe/Berlin\"}|\n",
            "|04_02_111 _ CHR12  |2023-01-01 17:30:22|0.08180149515221906 |measurement |{\"region\":\"Europe/Berlin\"}|\n",
            "|04 _02_111 _CHR12  |2023-01-01 21:30:00|0.08670661371854547 |measurement |{\"region\":\"Europe/Berlin\"}|\n",
            "|04 _ 02 _111_CHR12 |2023-01-02 00:30:00|0.03597601881331959 |measurement |{\"region\":\"Europe/Berlin\"}|\n",
            "|04 _02_111 _ CHR12 |2023-01-02 05:30:00|0.03638379308965683 |measurement |{\"region\":\"Europe/Berlin\"}|\n",
            "|04 _02 _111 _CHR12 |2023-01-03 10:45:00|0.931575            |measurement |{\"region\":\"Europe/Berlin\"}|\n",
            "|04 _02_111 _CHR12  |2023-01-03 18:30:11|0.08816273670606922 |measurement |{\"region\":\"Europe/Berlin\"}|\n",
            "|04 _02_111 _CHR12  |2023-01-04 06:30:04|NULL                |measurement |{\"region\":\"Europe/Berlin\"}|\n",
            "|04_02_111 _ CHR12  |2023-01-04 08:00:00|0.01782329751018486 |measurement |{\"region\":\"Europe/Berlin\"}|\n",
            "|04_02 _111 _ CHR12 |2023-01-04 14:45:00|0.06185             |measurement |{\"region\":\"Europe/Berlin\"}|\n",
            "|04_02 _111 _ CHR12 |2023-01-05 04:30:00|0.03886180041449962 |measurement |{\"region\":\"Europe/Berlin\"}|\n",
            "|04_02_111 _ CHR12  |2023-01-05 08:00:00|0.02966489301335042 |measurement |{\"region\":\"Europe/Berlin\"}|\n",
            "|04_02 _111 _ CHR12 |2023-01-05 10:30:00|0.0899              |measurement |{\"region\":\"Europe/Berlin\"}|\n",
            "|04 _02_111 _ CHR12 |2023-01-07 09:15:00|0.013017644707343774|measurement |{\"region\":\"Europe/Berlin\"}|\n",
            "|04_02_111 _ CHR12  |2023-01-07 12:15:00|0.253075            |measurement |{\"region\":\"Europe/Berlin\"}|\n",
            "|04 _02_111 _CHR12  |2023-01-07 16:45:00|0.10331219017612531 |measurement |{\"region\":\"Europe/Berlin\"}|\n",
            "|04_02_111 _ CHR12  |2023-01-07 23:30:00|0.07445077454380414 |measurement |{\"region\":\"Europe/Berlin\"}|\n",
            "|04_02_111 _ CHR12  |2023-01-08 09:30:00|0.01659186356495865 |measurement |{\"region\":\"Europe/Berlin\"}|\n",
            "|04 _02_111 _ CHR12 |2023-01-08 11:00:00|0.09935000000000001 |measurement |{\"region\":\"Europe/Berlin\"}|\n",
            "+-------------------+-------------------+--------------------+------------+--------------------------+\n",
            "only showing top 20 rows\n",
            "\n"
          ]
        }
      ],
      "source": [
        "parquet_path = '/content/drive/MyDrive/E.on/E.on_Data/Data/Project/raw_time_series/parquet'\n",
        "raw_time_series_df = spark.read.parquet(parquet_path)\n",
        "raw_time_series_df.show(truncate=False)"
      ]
    },
    {
      "cell_type": "markdown",
      "source": [
        "## Setul de Date – Customer Tariff\n",
        "\n",
        "Acest set de date conține informații despre tarifele și prețurile a unor clienți fictivi, într-un interval de timp, ai unei companii de energie. Structura este una similară cu cea folosite la momentul actual pentru astfel de date."
      ],
      "metadata": {
        "id": "7gIQ6kOpwRTH"
      }
    },
    {
      "cell_type": "code",
      "source": [
        "parquet_path = '/content/drive/MyDrive/E.on/E.on_Data/Data/Project/customer_tariff/parquet'\n",
        "customer_tariff_df = spark.read.parquet(parquet_path)\n",
        "customer_tariff_df.show()"
      ],
      "metadata": {
        "id": "_gI1Y7QmwVyr",
        "outputId": "a177a0f4-cb2f-4352-9309-bdaae045ca42",
        "colab": {
          "base_uri": "https://localhost:8080/"
        }
      },
      "execution_count": 90,
      "outputs": [
        {
          "output_type": "stream",
          "name": "stdout",
          "text": [
            "+---------------+----------------------------+--------------------------+-----------------+-----------+------+\n",
            "|    contract_id|target_local_start_timestamp|target_local_end_timestamp|      tariff_name|charge_type| price|\n",
            "+---------------+----------------------------+--------------------------+-----------------+-----------+------+\n",
            "|04_02_111_CHR28|         2022-12-01 00:00:00|       2023-02-16 00:00:00|     Electric Pro|        buy| 0.302|\n",
            "|04_02_111_CHR28|         2023-02-16 00:00:00|       2024-05-19 00:00:00| Electric Loyalty|        buy|0.3938|\n",
            "|04_02_111_CHR28|         2024-05-19 00:00:00|       2024-08-31 00:00:00|     Eco Electric|        buy|0.2095|\n",
            "|04_02_111_CHR28|         2024-08-31 00:00:00|       2024-10-09 00:00:00| Electric Loyalty|        buy|0.4047|\n",
            "|04_02_111_CHR28|         2024-10-09 00:00:00|       2024-11-09 00:00:00|Business Electric|        buy|0.1716|\n",
            "|04_02_111_CHR28|         2024-11-09 00:00:00|       2024-12-11 00:00:00|     Electric Pro|        buy|0.2944|\n",
            "|04_02_111_CHR28|         2024-12-11 00:00:00|       2025-01-01 00:00:00| Digital Electric|        buy|0.1781|\n",
            "|04_02_111_CHR28|         2022-12-01 00:00:00|       2023-03-15 00:00:00|           SState|       sell|0.0842|\n",
            "|04_02_111_CHR28|         2023-03-15 00:00:00|       2024-08-25 00:00:00|         EctoGrid|       sell| 0.069|\n",
            "|04_02_111_CHR28|         2024-08-25 00:00:00|       2025-01-01 00:00:00|            OpCom|       sell|0.1182|\n",
            "|04_02_111_CHR05|         2022-12-01 00:00:00|       2023-02-12 00:00:00|   Electric Optim|        buy|0.2277|\n",
            "|04_02_111_CHR05|         2023-02-12 00:00:00|       2024-05-01 00:00:00|   Electric Optim|        buy| 0.243|\n",
            "|04_02_111_CHR05|         2024-05-01 00:00:00|       2024-08-10 00:00:00| Digital Electric|        buy|0.2318|\n",
            "|04_02_111_CHR05|         2024-08-10 00:00:00|       2024-09-18 00:00:00|Business Electric|        buy| 0.379|\n",
            "|04_02_111_CHR05|         2024-09-18 00:00:00|       2024-10-18 00:00:00|Business Electric|        buy|0.1613|\n",
            "|04_02_111_CHR05|         2024-10-18 00:00:00|       2024-11-19 00:00:00|   Electric Optim|        buy|0.2669|\n",
            "|04_02_111_CHR05|         2024-11-19 00:00:00|       2024-12-09 00:00:00|Business Electric|        buy|0.2148|\n",
            "|04_02_111_CHR05|         2024-12-09 00:00:00|       2025-01-01 00:00:00|     Electric Pro|        buy|0.2168|\n",
            "|04_02_111_CHR05|         2022-12-01 00:00:00|       2023-02-16 00:00:00|         EctoGrid|       sell| 0.082|\n",
            "|04_02_111_CHR05|         2023-02-16 00:00:00|       2024-05-19 00:00:00|         EctoGrid|       sell|0.0993|\n",
            "+---------------+----------------------------+--------------------------+-----------------+-----------+------+\n",
            "only showing top 20 rows\n",
            "\n"
          ]
        }
      ]
    },
    {
      "cell_type": "markdown",
      "source": [
        "---\n",
        "\n",
        "# Cerințe"
      ],
      "metadata": {
        "id": "sVoOj1Lywlmh"
      }
    },
    {
      "cell_type": "markdown",
      "source": [
        "## Curățarea Datelor\n",
        "\n",
        "Setul de date al consumului prezintă unele probleme, precum spații suplimentare și informații lipsă sau semi-structurate."
      ],
      "metadata": {
        "id": "NL9UXtiEwpFN"
      }
    },
    {
      "cell_type": "markdown",
      "source": [
        "Acestea trebuie rectificate înainte de a trece mai departe:\n",
        "\n",
        "1. Curățarea coloanei „contract_id” de spații suplimentare\n",
        "2. Setarea coloanei „value_source” cu valoarea „missing” atunci când valoarea lipsește.\n",
        "3. Coloana „timestamp” are variații mici ce trebuie rectificate. Contoarele măsoară consumul odată la 15 minute exact începând cu ora 00:00, dar din cauza procesării, pot apărea variații la timpul pe care îl trimit. (Indiciu: Se găsește cea mai apropriat multiplu de 15 la minute și se scot secundele)\n",
        "\n"
      ],
      "metadata": {
        "id": "qpdaqc2qwvIe"
      }
    },
    {
      "cell_type": "code",
      "source": [
        "# 1.\n",
        "raw_time_series_df = raw_time_series_df.withColumn('contract_id', f.translate(f.col('contract_id'), ' ', ''))\n",
        "raw_time_series_df.show(truncate=False)"
      ],
      "metadata": {
        "colab": {
          "base_uri": "https://localhost:8080/"
        },
        "id": "c6wxGY1nsWCy",
        "outputId": "a1206eec-3e76-4e55-be03-1f81db52a591"
      },
      "execution_count": 91,
      "outputs": [
        {
          "output_type": "stream",
          "name": "stdout",
          "text": [
            "+---------------+-------------------+--------------------+------------+--------------------------+\n",
            "|contract_id    |timestamp          |value               |value_source|annotations               |\n",
            "+---------------+-------------------+--------------------+------------+--------------------------+\n",
            "|04_02_111_CHR12|2023-01-01 06:00:00|0.02591860654732236 |measurement |{\"region\":\"Europe/Berlin\"}|\n",
            "|04_02_111_CHR12|2023-01-01 17:00:00|0.07385444264936832 |measurement |{\"region\":\"Europe/Berlin\"}|\n",
            "|04_02_111_CHR12|2023-01-01 17:30:22|0.08180149515221906 |measurement |{\"region\":\"Europe/Berlin\"}|\n",
            "|04_02_111_CHR12|2023-01-01 21:30:00|0.08670661371854547 |measurement |{\"region\":\"Europe/Berlin\"}|\n",
            "|04_02_111_CHR12|2023-01-02 00:30:00|0.03597601881331959 |measurement |{\"region\":\"Europe/Berlin\"}|\n",
            "|04_02_111_CHR12|2023-01-02 05:30:00|0.03638379308965683 |measurement |{\"region\":\"Europe/Berlin\"}|\n",
            "|04_02_111_CHR12|2023-01-03 10:45:00|0.931575            |measurement |{\"region\":\"Europe/Berlin\"}|\n",
            "|04_02_111_CHR12|2023-01-03 18:30:11|0.08816273670606922 |measurement |{\"region\":\"Europe/Berlin\"}|\n",
            "|04_02_111_CHR12|2023-01-04 06:30:04|NULL                |measurement |{\"region\":\"Europe/Berlin\"}|\n",
            "|04_02_111_CHR12|2023-01-04 08:00:00|0.01782329751018486 |measurement |{\"region\":\"Europe/Berlin\"}|\n",
            "|04_02_111_CHR12|2023-01-04 14:45:00|0.06185             |measurement |{\"region\":\"Europe/Berlin\"}|\n",
            "|04_02_111_CHR12|2023-01-05 04:30:00|0.03886180041449962 |measurement |{\"region\":\"Europe/Berlin\"}|\n",
            "|04_02_111_CHR12|2023-01-05 08:00:00|0.02966489301335042 |measurement |{\"region\":\"Europe/Berlin\"}|\n",
            "|04_02_111_CHR12|2023-01-05 10:30:00|0.0899              |measurement |{\"region\":\"Europe/Berlin\"}|\n",
            "|04_02_111_CHR12|2023-01-07 09:15:00|0.013017644707343774|measurement |{\"region\":\"Europe/Berlin\"}|\n",
            "|04_02_111_CHR12|2023-01-07 12:15:00|0.253075            |measurement |{\"region\":\"Europe/Berlin\"}|\n",
            "|04_02_111_CHR12|2023-01-07 16:45:00|0.10331219017612531 |measurement |{\"region\":\"Europe/Berlin\"}|\n",
            "|04_02_111_CHR12|2023-01-07 23:30:00|0.07445077454380414 |measurement |{\"region\":\"Europe/Berlin\"}|\n",
            "|04_02_111_CHR12|2023-01-08 09:30:00|0.01659186356495865 |measurement |{\"region\":\"Europe/Berlin\"}|\n",
            "|04_02_111_CHR12|2023-01-08 11:00:00|0.09935000000000001 |measurement |{\"region\":\"Europe/Berlin\"}|\n",
            "+---------------+-------------------+--------------------+------------+--------------------------+\n",
            "only showing top 20 rows\n",
            "\n"
          ]
        }
      ]
    },
    {
      "cell_type": "code",
      "source": [
        "# 2.\n",
        "# raw_time_series_df = raw_time_series_df.withColumn('value_source', f.coalesce(f.col('value_source'), f.lit('missing')))\n",
        "raw_time_series_df = raw_time_series_df.withColumn('value_source', f.when(f.col('value').isNull(), f.lit('missing')).otherwise(f.col('value_source')))\n",
        "raw_time_series_df.show(truncate=False)"
      ],
      "metadata": {
        "colab": {
          "base_uri": "https://localhost:8080/"
        },
        "id": "yBoMxA4Qubys",
        "outputId": "b1e7a72d-2439-449c-d339-925c4d298a3a"
      },
      "execution_count": 92,
      "outputs": [
        {
          "output_type": "stream",
          "name": "stdout",
          "text": [
            "+---------------+-------------------+--------------------+------------+--------------------------+\n",
            "|contract_id    |timestamp          |value               |value_source|annotations               |\n",
            "+---------------+-------------------+--------------------+------------+--------------------------+\n",
            "|04_02_111_CHR12|2023-01-01 06:00:00|0.02591860654732236 |measurement |{\"region\":\"Europe/Berlin\"}|\n",
            "|04_02_111_CHR12|2023-01-01 17:00:00|0.07385444264936832 |measurement |{\"region\":\"Europe/Berlin\"}|\n",
            "|04_02_111_CHR12|2023-01-01 17:30:22|0.08180149515221906 |measurement |{\"region\":\"Europe/Berlin\"}|\n",
            "|04_02_111_CHR12|2023-01-01 21:30:00|0.08670661371854547 |measurement |{\"region\":\"Europe/Berlin\"}|\n",
            "|04_02_111_CHR12|2023-01-02 00:30:00|0.03597601881331959 |measurement |{\"region\":\"Europe/Berlin\"}|\n",
            "|04_02_111_CHR12|2023-01-02 05:30:00|0.03638379308965683 |measurement |{\"region\":\"Europe/Berlin\"}|\n",
            "|04_02_111_CHR12|2023-01-03 10:45:00|0.931575            |measurement |{\"region\":\"Europe/Berlin\"}|\n",
            "|04_02_111_CHR12|2023-01-03 18:30:11|0.08816273670606922 |measurement |{\"region\":\"Europe/Berlin\"}|\n",
            "|04_02_111_CHR12|2023-01-04 06:30:04|NULL                |missing     |{\"region\":\"Europe/Berlin\"}|\n",
            "|04_02_111_CHR12|2023-01-04 08:00:00|0.01782329751018486 |measurement |{\"region\":\"Europe/Berlin\"}|\n",
            "|04_02_111_CHR12|2023-01-04 14:45:00|0.06185             |measurement |{\"region\":\"Europe/Berlin\"}|\n",
            "|04_02_111_CHR12|2023-01-05 04:30:00|0.03886180041449962 |measurement |{\"region\":\"Europe/Berlin\"}|\n",
            "|04_02_111_CHR12|2023-01-05 08:00:00|0.02966489301335042 |measurement |{\"region\":\"Europe/Berlin\"}|\n",
            "|04_02_111_CHR12|2023-01-05 10:30:00|0.0899              |measurement |{\"region\":\"Europe/Berlin\"}|\n",
            "|04_02_111_CHR12|2023-01-07 09:15:00|0.013017644707343774|measurement |{\"region\":\"Europe/Berlin\"}|\n",
            "|04_02_111_CHR12|2023-01-07 12:15:00|0.253075            |measurement |{\"region\":\"Europe/Berlin\"}|\n",
            "|04_02_111_CHR12|2023-01-07 16:45:00|0.10331219017612531 |measurement |{\"region\":\"Europe/Berlin\"}|\n",
            "|04_02_111_CHR12|2023-01-07 23:30:00|0.07445077454380414 |measurement |{\"region\":\"Europe/Berlin\"}|\n",
            "|04_02_111_CHR12|2023-01-08 09:30:00|0.01659186356495865 |measurement |{\"region\":\"Europe/Berlin\"}|\n",
            "|04_02_111_CHR12|2023-01-08 11:00:00|0.09935000000000001 |measurement |{\"region\":\"Europe/Berlin\"}|\n",
            "+---------------+-------------------+--------------------+------------+--------------------------+\n",
            "only showing top 20 rows\n",
            "\n"
          ]
        }
      ]
    },
    {
      "cell_type": "code",
      "source": [
        "# 3.\n",
        "raw_time_series_df = raw_time_series_df.withColumn('timestamp',\n",
        "                                                   f.from_unixtime((f.unix_timestamp('timestamp') / 900).cast('int') * 900).cast('timestamp'))\n",
        "raw_time_series_df.show(truncate=False)"
      ],
      "metadata": {
        "colab": {
          "base_uri": "https://localhost:8080/"
        },
        "id": "Y9_aYKjYwbgv",
        "outputId": "fbe59dfe-dacf-4df1-c0ee-86dbb42daafd"
      },
      "execution_count": 93,
      "outputs": [
        {
          "output_type": "stream",
          "name": "stdout",
          "text": [
            "+---------------+-------------------+--------------------+------------+--------------------------+\n",
            "|contract_id    |timestamp          |value               |value_source|annotations               |\n",
            "+---------------+-------------------+--------------------+------------+--------------------------+\n",
            "|04_02_111_CHR12|2023-01-01 06:00:00|0.02591860654732236 |measurement |{\"region\":\"Europe/Berlin\"}|\n",
            "|04_02_111_CHR12|2023-01-01 17:00:00|0.07385444264936832 |measurement |{\"region\":\"Europe/Berlin\"}|\n",
            "|04_02_111_CHR12|2023-01-01 17:30:00|0.08180149515221906 |measurement |{\"region\":\"Europe/Berlin\"}|\n",
            "|04_02_111_CHR12|2023-01-01 21:30:00|0.08670661371854547 |measurement |{\"region\":\"Europe/Berlin\"}|\n",
            "|04_02_111_CHR12|2023-01-02 00:30:00|0.03597601881331959 |measurement |{\"region\":\"Europe/Berlin\"}|\n",
            "|04_02_111_CHR12|2023-01-02 05:30:00|0.03638379308965683 |measurement |{\"region\":\"Europe/Berlin\"}|\n",
            "|04_02_111_CHR12|2023-01-03 10:45:00|0.931575            |measurement |{\"region\":\"Europe/Berlin\"}|\n",
            "|04_02_111_CHR12|2023-01-03 18:30:00|0.08816273670606922 |measurement |{\"region\":\"Europe/Berlin\"}|\n",
            "|04_02_111_CHR12|2023-01-04 06:30:00|NULL                |missing     |{\"region\":\"Europe/Berlin\"}|\n",
            "|04_02_111_CHR12|2023-01-04 08:00:00|0.01782329751018486 |measurement |{\"region\":\"Europe/Berlin\"}|\n",
            "|04_02_111_CHR12|2023-01-04 14:45:00|0.06185             |measurement |{\"region\":\"Europe/Berlin\"}|\n",
            "|04_02_111_CHR12|2023-01-05 04:30:00|0.03886180041449962 |measurement |{\"region\":\"Europe/Berlin\"}|\n",
            "|04_02_111_CHR12|2023-01-05 08:00:00|0.02966489301335042 |measurement |{\"region\":\"Europe/Berlin\"}|\n",
            "|04_02_111_CHR12|2023-01-05 10:30:00|0.0899              |measurement |{\"region\":\"Europe/Berlin\"}|\n",
            "|04_02_111_CHR12|2023-01-07 09:15:00|0.013017644707343774|measurement |{\"region\":\"Europe/Berlin\"}|\n",
            "|04_02_111_CHR12|2023-01-07 12:15:00|0.253075            |measurement |{\"region\":\"Europe/Berlin\"}|\n",
            "|04_02_111_CHR12|2023-01-07 16:45:00|0.10331219017612531 |measurement |{\"region\":\"Europe/Berlin\"}|\n",
            "|04_02_111_CHR12|2023-01-07 23:30:00|0.07445077454380414 |measurement |{\"region\":\"Europe/Berlin\"}|\n",
            "|04_02_111_CHR12|2023-01-08 09:30:00|0.01659186356495865 |measurement |{\"region\":\"Europe/Berlin\"}|\n",
            "|04_02_111_CHR12|2023-01-08 11:00:00|0.09935000000000001 |measurement |{\"region\":\"Europe/Berlin\"}|\n",
            "+---------------+-------------------+--------------------+------------+--------------------------+\n",
            "only showing top 20 rows\n",
            "\n"
          ]
        }
      ]
    },
    {
      "cell_type": "markdown",
      "source": [
        "## Extragerea Informațiilor de localizare și filtrarea datelor invalide\n",
        "\n",
        "Setul de date al consumului prezintă unele probleme, precum spații suplimentare și informații lipsă sau semi-structurate."
      ],
      "metadata": {
        "id": "TeGEPAHEw8vO"
      }
    },
    {
      "cell_type": "markdown",
      "source": [
        "Acestea trebuie rectificate înainte de a trece mai departe:\n",
        "\n",
        "1. Extragerea unei noi coloane „region” din „annotations” (Se recomandă folosirea funcțiilor de Spark de procesare JSON)\n",
        "2. Clienții cu regiuni invalide se vor scoate din setul de date și se vor salva pe disk într-o locație separată.\n",
        "3. Extragerea datei din coloana „timestamp” într-o nouă coloană „utc_date”\n",
        "4. Calcularea datei locale pentru data și ora din „timestamp”, pe baza regiunii, într-o nouă coloană „local_timestamp”\n",
        "5. Extragerea datei din coloana „ local_timestamp” într-o nouă coloană „local_date”\n",
        "\n"
      ],
      "metadata": {
        "id": "U5-RSyFFxBAZ"
      }
    },
    {
      "cell_type": "code",
      "source": [
        "# 1.\n",
        "raw_time_series_df = raw_time_series_df.withColumn('region', f.get_json_object(f.col('annotations'), '$.region'))\n",
        "print(raw_time_series_df.count())\n",
        "raw_time_series_df.show(5, truncate=False)"
      ],
      "metadata": {
        "colab": {
          "base_uri": "https://localhost:8080/"
        },
        "id": "NecepvEh-_3p",
        "outputId": "5b01f15e-454a-4c8c-f239-5327a6e3ec90"
      },
      "execution_count": 94,
      "outputs": [
        {
          "output_type": "stream",
          "name": "stdout",
          "text": [
            "3549244\n",
            "+---------------+-------------------+-------------------+------------+--------------------------+-------------+\n",
            "|contract_id    |timestamp          |value              |value_source|annotations               |region       |\n",
            "+---------------+-------------------+-------------------+------------+--------------------------+-------------+\n",
            "|04_02_111_CHR12|2023-01-01 06:00:00|0.02591860654732236|measurement |{\"region\":\"Europe/Berlin\"}|Europe/Berlin|\n",
            "|04_02_111_CHR12|2023-01-01 17:00:00|0.07385444264936832|measurement |{\"region\":\"Europe/Berlin\"}|Europe/Berlin|\n",
            "|04_02_111_CHR12|2023-01-01 17:30:00|0.08180149515221906|measurement |{\"region\":\"Europe/Berlin\"}|Europe/Berlin|\n",
            "|04_02_111_CHR12|2023-01-01 21:30:00|0.08670661371854547|measurement |{\"region\":\"Europe/Berlin\"}|Europe/Berlin|\n",
            "|04_02_111_CHR12|2023-01-02 00:30:00|0.03597601881331959|measurement |{\"region\":\"Europe/Berlin\"}|Europe/Berlin|\n",
            "+---------------+-------------------+-------------------+------------+--------------------------+-------------+\n",
            "only showing top 5 rows\n",
            "\n"
          ]
        }
      ]
    },
    {
      "cell_type": "code",
      "source": [
        "# 2.\n",
        "# Am verificat câte regiuni se găsesc în setul nostru de date -> REZULTAT: Europe/Berlin și WakaWaka\n",
        "view_regions = raw_time_series_df.select('region').distinct().collect()\n",
        "print(view_regions)\n",
        "\n",
        "test_raw_time_series_df = raw_time_series_df.groupBy('region').avg()\n",
        "test_raw_time_series_df.show(truncate=False)\n",
        "\n",
        "# Așadar:\n",
        "out_path = '/content/drive/MyDrive/E.on/E.on_Data/Data/Project/outputs'\n",
        "invalid_regions_df = raw_time_series_df.where(f.col('region')!='Europe/Berlin')\n",
        "invalid_regions_df.write.mode('overwrite').format('parquet').save(out_path)\n",
        "\n",
        "print(f\"no. of rows of raw_time_series_df: {raw_time_series_df.count()}\")\n",
        "raw_time_series_df.show(5, truncate=False)\n",
        "\n",
        "print(f\"no. of rows of invalid_regions_df: {invalid_regions_df.count()}\")\n",
        "invalid_regions_df.show(5, truncate=False)"
      ],
      "metadata": {
        "colab": {
          "base_uri": "https://localhost:8080/"
        },
        "id": "fjzAlJMcM_cV",
        "outputId": "cf2d97ea-6d20-4fe8-d978-9ae635c0ebb0"
      },
      "execution_count": 95,
      "outputs": [
        {
          "output_type": "stream",
          "name": "stdout",
          "text": [
            "[Row(region='Europe/Berlin'), Row(region='WakaWaka')]\n",
            "+-------------+-------------------+\n",
            "|region       |avg(value)         |\n",
            "+-------------+-------------------+\n",
            "|Europe/Berlin|0.490498974431521  |\n",
            "|WakaWaka     |0.13178303122889254|\n",
            "+-------------+-------------------+\n",
            "\n",
            "no. of rows of raw_time_series_df: 3549244\n",
            "+---------------+-------------------+-------------------+------------+--------------------------+-------------+\n",
            "|contract_id    |timestamp          |value              |value_source|annotations               |region       |\n",
            "+---------------+-------------------+-------------------+------------+--------------------------+-------------+\n",
            "|04_02_111_CHR12|2023-01-01 06:00:00|0.02591860654732236|measurement |{\"region\":\"Europe/Berlin\"}|Europe/Berlin|\n",
            "|04_02_111_CHR12|2023-01-01 17:00:00|0.07385444264936832|measurement |{\"region\":\"Europe/Berlin\"}|Europe/Berlin|\n",
            "|04_02_111_CHR12|2023-01-01 17:30:00|0.08180149515221906|measurement |{\"region\":\"Europe/Berlin\"}|Europe/Berlin|\n",
            "|04_02_111_CHR12|2023-01-01 21:30:00|0.08670661371854547|measurement |{\"region\":\"Europe/Berlin\"}|Europe/Berlin|\n",
            "|04_02_111_CHR12|2023-01-02 00:30:00|0.03597601881331959|measurement |{\"region\":\"Europe/Berlin\"}|Europe/Berlin|\n",
            "+---------------+-------------------+-------------------+------------+--------------------------+-------------+\n",
            "only showing top 5 rows\n",
            "\n",
            "no. of rows of invalid_regions_df: 105132\n",
            "+---------------+-------------------+-------------------+------------+---------------------+--------+\n",
            "|contract_id    |timestamp          |value              |value_source|annotations          |region  |\n",
            "+---------------+-------------------+-------------------+------------+---------------------+--------+\n",
            "|01_02_155_CHR98|2023-01-01 00:15:00|0.24727942049503326|measurement |{\"region\":\"WakaWaka\"}|WakaWaka|\n",
            "|01_02_155_CHR98|2023-01-01 00:45:00|NULL               |missing     |{\"region\":\"WakaWaka\"}|WakaWaka|\n",
            "|01_02_155_CHR98|2023-01-01 01:30:00|0.09512702375650406|measurement |{\"region\":\"WakaWaka\"}|WakaWaka|\n",
            "|01_02_155_CHR98|2023-01-01 02:00:00|0.26903796195983887|measurement |{\"region\":\"WakaWaka\"}|WakaWaka|\n",
            "|01_02_155_CHR98|2023-01-01 03:45:00|0.10639405995607376|measurement |{\"region\":\"WakaWaka\"}|WakaWaka|\n",
            "+---------------+-------------------+-------------------+------------+---------------------+--------+\n",
            "only showing top 5 rows\n",
            "\n"
          ]
        }
      ]
    },
    {
      "cell_type": "code",
      "source": [
        "# 3.\n",
        "raw_time_series_df = raw_time_series_df.withColumn('utc_date', f.to_date(f.col('timestamp')))\n",
        "raw_time_series_df.show(5, truncate=False)"
      ],
      "metadata": {
        "id": "YolB0YibWIia",
        "outputId": "11acd71d-1de0-43a4-c0c0-b675d57104b0",
        "colab": {
          "base_uri": "https://localhost:8080/"
        }
      },
      "execution_count": 96,
      "outputs": [
        {
          "output_type": "stream",
          "name": "stdout",
          "text": [
            "+---------------+-------------------+-------------------+------------+--------------------------+-------------+----------+\n",
            "|contract_id    |timestamp          |value              |value_source|annotations               |region       |utc_date  |\n",
            "+---------------+-------------------+-------------------+------------+--------------------------+-------------+----------+\n",
            "|04_02_111_CHR12|2023-01-01 06:00:00|0.02591860654732236|measurement |{\"region\":\"Europe/Berlin\"}|Europe/Berlin|2023-01-01|\n",
            "|04_02_111_CHR12|2023-01-01 17:00:00|0.07385444264936832|measurement |{\"region\":\"Europe/Berlin\"}|Europe/Berlin|2023-01-01|\n",
            "|04_02_111_CHR12|2023-01-01 17:30:00|0.08180149515221906|measurement |{\"region\":\"Europe/Berlin\"}|Europe/Berlin|2023-01-01|\n",
            "|04_02_111_CHR12|2023-01-01 21:30:00|0.08670661371854547|measurement |{\"region\":\"Europe/Berlin\"}|Europe/Berlin|2023-01-01|\n",
            "|04_02_111_CHR12|2023-01-02 00:30:00|0.03597601881331959|measurement |{\"region\":\"Europe/Berlin\"}|Europe/Berlin|2023-01-02|\n",
            "+---------------+-------------------+-------------------+------------+--------------------------+-------------+----------+\n",
            "only showing top 5 rows\n",
            "\n"
          ]
        }
      ]
    },
    {
      "cell_type": "code",
      "source": [
        "# 4.\n",
        "raw_time_series_df = raw_time_series_df.withColumn('local_timestamp', f.from_utc_timestamp(f.col('timestamp'), f.col('region')))\n",
        "raw_time_series_df.show(5, truncate=False)"
      ],
      "metadata": {
        "id": "knVmJWBNiHGm",
        "outputId": "a15a3d85-11e1-42a6-b442-6fa93f8e4341",
        "colab": {
          "base_uri": "https://localhost:8080/"
        }
      },
      "execution_count": 98,
      "outputs": [
        {
          "output_type": "stream",
          "name": "stdout",
          "text": [
            "+---------------+-------------------+-------------------+------------+--------------------------+-------------+----------+-------------------+\n",
            "|contract_id    |timestamp          |value              |value_source|annotations               |region       |utc_date  |local_timestamp    |\n",
            "+---------------+-------------------+-------------------+------------+--------------------------+-------------+----------+-------------------+\n",
            "|04_02_111_CHR12|2023-01-01 06:00:00|0.02591860654732236|measurement |{\"region\":\"Europe/Berlin\"}|Europe/Berlin|2023-01-01|2023-01-01 07:00:00|\n",
            "|04_02_111_CHR12|2023-01-01 17:00:00|0.07385444264936832|measurement |{\"region\":\"Europe/Berlin\"}|Europe/Berlin|2023-01-01|2023-01-01 18:00:00|\n",
            "|04_02_111_CHR12|2023-01-01 17:30:00|0.08180149515221906|measurement |{\"region\":\"Europe/Berlin\"}|Europe/Berlin|2023-01-01|2023-01-01 18:30:00|\n",
            "|04_02_111_CHR12|2023-01-01 21:30:00|0.08670661371854547|measurement |{\"region\":\"Europe/Berlin\"}|Europe/Berlin|2023-01-01|2023-01-01 22:30:00|\n",
            "|04_02_111_CHR12|2023-01-02 00:30:00|0.03597601881331959|measurement |{\"region\":\"Europe/Berlin\"}|Europe/Berlin|2023-01-02|2023-01-02 01:30:00|\n",
            "+---------------+-------------------+-------------------+------------+--------------------------+-------------+----------+-------------------+\n",
            "only showing top 5 rows\n",
            "\n"
          ]
        }
      ]
    },
    {
      "cell_type": "code",
      "source": [
        "# 5.\n",
        "raw_time_series_df = raw_time_series_df.withColumn('local_date', f.to_date('local_timestamp'))\n",
        "raw_time_series_df.show(5, truncate=False)"
      ],
      "metadata": {
        "id": "3wTe5jlnubHK",
        "outputId": "c90f3801-bbaf-49b6-87e9-3b7b41bdbd71",
        "colab": {
          "base_uri": "https://localhost:8080/"
        }
      },
      "execution_count": 100,
      "outputs": [
        {
          "output_type": "stream",
          "name": "stdout",
          "text": [
            "+---------------+-------------------+-------------------+------------+--------------------------+-------------+----------+-------------------+----------+\n",
            "|contract_id    |timestamp          |value              |value_source|annotations               |region       |utc_date  |local_timestamp    |local_date|\n",
            "+---------------+-------------------+-------------------+------------+--------------------------+-------------+----------+-------------------+----------+\n",
            "|04_02_111_CHR12|2023-01-01 06:00:00|0.02591860654732236|measurement |{\"region\":\"Europe/Berlin\"}|Europe/Berlin|2023-01-01|2023-01-01 07:00:00|2023-01-01|\n",
            "|04_02_111_CHR12|2023-01-01 17:00:00|0.07385444264936832|measurement |{\"region\":\"Europe/Berlin\"}|Europe/Berlin|2023-01-01|2023-01-01 18:00:00|2023-01-01|\n",
            "|04_02_111_CHR12|2023-01-01 17:30:00|0.08180149515221906|measurement |{\"region\":\"Europe/Berlin\"}|Europe/Berlin|2023-01-01|2023-01-01 18:30:00|2023-01-01|\n",
            "|04_02_111_CHR12|2023-01-01 21:30:00|0.08670661371854547|measurement |{\"region\":\"Europe/Berlin\"}|Europe/Berlin|2023-01-01|2023-01-01 22:30:00|2023-01-01|\n",
            "|04_02_111_CHR12|2023-01-02 00:30:00|0.03597601881331959|measurement |{\"region\":\"Europe/Berlin\"}|Europe/Berlin|2023-01-02|2023-01-02 01:30:00|2023-01-02|\n",
            "+---------------+-------------------+-------------------+------------+--------------------------+-------------+----------+-------------------+----------+\n",
            "only showing top 5 rows\n",
            "\n"
          ]
        }
      ]
    },
    {
      "cell_type": "markdown",
      "source": [
        "## Extragerea Informațiilor de consum\n",
        "\n",
        "Setul de date al consumului prezintă unele probleme, precum spații suplimentare și informații lipsă sau semi-structurate.\n",
        "\n"
      ],
      "metadata": {
        "id": "piuQbNfhxZfL"
      }
    },
    {
      "cell_type": "markdown",
      "source": [
        "Acestea trebuie rectificate înainte de a trece mai departe:\n",
        "\n",
        "1. Extragerea din coloana „ annotations” a consumului de vehicul electric (EV), baterie (BATTERY_IN) și consumul trimis spre rețeaua electrică (GRID_SELL) în coloanele „sent_to_ev”, „sent_to_battery” și „sent_to_grid”. În cazul în care valoare lipsește, se consideră consumul 0.\n",
        "2. Extragerea din coloana „ annotations” a energiei primite de la panourile solare (PV) și baterie (BATTERY_OUT) în coloanele „received_from_pv” și „received_from_battery”. În cazul în care valoare lipsește, se consideră energia primită 0."
      ],
      "metadata": {
        "id": "TTPlboObsE6r"
      }
    },
    {
      "cell_type": "markdown",
      "source": [
        "## Filtrarea consumului neobișnuit\n",
        "\n",
        "Anumite valori ale consumului sunt neobișnuit de mari și este necesară scoaterea lor."
      ],
      "metadata": {
        "id": "t90SC0hNxkhr"
      }
    },
    {
      "cell_type": "markdown",
      "source": [
        "\n",
        "\n",
        "1.  Setarea coloanei „value_source” în „plausability_check_failed” pentru valorile cu consum neobișnuit din setul de date. (Decizia valorilor mari fie se face cu o analiză vizuală a datelor (sortarea și identificarea lor vizual fie prin agregări simple fie mai complicate) sau bonus, pentru cine dorește, prin tehnici de învățare automată.)\n",
        "2. Salvarea separată a datelor cu „value_source” având valoare „plausability_check_failed” într-o locație separată. Atenție, datele nu se scot din setul de date.\n",
        "3. Setarea coloanei „value” în NULL pentru datele cu „value_source” având valoare „plausability_check_failed”.\n",
        "\n"
      ],
      "metadata": {
        "id": "rK0jyoUrxqBc"
      }
    },
    {
      "cell_type": "markdown",
      "source": [
        "## Completarea valorilor lipsă\n",
        "\n",
        "Anumiți clienți au lipsuri prezintă câteva lipsuri în consum, unele dintre ele adăugate de noi la pasul precedent:\n"
      ],
      "metadata": {
        "id": "_j9PZi3Dx4lK"
      }
    },
    {
      "cell_type": "markdown",
      "source": [
        "\n",
        "\n",
        "1. Prezicerea valorii „value” atunci când ea este NULL folosind următoarea metodă:\n",
        "\n",
        "  * Calculăm mai întâi media din ultimele 8 săptămâni a valorilor din aceeași zi a săptămânii la aceeași oră, minut și secundă. Se folosesc din ultimele 8 săptămâni doar valorile care nu lipsesc, au coloana „value_source” setată pe valoarea „measurement”.\n",
        "  * Facem suma coloanelor „sent_to_ev”, „sent_to_battery” și „sent_to_grid”.\n",
        "  * Facem suma coloanelor „received_from_pv” și „received_from_battery”.\n",
        "  * Completăm coloane „value” cu maximum dintre aceste 3 valori.\n",
        "  * **Bonus**, pentru cine dorește, puteți folosi și algoritmi de învățare automată, precum Linear Regression, în loc de calcularea mediei din ultimele 8 săptămâni și să comparați cele 2 metode.\n",
        "\n",
        "\n",
        "2. Calcularea valorii „received_from_grid” atunci când avem toate informațiile.\n",
        "  * Facem suma coloanelor „sent_to_ev”, „sent_to_battery” și „sent_to_grid” și scădem valorile din coloanele „received_from_pv” și „received_from_battery”.\n",
        "\n"
      ],
      "metadata": {
        "id": "wT916i56yT1t"
      }
    },
    {
      "cell_type": "markdown",
      "source": [
        "## Asocierea cu tarifere\n",
        "\n",
        "Curățând datele și completând valorile lipsă, putem acuma să trecem la asocierea cu tarifele consumatorilor:"
      ],
      "metadata": {
        "id": "bAyDBEYNyo9n"
      }
    },
    {
      "cell_type": "markdown",
      "source": [
        "\n",
        "\n",
        "1. Asocierea intrărilor de consum cu cele de tarifare, pe bază numărului de contract, al timpului și al tipului de preț, cumpărare sau vânzare.\n",
        "  * Prețul tarifat la cumpărare este prețul de cumpărare pentru intrare de consum înmulțit cu coloana „received_from_grid”\n",
        "  * Prețul tarifat la vânzare este prețul de vânzare pentru intrare de consum înmulțit cu coloana „send_to_grid”."
      ],
      "metadata": {
        "id": "ixAI6HRYyry7"
      }
    },
    {
      "cell_type": "markdown",
      "source": [
        "## Calcularea consumului și a facturii\n",
        "\n",
        "După asociere, putem trece la calculul factorii:\n"
      ],
      "metadata": {
        "id": "SFLIbmqzy1a1"
      }
    },
    {
      "cell_type": "markdown",
      "source": [
        "1. Per zi / săptămâna / lună / an, pentru fiecare client, să se calculeze:\n",
        "  * Consumul de energie total (suma coloanei value) – „ kWh_total”\n",
        "  * Energia extrasă din baterie și cea din PV – „kWh_from_battery”, „kWh_from_PV”\n",
        "  * Energia folosită pentru EV – „kWh_for_EV”\n",
        "  * Consumul de energie folosit de la rețea – „kWh_from_grid”\n",
        "  * Costul consumului de energie folosit de la rețea – „price_billed”\n",
        "  * Consumul de energie trimis către rețea – „kWh_to_grid”\n",
        "  * Costul primit înapoi, a consumului de energie trimis către rețea – „price_cashback”\n",
        "  * Costul total (diferența de cost) – „price_final”\n",
        "  * Puneți codul de calculare al agregatelor pe orice perioadă de timp într-o funcție, iar pentru fiecare interval, zi / săptămâna / lună / an, rulați această funcție. Afișați pentru fiecare perioada top 10 clienți cu cel mai mare preț."
      ],
      "metadata": {
        "id": "t-488euxsCG_"
      }
    }
  ]
}