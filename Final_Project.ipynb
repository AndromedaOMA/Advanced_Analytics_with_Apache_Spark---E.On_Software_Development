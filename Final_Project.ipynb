{
  "nbformat": 4,
  "nbformat_minor": 0,
  "metadata": {
    "colab": {
      "provenance": [],
      "authorship_tag": "ABX9TyOJevAsN+c3ZC88U1ANEGkA",
      "include_colab_link": true
    },
    "kernelspec": {
      "name": "python3",
      "display_name": "Python 3"
    },
    "language_info": {
      "name": "python"
    }
  },
  "cells": [
    {
      "cell_type": "markdown",
      "metadata": {
        "id": "view-in-github",
        "colab_type": "text"
      },
      "source": [
        "<a href=\"https://colab.research.google.com/github/AndromedaOMA/Advanced_Analytics_with_Apache_Spark---E.On_Software_Development/blob/main/Final_Project.ipynb\" target=\"_parent\"><img src=\"https://colab.research.google.com/assets/colab-badge.svg\" alt=\"Open In Colab\"/></a>"
      ]
    },
    {
      "cell_type": "markdown",
      "source": [
        "# Descriere proiect"
      ],
      "metadata": {
        "id": "tZeome76utxh"
      }
    },
    {
      "cell_type": "markdown",
      "source": [
        "Acest proiect are ca scop principal analiza consumului de energie al unui grup de consumatori fictivi, pe parcursul unui an, a unei companii de energie, folosind tehnicile de analiză din motorul Apache Spark.\n",
        "\n",
        "1. Primul set de date reflectă atât consumul total de energie, cât și detalii specifice, dacă există, despre producția din panouri solare, consumul pentru vehicule electrice (EV), energia furnizată înapoi către rețeaua electrică, consumul și încărcarea bateriilor.\n",
        "2. Al doilea set de date oferă atât tariful pe an și prețurile per kWh în diferite intervale de timp, unice pentru fiecare client în parte, cât și prețul de vânzare la nivelul companiei de energie pe diferite intervale de timp.\n",
        "\n",
        "Proiectul implică curățarea și prelucrarea datelor, completarea valorilor lipsă, iar la final calculul facturii de energie, bonus fiind compararea facturii cu alți clienți similari.\n",
        "\n"
      ],
      "metadata": {
        "id": "VF4AFtmMvGn0"
      }
    },
    {
      "cell_type": "markdown",
      "source": [
        "---\n",
        "\n",
        "# Seturile de date"
      ],
      "metadata": {
        "id": "LcEJ47LQvJkD"
      }
    },
    {
      "cell_type": "markdown",
      "source": [
        "## Pregătire mediu de lucru"
      ],
      "metadata": {
        "id": "K31gZUBzvpwK"
      }
    },
    {
      "cell_type": "code",
      "source": [
        "from google.colab import drive\n",
        "# drive.mount('/content/drive')\n",
        "drive.mount(\"/content/drive\", force_remount=True)"
      ],
      "metadata": {
        "id": "faYdKEGtvsHD",
        "outputId": "79b92c30-3c20-4644-aabb-eed14cbd06aa",
        "colab": {
          "base_uri": "https://localhost:8080/"
        }
      },
      "execution_count": 1,
      "outputs": [
        {
          "output_type": "stream",
          "name": "stdout",
          "text": [
            "Mounted at /content/drive\n"
          ]
        }
      ]
    },
    {
      "cell_type": "code",
      "source": [
        "!sudo apt update\n",
        "!apt-get install openjdk-8-jdk-headless -qq > /dev/null\n",
        "#Check this site for the latest download link https://dlcdn.apache.org/spark/\n",
        "!wget -q https://dlcdn.apache.org/spark/spark-3.4.4/spark-3.4.4-bin-hadoop3.tgz\n",
        "!tar xf spark-3.4.4-bin-hadoop3.tgz\n",
        "!pip install -q findspark\n",
        "!pip install pyspark\n",
        "!pip install py4j\n",
        "import os\n",
        "import sys\n",
        "# os.environ[\"JAVA_HOME\"] = \"/usr/lib/jvm/java-8-openjdk-amd64\"\n",
        "# os.environ[\"SPARK_HOME\"] = \"/content/spark-3.4.4-bin-hadoop3\"\n",
        "import findspark\n",
        "findspark.init()\n",
        "findspark.find()\n",
        "import pyspark\n",
        "\n",
        "from pyspark.sql import DataFrame, SparkSession\n",
        "from typing import List\n",
        "import pyspark.sql.types as T\n",
        "import pyspark.sql.functions as f\n",
        "spark= SparkSession.builder.getOrCreate()\n",
        "spark"
      ],
      "metadata": {
        "id": "H2TC5acRvxIE",
        "outputId": "8c6cb733-6006-4044-b572-2ef89f5b1d24",
        "colab": {
          "base_uri": "https://localhost:8080/",
          "height": 0
        }
      },
      "execution_count": 2,
      "outputs": [
        {
          "output_type": "stream",
          "name": "stdout",
          "text": [
            "\u001b[33m\r0% [Working]\u001b[0m\r            \rHit:1 http://archive.ubuntu.com/ubuntu jammy InRelease\n",
            "\u001b[33m\r0% [Waiting for headers] [Waiting for headers] [Connected to cloud.r-project.or\u001b[0m\r                                                                               \rGet:2 http://archive.ubuntu.com/ubuntu jammy-updates InRelease [128 kB]\n",
            "\r                                                                               \rGet:3 http://security.ubuntu.com/ubuntu jammy-security InRelease [129 kB]\n",
            "\u001b[33m\r0% [Waiting for headers] [Connected to cloud.r-project.org (18.238.55.15)] [Con\u001b[0m\r                                                                               \rGet:4 http://archive.ubuntu.com/ubuntu jammy-backports InRelease [127 kB]\n",
            "\u001b[33m\r0% [Connected to cloud.r-project.org (18.238.55.15)] [Connected to r2u.stat.ill\u001b[0m\r                                                                               \rGet:5 https://cloud.r-project.org/bin/linux/ubuntu jammy-cran40/ InRelease [3,632 B]\n",
            "Hit:6 https://developer.download.nvidia.com/compute/cuda/repos/ubuntu2204/x86_64  InRelease\n",
            "Get:7 https://r2u.stat.illinois.edu/ubuntu jammy InRelease [6,555 B]\n",
            "Hit:8 https://ppa.launchpadcontent.net/deadsnakes/ppa/ubuntu jammy InRelease\n",
            "Get:9 http://archive.ubuntu.com/ubuntu jammy-updates/main amd64 Packages [3,155 kB]\n",
            "Get:10 https://ppa.launchpadcontent.net/graphics-drivers/ppa/ubuntu jammy InRelease [24.3 kB]\n",
            "Hit:11 https://ppa.launchpadcontent.net/ubuntugis/ppa/ubuntu jammy InRelease\n",
            "Get:12 http://archive.ubuntu.com/ubuntu jammy-updates/universe amd64 Packages [1,543 kB]\n",
            "Get:13 http://security.ubuntu.com/ubuntu jammy-security/main amd64 Packages [2,844 kB]\n",
            "Get:14 http://security.ubuntu.com/ubuntu jammy-security/universe amd64 Packages [1,244 kB]\n",
            "Get:15 https://r2u.stat.illinois.edu/ubuntu jammy/main all Packages [8,872 kB]\n",
            "Get:16 https://r2u.stat.illinois.edu/ubuntu jammy/main amd64 Packages [2,704 kB]\n",
            "Get:17 https://ppa.launchpadcontent.net/graphics-drivers/ppa/ubuntu jammy/main amd64 Packages [46.3 kB]\n",
            "Fetched 20.8 MB in 4s (5,150 kB/s)\n",
            "Reading package lists... Done\n",
            "Building dependency tree... Done\n",
            "Reading state information... Done\n",
            "41 packages can be upgraded. Run 'apt list --upgradable' to see them.\n",
            "\u001b[1;33mW: \u001b[0mSkipping acquire of configured file 'main/source/Sources' as repository 'https://r2u.stat.illinois.edu/ubuntu jammy InRelease' does not seem to provide it (sources.list entry misspelt?)\u001b[0m\n",
            "Requirement already satisfied: pyspark in /usr/local/lib/python3.11/dist-packages (3.5.5)\n",
            "Requirement already satisfied: py4j==0.10.9.7 in /usr/local/lib/python3.11/dist-packages (from pyspark) (0.10.9.7)\n",
            "Requirement already satisfied: py4j in /usr/local/lib/python3.11/dist-packages (0.10.9.7)\n"
          ]
        },
        {
          "output_type": "execute_result",
          "data": {
            "text/plain": [
              "<pyspark.sql.session.SparkSession at 0x7d0c09b691d0>"
            ],
            "text/html": [
              "\n",
              "            <div>\n",
              "                <p><b>SparkSession - in-memory</b></p>\n",
              "                \n",
              "        <div>\n",
              "            <p><b>SparkContext</b></p>\n",
              "\n",
              "            <p><a href=\"http://238be8240837:4040\">Spark UI</a></p>\n",
              "\n",
              "            <dl>\n",
              "              <dt>Version</dt>\n",
              "                <dd><code>v3.5.5</code></dd>\n",
              "              <dt>Master</dt>\n",
              "                <dd><code>local[*]</code></dd>\n",
              "              <dt>AppName</dt>\n",
              "                <dd><code>pyspark-shell</code></dd>\n",
              "            </dl>\n",
              "        </div>\n",
              "        \n",
              "            </div>\n",
              "        "
            ]
          },
          "metadata": {},
          "execution_count": 2
        }
      ]
    },
    {
      "cell_type": "markdown",
      "source": [
        "## Setul de Date – Raw Time Series\n",
        "\n",
        "Acest set de date conține informații despre consumul de date a unor clienți fictivi ai unei companii de energie. Structura datelor este una similară cu schemele folosite la momentul actual pentru astfel de date."
      ],
      "metadata": {
        "id": "51NcIq2BvWj2"
      }
    },
    {
      "cell_type": "code",
      "execution_count": 3,
      "metadata": {
        "colab": {
          "base_uri": "https://localhost:8080/"
        },
        "id": "QPvRNKDT-D_f",
        "outputId": "59d6156c-f04e-4dcb-f7df-41dad2ff60bd"
      },
      "outputs": [
        {
          "output_type": "stream",
          "name": "stdout",
          "text": [
            "+-------------------+-------------------+--------------------+------------+--------------------------+\n",
            "|contract_id        |timestamp          |value               |value_source|annotations               |\n",
            "+-------------------+-------------------+--------------------+------------+--------------------------+\n",
            "|04_02_111 _ CHR12  |2023-01-01 06:00:00|0.02591860654732236 |measurement |{\"region\":\"Europe/Berlin\"}|\n",
            "|04 _02_111 _CHR12  |2023-01-01 17:00:00|0.07385444264936832 |measurement |{\"region\":\"Europe/Berlin\"}|\n",
            "|04_02_111 _ CHR12  |2023-01-01 17:30:22|0.08180149515221906 |measurement |{\"region\":\"Europe/Berlin\"}|\n",
            "|04 _02_111 _CHR12  |2023-01-01 21:30:00|0.08670661371854547 |measurement |{\"region\":\"Europe/Berlin\"}|\n",
            "|04 _ 02 _111_CHR12 |2023-01-02 00:30:00|0.03597601881331959 |measurement |{\"region\":\"Europe/Berlin\"}|\n",
            "|04 _02_111 _ CHR12 |2023-01-02 05:30:00|0.03638379308965683 |measurement |{\"region\":\"Europe/Berlin\"}|\n",
            "|04 _02 _111 _CHR12 |2023-01-03 10:45:00|0.931575            |measurement |{\"region\":\"Europe/Berlin\"}|\n",
            "|04 _02_111 _CHR12  |2023-01-03 18:30:11|0.08816273670606922 |measurement |{\"region\":\"Europe/Berlin\"}|\n",
            "|04 _02_111 _CHR12  |2023-01-04 06:30:04|NULL                |measurement |{\"region\":\"Europe/Berlin\"}|\n",
            "|04_02_111 _ CHR12  |2023-01-04 08:00:00|0.01782329751018486 |measurement |{\"region\":\"Europe/Berlin\"}|\n",
            "|04_02 _111 _ CHR12 |2023-01-04 14:45:00|0.06185             |measurement |{\"region\":\"Europe/Berlin\"}|\n",
            "|04_02 _111 _ CHR12 |2023-01-05 04:30:00|0.03886180041449962 |measurement |{\"region\":\"Europe/Berlin\"}|\n",
            "|04_02_111 _ CHR12  |2023-01-05 08:00:00|0.02966489301335042 |measurement |{\"region\":\"Europe/Berlin\"}|\n",
            "|04_02 _111 _ CHR12 |2023-01-05 10:30:00|0.0899              |measurement |{\"region\":\"Europe/Berlin\"}|\n",
            "|04 _02_111 _ CHR12 |2023-01-07 09:15:00|0.013017644707343774|measurement |{\"region\":\"Europe/Berlin\"}|\n",
            "|04_02_111 _ CHR12  |2023-01-07 12:15:00|0.253075            |measurement |{\"region\":\"Europe/Berlin\"}|\n",
            "|04 _02_111 _CHR12  |2023-01-07 16:45:00|0.10331219017612531 |measurement |{\"region\":\"Europe/Berlin\"}|\n",
            "|04_02_111 _ CHR12  |2023-01-07 23:30:00|0.07445077454380414 |measurement |{\"region\":\"Europe/Berlin\"}|\n",
            "|04_02_111 _ CHR12  |2023-01-08 09:30:00|0.01659186356495865 |measurement |{\"region\":\"Europe/Berlin\"}|\n",
            "|04 _02_111 _ CHR12 |2023-01-08 11:00:00|0.09935000000000001 |measurement |{\"region\":\"Europe/Berlin\"}|\n",
            "+-------------------+-------------------+--------------------+------------+--------------------------+\n",
            "only showing top 20 rows\n",
            "\n"
          ]
        }
      ],
      "source": [
        "parquet_path = '/content/drive/MyDrive/E.on/E.on_Data/Data/Project/raw_time_series/parquet'\n",
        "raw_time_series_df = spark.read.parquet(parquet_path)\n",
        "raw_time_series_df.show(truncate=False)"
      ]
    },
    {
      "cell_type": "markdown",
      "source": [
        "## Setul de Date – Customer Tariff\n",
        "\n",
        "Acest set de date conține informații despre tarifele și prețurile a unor clienți fictivi, într-un interval de timp, ai unei companii de energie. Structura este una similară cu cea folosite la momentul actual pentru astfel de date."
      ],
      "metadata": {
        "id": "7gIQ6kOpwRTH"
      }
    },
    {
      "cell_type": "code",
      "source": [
        "parquet_path = '/content/drive/MyDrive/E.on/E.on_Data/Data/Project/customer_tariff/parquet'\n",
        "customer_tariff_df = spark.read.parquet(parquet_path)\n",
        "customer_tariff_df.show()"
      ],
      "metadata": {
        "id": "_gI1Y7QmwVyr",
        "outputId": "deac73f5-bfc3-4b69-bc63-f2a1a0f22e17",
        "colab": {
          "base_uri": "https://localhost:8080/"
        }
      },
      "execution_count": 4,
      "outputs": [
        {
          "output_type": "stream",
          "name": "stdout",
          "text": [
            "+---------------+----------------------------+--------------------------+-----------------+-----------+------+\n",
            "|    contract_id|target_local_start_timestamp|target_local_end_timestamp|      tariff_name|charge_type| price|\n",
            "+---------------+----------------------------+--------------------------+-----------------+-----------+------+\n",
            "|04_02_111_CHR28|         2022-12-01 00:00:00|       2023-02-16 00:00:00|     Electric Pro|        buy| 0.302|\n",
            "|04_02_111_CHR28|         2023-02-16 00:00:00|       2024-05-19 00:00:00| Electric Loyalty|        buy|0.3938|\n",
            "|04_02_111_CHR28|         2024-05-19 00:00:00|       2024-08-31 00:00:00|     Eco Electric|        buy|0.2095|\n",
            "|04_02_111_CHR28|         2024-08-31 00:00:00|       2024-10-09 00:00:00| Electric Loyalty|        buy|0.4047|\n",
            "|04_02_111_CHR28|         2024-10-09 00:00:00|       2024-11-09 00:00:00|Business Electric|        buy|0.1716|\n",
            "|04_02_111_CHR28|         2024-11-09 00:00:00|       2024-12-11 00:00:00|     Electric Pro|        buy|0.2944|\n",
            "|04_02_111_CHR28|         2024-12-11 00:00:00|       2025-01-01 00:00:00| Digital Electric|        buy|0.1781|\n",
            "|04_02_111_CHR28|         2022-12-01 00:00:00|       2023-03-15 00:00:00|           SState|       sell|0.0842|\n",
            "|04_02_111_CHR28|         2023-03-15 00:00:00|       2024-08-25 00:00:00|         EctoGrid|       sell| 0.069|\n",
            "|04_02_111_CHR28|         2024-08-25 00:00:00|       2025-01-01 00:00:00|            OpCom|       sell|0.1182|\n",
            "|04_02_111_CHR05|         2022-12-01 00:00:00|       2023-02-12 00:00:00|   Electric Optim|        buy|0.2277|\n",
            "|04_02_111_CHR05|         2023-02-12 00:00:00|       2024-05-01 00:00:00|   Electric Optim|        buy| 0.243|\n",
            "|04_02_111_CHR05|         2024-05-01 00:00:00|       2024-08-10 00:00:00| Digital Electric|        buy|0.2318|\n",
            "|04_02_111_CHR05|         2024-08-10 00:00:00|       2024-09-18 00:00:00|Business Electric|        buy| 0.379|\n",
            "|04_02_111_CHR05|         2024-09-18 00:00:00|       2024-10-18 00:00:00|Business Electric|        buy|0.1613|\n",
            "|04_02_111_CHR05|         2024-10-18 00:00:00|       2024-11-19 00:00:00|   Electric Optim|        buy|0.2669|\n",
            "|04_02_111_CHR05|         2024-11-19 00:00:00|       2024-12-09 00:00:00|Business Electric|        buy|0.2148|\n",
            "|04_02_111_CHR05|         2024-12-09 00:00:00|       2025-01-01 00:00:00|     Electric Pro|        buy|0.2168|\n",
            "|04_02_111_CHR05|         2022-12-01 00:00:00|       2023-02-16 00:00:00|         EctoGrid|       sell| 0.082|\n",
            "|04_02_111_CHR05|         2023-02-16 00:00:00|       2024-05-19 00:00:00|         EctoGrid|       sell|0.0993|\n",
            "+---------------+----------------------------+--------------------------+-----------------+-----------+------+\n",
            "only showing top 20 rows\n",
            "\n"
          ]
        }
      ]
    },
    {
      "cell_type": "markdown",
      "source": [
        "---\n",
        "\n",
        "# Cerințe"
      ],
      "metadata": {
        "id": "sVoOj1Lywlmh"
      }
    },
    {
      "cell_type": "markdown",
      "source": [
        "## Curățarea Datelor\n",
        "\n",
        "Setul de date al consumului prezintă unele probleme, precum spații suplimentare și informații lipsă sau semi-structurate."
      ],
      "metadata": {
        "id": "NL9UXtiEwpFN"
      }
    },
    {
      "cell_type": "markdown",
      "source": [
        "Acestea trebuie rectificate înainte de a trece mai departe:\n",
        "\n",
        "1. Curățarea coloanei „contract_id” de spații suplimentare\n",
        "2. Setarea coloanei „value_source” cu valoarea „missing” atunci când valoarea lipsește.\n",
        "3. Coloana „timestamp” are variații mici ce trebuie rectificate. Contoarele măsoară consumul odată la 15 minute exact începând cu ora 00:00, dar din cauza procesării, pot apărea variații la timpul pe care îl trimit. (Indiciu: Se găsește cea mai apropriat multiplu de 15 la minute și se scot secundele)\n",
        "\n"
      ],
      "metadata": {
        "id": "qpdaqc2qwvIe"
      }
    },
    {
      "cell_type": "code",
      "source": [
        "# 1.\n",
        "raw_time_series_df = raw_time_series_df.withColumn('contract_id', f.translate(f.col('contract_id'), ' ', ''))\n",
        "raw_time_series_df.show(truncate=False)"
      ],
      "metadata": {
        "colab": {
          "base_uri": "https://localhost:8080/"
        },
        "id": "c6wxGY1nsWCy",
        "outputId": "7b917ba5-462e-4e64-add4-bd576bccdfad"
      },
      "execution_count": 5,
      "outputs": [
        {
          "output_type": "stream",
          "name": "stdout",
          "text": [
            "+---------------+-------------------+--------------------+------------+--------------------------+\n",
            "|contract_id    |timestamp          |value               |value_source|annotations               |\n",
            "+---------------+-------------------+--------------------+------------+--------------------------+\n",
            "|04_02_111_CHR12|2023-01-01 06:00:00|0.02591860654732236 |measurement |{\"region\":\"Europe/Berlin\"}|\n",
            "|04_02_111_CHR12|2023-01-01 17:00:00|0.07385444264936832 |measurement |{\"region\":\"Europe/Berlin\"}|\n",
            "|04_02_111_CHR12|2023-01-01 17:30:22|0.08180149515221906 |measurement |{\"region\":\"Europe/Berlin\"}|\n",
            "|04_02_111_CHR12|2023-01-01 21:30:00|0.08670661371854547 |measurement |{\"region\":\"Europe/Berlin\"}|\n",
            "|04_02_111_CHR12|2023-01-02 00:30:00|0.03597601881331959 |measurement |{\"region\":\"Europe/Berlin\"}|\n",
            "|04_02_111_CHR12|2023-01-02 05:30:00|0.03638379308965683 |measurement |{\"region\":\"Europe/Berlin\"}|\n",
            "|04_02_111_CHR12|2023-01-03 10:45:00|0.931575            |measurement |{\"region\":\"Europe/Berlin\"}|\n",
            "|04_02_111_CHR12|2023-01-03 18:30:11|0.08816273670606922 |measurement |{\"region\":\"Europe/Berlin\"}|\n",
            "|04_02_111_CHR12|2023-01-04 06:30:04|NULL                |measurement |{\"region\":\"Europe/Berlin\"}|\n",
            "|04_02_111_CHR12|2023-01-04 08:00:00|0.01782329751018486 |measurement |{\"region\":\"Europe/Berlin\"}|\n",
            "|04_02_111_CHR12|2023-01-04 14:45:00|0.06185             |measurement |{\"region\":\"Europe/Berlin\"}|\n",
            "|04_02_111_CHR12|2023-01-05 04:30:00|0.03886180041449962 |measurement |{\"region\":\"Europe/Berlin\"}|\n",
            "|04_02_111_CHR12|2023-01-05 08:00:00|0.02966489301335042 |measurement |{\"region\":\"Europe/Berlin\"}|\n",
            "|04_02_111_CHR12|2023-01-05 10:30:00|0.0899              |measurement |{\"region\":\"Europe/Berlin\"}|\n",
            "|04_02_111_CHR12|2023-01-07 09:15:00|0.013017644707343774|measurement |{\"region\":\"Europe/Berlin\"}|\n",
            "|04_02_111_CHR12|2023-01-07 12:15:00|0.253075            |measurement |{\"region\":\"Europe/Berlin\"}|\n",
            "|04_02_111_CHR12|2023-01-07 16:45:00|0.10331219017612531 |measurement |{\"region\":\"Europe/Berlin\"}|\n",
            "|04_02_111_CHR12|2023-01-07 23:30:00|0.07445077454380414 |measurement |{\"region\":\"Europe/Berlin\"}|\n",
            "|04_02_111_CHR12|2023-01-08 09:30:00|0.01659186356495865 |measurement |{\"region\":\"Europe/Berlin\"}|\n",
            "|04_02_111_CHR12|2023-01-08 11:00:00|0.09935000000000001 |measurement |{\"region\":\"Europe/Berlin\"}|\n",
            "+---------------+-------------------+--------------------+------------+--------------------------+\n",
            "only showing top 20 rows\n",
            "\n"
          ]
        }
      ]
    },
    {
      "cell_type": "code",
      "source": [
        "# 2.\n",
        "# raw_time_series_df = raw_time_series_df.withColumn('value_source', f.coalesce(f.col('value_source'), f.lit('missing')))\n",
        "raw_time_series_df = raw_time_series_df.withColumn('value_source', f.when(f.col('value').isNull(), f.lit('missing')).otherwise(f.col('value_source')))\n",
        "raw_time_series_df.show(truncate=False)"
      ],
      "metadata": {
        "colab": {
          "base_uri": "https://localhost:8080/"
        },
        "id": "yBoMxA4Qubys",
        "outputId": "000cf0f5-7f9c-486d-fb95-89e8fce95b37"
      },
      "execution_count": 6,
      "outputs": [
        {
          "output_type": "stream",
          "name": "stdout",
          "text": [
            "+---------------+-------------------+--------------------+------------+--------------------------+\n",
            "|contract_id    |timestamp          |value               |value_source|annotations               |\n",
            "+---------------+-------------------+--------------------+------------+--------------------------+\n",
            "|04_02_111_CHR12|2023-01-01 06:00:00|0.02591860654732236 |measurement |{\"region\":\"Europe/Berlin\"}|\n",
            "|04_02_111_CHR12|2023-01-01 17:00:00|0.07385444264936832 |measurement |{\"region\":\"Europe/Berlin\"}|\n",
            "|04_02_111_CHR12|2023-01-01 17:30:22|0.08180149515221906 |measurement |{\"region\":\"Europe/Berlin\"}|\n",
            "|04_02_111_CHR12|2023-01-01 21:30:00|0.08670661371854547 |measurement |{\"region\":\"Europe/Berlin\"}|\n",
            "|04_02_111_CHR12|2023-01-02 00:30:00|0.03597601881331959 |measurement |{\"region\":\"Europe/Berlin\"}|\n",
            "|04_02_111_CHR12|2023-01-02 05:30:00|0.03638379308965683 |measurement |{\"region\":\"Europe/Berlin\"}|\n",
            "|04_02_111_CHR12|2023-01-03 10:45:00|0.931575            |measurement |{\"region\":\"Europe/Berlin\"}|\n",
            "|04_02_111_CHR12|2023-01-03 18:30:11|0.08816273670606922 |measurement |{\"region\":\"Europe/Berlin\"}|\n",
            "|04_02_111_CHR12|2023-01-04 06:30:04|NULL                |missing     |{\"region\":\"Europe/Berlin\"}|\n",
            "|04_02_111_CHR12|2023-01-04 08:00:00|0.01782329751018486 |measurement |{\"region\":\"Europe/Berlin\"}|\n",
            "|04_02_111_CHR12|2023-01-04 14:45:00|0.06185             |measurement |{\"region\":\"Europe/Berlin\"}|\n",
            "|04_02_111_CHR12|2023-01-05 04:30:00|0.03886180041449962 |measurement |{\"region\":\"Europe/Berlin\"}|\n",
            "|04_02_111_CHR12|2023-01-05 08:00:00|0.02966489301335042 |measurement |{\"region\":\"Europe/Berlin\"}|\n",
            "|04_02_111_CHR12|2023-01-05 10:30:00|0.0899              |measurement |{\"region\":\"Europe/Berlin\"}|\n",
            "|04_02_111_CHR12|2023-01-07 09:15:00|0.013017644707343774|measurement |{\"region\":\"Europe/Berlin\"}|\n",
            "|04_02_111_CHR12|2023-01-07 12:15:00|0.253075            |measurement |{\"region\":\"Europe/Berlin\"}|\n",
            "|04_02_111_CHR12|2023-01-07 16:45:00|0.10331219017612531 |measurement |{\"region\":\"Europe/Berlin\"}|\n",
            "|04_02_111_CHR12|2023-01-07 23:30:00|0.07445077454380414 |measurement |{\"region\":\"Europe/Berlin\"}|\n",
            "|04_02_111_CHR12|2023-01-08 09:30:00|0.01659186356495865 |measurement |{\"region\":\"Europe/Berlin\"}|\n",
            "|04_02_111_CHR12|2023-01-08 11:00:00|0.09935000000000001 |measurement |{\"region\":\"Europe/Berlin\"}|\n",
            "+---------------+-------------------+--------------------+------------+--------------------------+\n",
            "only showing top 20 rows\n",
            "\n"
          ]
        }
      ]
    },
    {
      "cell_type": "code",
      "source": [
        "# 3.\n",
        "raw_time_series_df = raw_time_series_df.withColumn('timestamp',\n",
        "                                                   f.from_unixtime((f.unix_timestamp('timestamp') / 900).cast('int') * 900).cast('timestamp'))\n",
        "raw_time_series_df.show(truncate=False)"
      ],
      "metadata": {
        "colab": {
          "base_uri": "https://localhost:8080/"
        },
        "id": "Y9_aYKjYwbgv",
        "outputId": "7b0d951f-9f2b-498d-99d2-273a3eb8e644"
      },
      "execution_count": 7,
      "outputs": [
        {
          "output_type": "stream",
          "name": "stdout",
          "text": [
            "+---------------+-------------------+--------------------+------------+--------------------------+\n",
            "|contract_id    |timestamp          |value               |value_source|annotations               |\n",
            "+---------------+-------------------+--------------------+------------+--------------------------+\n",
            "|04_02_111_CHR12|2023-01-01 06:00:00|0.02591860654732236 |measurement |{\"region\":\"Europe/Berlin\"}|\n",
            "|04_02_111_CHR12|2023-01-01 17:00:00|0.07385444264936832 |measurement |{\"region\":\"Europe/Berlin\"}|\n",
            "|04_02_111_CHR12|2023-01-01 17:30:00|0.08180149515221906 |measurement |{\"region\":\"Europe/Berlin\"}|\n",
            "|04_02_111_CHR12|2023-01-01 21:30:00|0.08670661371854547 |measurement |{\"region\":\"Europe/Berlin\"}|\n",
            "|04_02_111_CHR12|2023-01-02 00:30:00|0.03597601881331959 |measurement |{\"region\":\"Europe/Berlin\"}|\n",
            "|04_02_111_CHR12|2023-01-02 05:30:00|0.03638379308965683 |measurement |{\"region\":\"Europe/Berlin\"}|\n",
            "|04_02_111_CHR12|2023-01-03 10:45:00|0.931575            |measurement |{\"region\":\"Europe/Berlin\"}|\n",
            "|04_02_111_CHR12|2023-01-03 18:30:00|0.08816273670606922 |measurement |{\"region\":\"Europe/Berlin\"}|\n",
            "|04_02_111_CHR12|2023-01-04 06:30:00|NULL                |missing     |{\"region\":\"Europe/Berlin\"}|\n",
            "|04_02_111_CHR12|2023-01-04 08:00:00|0.01782329751018486 |measurement |{\"region\":\"Europe/Berlin\"}|\n",
            "|04_02_111_CHR12|2023-01-04 14:45:00|0.06185             |measurement |{\"region\":\"Europe/Berlin\"}|\n",
            "|04_02_111_CHR12|2023-01-05 04:30:00|0.03886180041449962 |measurement |{\"region\":\"Europe/Berlin\"}|\n",
            "|04_02_111_CHR12|2023-01-05 08:00:00|0.02966489301335042 |measurement |{\"region\":\"Europe/Berlin\"}|\n",
            "|04_02_111_CHR12|2023-01-05 10:30:00|0.0899              |measurement |{\"region\":\"Europe/Berlin\"}|\n",
            "|04_02_111_CHR12|2023-01-07 09:15:00|0.013017644707343774|measurement |{\"region\":\"Europe/Berlin\"}|\n",
            "|04_02_111_CHR12|2023-01-07 12:15:00|0.253075            |measurement |{\"region\":\"Europe/Berlin\"}|\n",
            "|04_02_111_CHR12|2023-01-07 16:45:00|0.10331219017612531 |measurement |{\"region\":\"Europe/Berlin\"}|\n",
            "|04_02_111_CHR12|2023-01-07 23:30:00|0.07445077454380414 |measurement |{\"region\":\"Europe/Berlin\"}|\n",
            "|04_02_111_CHR12|2023-01-08 09:30:00|0.01659186356495865 |measurement |{\"region\":\"Europe/Berlin\"}|\n",
            "|04_02_111_CHR12|2023-01-08 11:00:00|0.09935000000000001 |measurement |{\"region\":\"Europe/Berlin\"}|\n",
            "+---------------+-------------------+--------------------+------------+--------------------------+\n",
            "only showing top 20 rows\n",
            "\n"
          ]
        }
      ]
    },
    {
      "cell_type": "markdown",
      "source": [
        "## Extragerea Informațiilor de localizare și filtrarea datelor invalide\n",
        "\n",
        "Setul de date al consumului prezintă unele probleme, precum spații suplimentare și informații lipsă sau semi-structurate."
      ],
      "metadata": {
        "id": "TeGEPAHEw8vO"
      }
    },
    {
      "cell_type": "markdown",
      "source": [
        "Acestea trebuie rectificate înainte de a trece mai departe:\n",
        "\n",
        "1. Extragerea unei noi coloane „region” din „annotations” (Se recomandă folosirea funcțiilor de Spark de procesare JSON)\n",
        "2. Clienții cu regiuni invalide se vor scoate din setul de date și se vor salva pe disk într-o locație separată.\n",
        "3. Extragerea datei din coloana „timestamp” într-o nouă coloană „utc_date”\n",
        "4. Calcularea datei locale pentru data și ora din „timestamp”, pe baza regiunii, într-o nouă coloană „local_timestamp”\n",
        "5. Extragerea datei din coloana „ local_timestamp” într-o nouă coloană „local_date”\n",
        "\n"
      ],
      "metadata": {
        "id": "U5-RSyFFxBAZ"
      }
    },
    {
      "cell_type": "code",
      "source": [
        "# 1.\n",
        "raw_time_series_df = raw_time_series_df.withColumn('region', f.get_json_object(f.col('annotations'), '$.region'))\n",
        "print(raw_time_series_df.count())\n",
        "raw_time_series_df.show(5, truncate=False)"
      ],
      "metadata": {
        "colab": {
          "base_uri": "https://localhost:8080/"
        },
        "id": "NecepvEh-_3p",
        "outputId": "1e9adb18-e22f-46a3-ad58-2ba98cd43003"
      },
      "execution_count": 8,
      "outputs": [
        {
          "output_type": "stream",
          "name": "stdout",
          "text": [
            "3549244\n",
            "+---------------+-------------------+-------------------+------------+--------------------------+-------------+\n",
            "|contract_id    |timestamp          |value              |value_source|annotations               |region       |\n",
            "+---------------+-------------------+-------------------+------------+--------------------------+-------------+\n",
            "|04_02_111_CHR12|2023-01-01 06:00:00|0.02591860654732236|measurement |{\"region\":\"Europe/Berlin\"}|Europe/Berlin|\n",
            "|04_02_111_CHR12|2023-01-01 17:00:00|0.07385444264936832|measurement |{\"region\":\"Europe/Berlin\"}|Europe/Berlin|\n",
            "|04_02_111_CHR12|2023-01-01 17:30:00|0.08180149515221906|measurement |{\"region\":\"Europe/Berlin\"}|Europe/Berlin|\n",
            "|04_02_111_CHR12|2023-01-01 21:30:00|0.08670661371854547|measurement |{\"region\":\"Europe/Berlin\"}|Europe/Berlin|\n",
            "|04_02_111_CHR12|2023-01-02 00:30:00|0.03597601881331959|measurement |{\"region\":\"Europe/Berlin\"}|Europe/Berlin|\n",
            "+---------------+-------------------+-------------------+------------+--------------------------+-------------+\n",
            "only showing top 5 rows\n",
            "\n"
          ]
        }
      ]
    },
    {
      "cell_type": "code",
      "source": [
        "# 2.\n",
        "# Am verificat câte regiuni se găsesc în setul nostru de date -> REZULTAT: Europe/Berlin și WakaWaka\n",
        "view_regions = raw_time_series_df.select('region').distinct().collect()\n",
        "print(view_regions)\n",
        "\n",
        "test_raw_time_series_df = raw_time_series_df.groupBy('region').avg()\n",
        "test_raw_time_series_df.show(truncate=False)\n",
        "\n",
        "# Așadar:\n",
        "out_path = '/content/drive/MyDrive/E.on/E.on_Data/Data/Project/outputs/invalid_regions'\n",
        "invalid_regions_df = raw_time_series_df.where(f.col('region')!='Europe/Berlin')\n",
        "invalid_regions_df.write.mode('overwrite').format('parquet').save(out_path)\n",
        "\n",
        "# print(f\"no. of rows of raw_time_series_df: {raw_time_series_df.count()}\")\n",
        "raw_time_series_df.show(5, truncate=False)\n",
        "\n",
        "# print(f\"no. of rows of invalid_regions_df: {invalid_regions_df.count()}\")\n",
        "invalid_regions_df.show(5, truncate=False)"
      ],
      "metadata": {
        "colab": {
          "base_uri": "https://localhost:8080/"
        },
        "id": "fjzAlJMcM_cV",
        "outputId": "8c288d36-3de1-4e59-b8e5-3a3863f76f0c"
      },
      "execution_count": 9,
      "outputs": [
        {
          "output_type": "stream",
          "name": "stdout",
          "text": [
            "[Row(region='Europe/Berlin'), Row(region='WakaWaka')]\n",
            "+-------------+-------------------+\n",
            "|region       |avg(value)         |\n",
            "+-------------+-------------------+\n",
            "|Europe/Berlin|0.490498974431521  |\n",
            "|WakaWaka     |0.13178303122889254|\n",
            "+-------------+-------------------+\n",
            "\n",
            "+---------------+-------------------+-------------------+------------+--------------------------+-------------+\n",
            "|contract_id    |timestamp          |value              |value_source|annotations               |region       |\n",
            "+---------------+-------------------+-------------------+------------+--------------------------+-------------+\n",
            "|04_02_111_CHR12|2023-01-01 06:00:00|0.02591860654732236|measurement |{\"region\":\"Europe/Berlin\"}|Europe/Berlin|\n",
            "|04_02_111_CHR12|2023-01-01 17:00:00|0.07385444264936832|measurement |{\"region\":\"Europe/Berlin\"}|Europe/Berlin|\n",
            "|04_02_111_CHR12|2023-01-01 17:30:00|0.08180149515221906|measurement |{\"region\":\"Europe/Berlin\"}|Europe/Berlin|\n",
            "|04_02_111_CHR12|2023-01-01 21:30:00|0.08670661371854547|measurement |{\"region\":\"Europe/Berlin\"}|Europe/Berlin|\n",
            "|04_02_111_CHR12|2023-01-02 00:30:00|0.03597601881331959|measurement |{\"region\":\"Europe/Berlin\"}|Europe/Berlin|\n",
            "+---------------+-------------------+-------------------+------------+--------------------------+-------------+\n",
            "only showing top 5 rows\n",
            "\n",
            "+---------------+-------------------+-------------------+------------+---------------------+--------+\n",
            "|contract_id    |timestamp          |value              |value_source|annotations          |region  |\n",
            "+---------------+-------------------+-------------------+------------+---------------------+--------+\n",
            "|01_02_155_CHR98|2023-01-01 00:15:00|0.24727942049503326|measurement |{\"region\":\"WakaWaka\"}|WakaWaka|\n",
            "|01_02_155_CHR98|2023-01-01 00:45:00|NULL               |missing     |{\"region\":\"WakaWaka\"}|WakaWaka|\n",
            "|01_02_155_CHR98|2023-01-01 01:30:00|0.09512702375650406|measurement |{\"region\":\"WakaWaka\"}|WakaWaka|\n",
            "|01_02_155_CHR98|2023-01-01 02:00:00|0.26903796195983887|measurement |{\"region\":\"WakaWaka\"}|WakaWaka|\n",
            "|01_02_155_CHR98|2023-01-01 03:45:00|0.10639405995607376|measurement |{\"region\":\"WakaWaka\"}|WakaWaka|\n",
            "+---------------+-------------------+-------------------+------------+---------------------+--------+\n",
            "only showing top 5 rows\n",
            "\n"
          ]
        }
      ]
    },
    {
      "cell_type": "code",
      "source": [
        "# 3.\n",
        "raw_time_series_df = raw_time_series_df.withColumn('utc_date', f.to_date(f.col('timestamp')))\n",
        "raw_time_series_df.show(5, truncate=False)"
      ],
      "metadata": {
        "id": "YolB0YibWIia",
        "outputId": "91f9d5e2-996f-409f-d122-bc133cd4ff8d",
        "colab": {
          "base_uri": "https://localhost:8080/"
        }
      },
      "execution_count": 10,
      "outputs": [
        {
          "output_type": "stream",
          "name": "stdout",
          "text": [
            "+---------------+-------------------+-------------------+------------+--------------------------+-------------+----------+\n",
            "|contract_id    |timestamp          |value              |value_source|annotations               |region       |utc_date  |\n",
            "+---------------+-------------------+-------------------+------------+--------------------------+-------------+----------+\n",
            "|04_02_111_CHR12|2023-01-01 06:00:00|0.02591860654732236|measurement |{\"region\":\"Europe/Berlin\"}|Europe/Berlin|2023-01-01|\n",
            "|04_02_111_CHR12|2023-01-01 17:00:00|0.07385444264936832|measurement |{\"region\":\"Europe/Berlin\"}|Europe/Berlin|2023-01-01|\n",
            "|04_02_111_CHR12|2023-01-01 17:30:00|0.08180149515221906|measurement |{\"region\":\"Europe/Berlin\"}|Europe/Berlin|2023-01-01|\n",
            "|04_02_111_CHR12|2023-01-01 21:30:00|0.08670661371854547|measurement |{\"region\":\"Europe/Berlin\"}|Europe/Berlin|2023-01-01|\n",
            "|04_02_111_CHR12|2023-01-02 00:30:00|0.03597601881331959|measurement |{\"region\":\"Europe/Berlin\"}|Europe/Berlin|2023-01-02|\n",
            "+---------------+-------------------+-------------------+------------+--------------------------+-------------+----------+\n",
            "only showing top 5 rows\n",
            "\n"
          ]
        }
      ]
    },
    {
      "cell_type": "code",
      "source": [
        "# 4.\n",
        "raw_time_series_df = raw_time_series_df.filter(f.col('region') == 'Europe/Berlin')\n",
        "raw_time_series_df = raw_time_series_df.withColumn('local_timestamp', f.from_utc_timestamp(f.col('timestamp'), f.col('region')))\n",
        "raw_time_series_df.show(5, truncate=False)"
      ],
      "metadata": {
        "id": "knVmJWBNiHGm",
        "outputId": "9bfe2230-ae99-4d0e-c28a-cc2fcb971747",
        "colab": {
          "base_uri": "https://localhost:8080/"
        }
      },
      "execution_count": 11,
      "outputs": [
        {
          "output_type": "stream",
          "name": "stdout",
          "text": [
            "+---------------+-------------------+-------------------+------------+--------------------------+-------------+----------+-------------------+\n",
            "|contract_id    |timestamp          |value              |value_source|annotations               |region       |utc_date  |local_timestamp    |\n",
            "+---------------+-------------------+-------------------+------------+--------------------------+-------------+----------+-------------------+\n",
            "|04_02_111_CHR12|2023-01-01 06:00:00|0.02591860654732236|measurement |{\"region\":\"Europe/Berlin\"}|Europe/Berlin|2023-01-01|2023-01-01 07:00:00|\n",
            "|04_02_111_CHR12|2023-01-01 17:00:00|0.07385444264936832|measurement |{\"region\":\"Europe/Berlin\"}|Europe/Berlin|2023-01-01|2023-01-01 18:00:00|\n",
            "|04_02_111_CHR12|2023-01-01 17:30:00|0.08180149515221906|measurement |{\"region\":\"Europe/Berlin\"}|Europe/Berlin|2023-01-01|2023-01-01 18:30:00|\n",
            "|04_02_111_CHR12|2023-01-01 21:30:00|0.08670661371854547|measurement |{\"region\":\"Europe/Berlin\"}|Europe/Berlin|2023-01-01|2023-01-01 22:30:00|\n",
            "|04_02_111_CHR12|2023-01-02 00:30:00|0.03597601881331959|measurement |{\"region\":\"Europe/Berlin\"}|Europe/Berlin|2023-01-02|2023-01-02 01:30:00|\n",
            "+---------------+-------------------+-------------------+------------+--------------------------+-------------+----------+-------------------+\n",
            "only showing top 5 rows\n",
            "\n"
          ]
        }
      ]
    },
    {
      "cell_type": "code",
      "source": [
        "# 5.\n",
        "raw_time_series_df = raw_time_series_df.withColumn('local_date', f.to_date('local_timestamp'))\n",
        "raw_time_series_df.show(5, truncate=False)"
      ],
      "metadata": {
        "id": "3wTe5jlnubHK",
        "outputId": "9dad0aff-5fe5-4f69-a8ef-367953825d99",
        "colab": {
          "base_uri": "https://localhost:8080/"
        }
      },
      "execution_count": 12,
      "outputs": [
        {
          "output_type": "stream",
          "name": "stdout",
          "text": [
            "+---------------+-------------------+-------------------+------------+--------------------------+-------------+----------+-------------------+----------+\n",
            "|contract_id    |timestamp          |value              |value_source|annotations               |region       |utc_date  |local_timestamp    |local_date|\n",
            "+---------------+-------------------+-------------------+------------+--------------------------+-------------+----------+-------------------+----------+\n",
            "|04_02_111_CHR12|2023-01-01 06:00:00|0.02591860654732236|measurement |{\"region\":\"Europe/Berlin\"}|Europe/Berlin|2023-01-01|2023-01-01 07:00:00|2023-01-01|\n",
            "|04_02_111_CHR12|2023-01-01 17:00:00|0.07385444264936832|measurement |{\"region\":\"Europe/Berlin\"}|Europe/Berlin|2023-01-01|2023-01-01 18:00:00|2023-01-01|\n",
            "|04_02_111_CHR12|2023-01-01 17:30:00|0.08180149515221906|measurement |{\"region\":\"Europe/Berlin\"}|Europe/Berlin|2023-01-01|2023-01-01 18:30:00|2023-01-01|\n",
            "|04_02_111_CHR12|2023-01-01 21:30:00|0.08670661371854547|measurement |{\"region\":\"Europe/Berlin\"}|Europe/Berlin|2023-01-01|2023-01-01 22:30:00|2023-01-01|\n",
            "|04_02_111_CHR12|2023-01-02 00:30:00|0.03597601881331959|measurement |{\"region\":\"Europe/Berlin\"}|Europe/Berlin|2023-01-02|2023-01-02 01:30:00|2023-01-02|\n",
            "+---------------+-------------------+-------------------+------------+--------------------------+-------------+----------+-------------------+----------+\n",
            "only showing top 5 rows\n",
            "\n"
          ]
        }
      ]
    },
    {
      "cell_type": "markdown",
      "source": [
        "## Extragerea Informațiilor de consum\n",
        "\n",
        "Setul de date al consumului prezintă unele probleme, precum spații suplimentare și informații lipsă sau semi-structurate.\n",
        "\n"
      ],
      "metadata": {
        "id": "piuQbNfhxZfL"
      }
    },
    {
      "cell_type": "markdown",
      "source": [
        "Acestea trebuie rectificate înainte de a trece mai departe:\n",
        "\n",
        "1. Extragerea din coloana „annotations” a consumului de vehicul electric (EV), baterie (BATTERY_IN) și consumul trimis spre rețeaua electrică (GRID_SELL) în coloanele „sent_to_ev”, „sent_to_battery” și „sent_to_grid”. În cazul în care valoare lipsește, se consideră consumul 0.\n",
        "2. Extragerea din coloana „annotations” a energiei primite de la panourile solare (PV) și baterie (BATTERY_OUT) în coloanele „received_from_pv” și „received_from_battery”. În cazul în care valoare lipsește, se consideră energia primită 0."
      ],
      "metadata": {
        "id": "TTPlboObsE6r"
      }
    },
    {
      "cell_type": "code",
      "source": [
        "print(\"Seturile de date disponibile:\")\n",
        "print(\"raw_time_series_df\")\n",
        "raw_time_series_df.show(5, truncate=False)\n",
        "print(\"customer_tariff_df\")\n",
        "customer_tariff_df.show(5, truncate=False)"
      ],
      "metadata": {
        "colab": {
          "base_uri": "https://localhost:8080/"
        },
        "id": "hqlZiuOXrOIa",
        "outputId": "0a5e608d-4b5c-4506-87b9-cd5897098fa1"
      },
      "execution_count": 13,
      "outputs": [
        {
          "output_type": "stream",
          "name": "stdout",
          "text": [
            "Seturile de date disponibile:\n",
            "raw_time_series_df\n",
            "+---------------+-------------------+-------------------+------------+--------------------------+-------------+----------+-------------------+----------+\n",
            "|contract_id    |timestamp          |value              |value_source|annotations               |region       |utc_date  |local_timestamp    |local_date|\n",
            "+---------------+-------------------+-------------------+------------+--------------------------+-------------+----------+-------------------+----------+\n",
            "|04_02_111_CHR12|2023-01-01 06:00:00|0.02591860654732236|measurement |{\"region\":\"Europe/Berlin\"}|Europe/Berlin|2023-01-01|2023-01-01 07:00:00|2023-01-01|\n",
            "|04_02_111_CHR12|2023-01-01 17:00:00|0.07385444264936832|measurement |{\"region\":\"Europe/Berlin\"}|Europe/Berlin|2023-01-01|2023-01-01 18:00:00|2023-01-01|\n",
            "|04_02_111_CHR12|2023-01-01 17:30:00|0.08180149515221906|measurement |{\"region\":\"Europe/Berlin\"}|Europe/Berlin|2023-01-01|2023-01-01 18:30:00|2023-01-01|\n",
            "|04_02_111_CHR12|2023-01-01 21:30:00|0.08670661371854547|measurement |{\"region\":\"Europe/Berlin\"}|Europe/Berlin|2023-01-01|2023-01-01 22:30:00|2023-01-01|\n",
            "|04_02_111_CHR12|2023-01-02 00:30:00|0.03597601881331959|measurement |{\"region\":\"Europe/Berlin\"}|Europe/Berlin|2023-01-02|2023-01-02 01:30:00|2023-01-02|\n",
            "+---------------+-------------------+-------------------+------------+--------------------------+-------------+----------+-------------------+----------+\n",
            "only showing top 5 rows\n",
            "\n",
            "customer_tariff_df\n",
            "+---------------+----------------------------+--------------------------+-----------------+-----------+------+\n",
            "|contract_id    |target_local_start_timestamp|target_local_end_timestamp|tariff_name      |charge_type|price |\n",
            "+---------------+----------------------------+--------------------------+-----------------+-----------+------+\n",
            "|04_02_111_CHR28|2022-12-01 00:00:00         |2023-02-16 00:00:00       |Electric Pro     |buy        |0.302 |\n",
            "|04_02_111_CHR28|2023-02-16 00:00:00         |2024-05-19 00:00:00       |Electric Loyalty |buy        |0.3938|\n",
            "|04_02_111_CHR28|2024-05-19 00:00:00         |2024-08-31 00:00:00       |Eco Electric     |buy        |0.2095|\n",
            "|04_02_111_CHR28|2024-08-31 00:00:00         |2024-10-09 00:00:00       |Electric Loyalty |buy        |0.4047|\n",
            "|04_02_111_CHR28|2024-10-09 00:00:00         |2024-11-09 00:00:00       |Business Electric|buy        |0.1716|\n",
            "+---------------+----------------------------+--------------------------+-----------------+-----------+------+\n",
            "only showing top 5 rows\n",
            "\n"
          ]
        }
      ]
    },
    {
      "cell_type": "code",
      "source": [
        "# 1.\n",
        "\n",
        "# Verificăm tipul de date a coloanei \"annotations\":\n",
        "print(\"Tipurile valorilot coloanei annotations:\")\n",
        "raw_time_series_df.select('annotations').printSchema()\n",
        "# Verificăm valorile distincte pe care le primește coloana \"annotations\":\n",
        "print(\"Valorile distincte ale coloanei annotations:\")\n",
        "raw_time_series_df.select(('annotations')).distinct().show(5, truncate=False)\n",
        "print('===' * 29)\n",
        "\n",
        "raw_time_series_df = raw_time_series_df.withColumn('sent_to_ev', f.when(f.get_json_object(f.col('annotations'), '$.events.EV').isNotNull(), f.get_json_object(f.col('annotations'), '$.events.EV')).otherwise(0))\n",
        "raw_time_series_df = raw_time_series_df.withColumn('sent_to_battery', f.when(f.get_json_object(f.col('annotations'), '$.events.BATTERY_IN').isNotNull(), f.get_json_object(f.col('annotations'), '$.events.BATTERY_IN')).otherwise(0))\n",
        "raw_time_series_df = raw_time_series_df.withColumn('sent_to_grid', f.when(f.get_json_object(f.col('annotations'), '$.events.GRID_SELL').isNotNull(), f.get_json_object(f.col('annotations'), '$.events.GRID_SELL')).otherwise(0))\n",
        "raw_time_series_df.show(5,truncate=False)\n",
        "\n",
        "# Pentru validarea faptului că valorile consumurilor nu sunt numai nule\n",
        "raw_time_series_df.select('sent_to_ev').distinct().show(5,truncate=False)\n",
        "raw_time_series_df.select('sent_to_battery').distinct().show(5,truncate=False)\n",
        "raw_time_series_df.select('sent_to_grid').distinct().show(5,truncate=False)\n"
      ],
      "metadata": {
        "colab": {
          "base_uri": "https://localhost:8080/"
        },
        "id": "n7_cb9Pbsl-M",
        "outputId": "105b14af-4588-4713-cffc-fb206d933f0d"
      },
      "execution_count": 14,
      "outputs": [
        {
          "output_type": "stream",
          "name": "stdout",
          "text": [
            "Tipurile valorilot coloanei annotations:\n",
            "root\n",
            " |-- annotations: string (nullable = true)\n",
            "\n",
            "Valorile distincte ale coloanei annotations:\n",
            "+-------------------------------------------------------------------------------------+\n",
            "|annotations                                                                          |\n",
            "+-------------------------------------------------------------------------------------+\n",
            "|{\"region\":\"Europe/Berlin\",\"events\":{\"GRID_SELL\":\"1.753088873001001\",\"PV\":\"1.839175\"}}|\n",
            "|{\"region\":\"Europe/Berlin\",\"events\":{\"EV\":\"1.035\",\"PV\":\"1.674475\"}}                   |\n",
            "|{\"region\":\"Europe/Berlin\",\"events\":{\"PV\":\"1.076\"}}                                   |\n",
            "|{\"region\":\"Europe/Berlin\",\"events\":{\"PV\":\"1.077475\"}}                                |\n",
            "|{\"region\":\"Europe/Berlin\",\"events\":{\"BATTERY_IN\":\"1.633989566467353\",\"PV\":\"1.69435\"}}|\n",
            "+-------------------------------------------------------------------------------------+\n",
            "only showing top 5 rows\n",
            "\n",
            "=======================================================================================\n",
            "+---------------+-------------------+-------------------+------------+--------------------------+-------------+----------+-------------------+----------+----------+---------------+------------+\n",
            "|contract_id    |timestamp          |value              |value_source|annotations               |region       |utc_date  |local_timestamp    |local_date|sent_to_ev|sent_to_battery|sent_to_grid|\n",
            "+---------------+-------------------+-------------------+------------+--------------------------+-------------+----------+-------------------+----------+----------+---------------+------------+\n",
            "|04_02_111_CHR12|2023-01-01 06:00:00|0.02591860654732236|measurement |{\"region\":\"Europe/Berlin\"}|Europe/Berlin|2023-01-01|2023-01-01 07:00:00|2023-01-01|0         |0              |0           |\n",
            "|04_02_111_CHR12|2023-01-01 17:00:00|0.07385444264936832|measurement |{\"region\":\"Europe/Berlin\"}|Europe/Berlin|2023-01-01|2023-01-01 18:00:00|2023-01-01|0         |0              |0           |\n",
            "|04_02_111_CHR12|2023-01-01 17:30:00|0.08180149515221906|measurement |{\"region\":\"Europe/Berlin\"}|Europe/Berlin|2023-01-01|2023-01-01 18:30:00|2023-01-01|0         |0              |0           |\n",
            "|04_02_111_CHR12|2023-01-01 21:30:00|0.08670661371854547|measurement |{\"region\":\"Europe/Berlin\"}|Europe/Berlin|2023-01-01|2023-01-01 22:30:00|2023-01-01|0         |0              |0           |\n",
            "|04_02_111_CHR12|2023-01-02 00:30:00|0.03597601881331959|measurement |{\"region\":\"Europe/Berlin\"}|Europe/Berlin|2023-01-02|2023-01-02 01:30:00|2023-01-02|0         |0              |0           |\n",
            "+---------------+-------------------+-------------------+------------+--------------------------+-------------+----------+-------------------+----------+----------+---------------+------------+\n",
            "only showing top 5 rows\n",
            "\n",
            "+-----------------+\n",
            "|sent_to_ev       |\n",
            "+-----------------+\n",
            "|1.035009824399999|\n",
            "|2.472000234815109|\n",
            "|2.36729999999999 |\n",
            "|1.334150000133214|\n",
            "|2.38010024675264 |\n",
            "+-----------------+\n",
            "only showing top 5 rows\n",
            "\n",
            "+-----------------+\n",
            "|sent_to_battery  |\n",
            "+-----------------+\n",
            "|1.073343537998281|\n",
            "|1.615363012036317|\n",
            "|1.298782850553927|\n",
            "|1.382732743659848|\n",
            "|1.473304377044588|\n",
            "+-----------------+\n",
            "only showing top 5 rows\n",
            "\n",
            "+-----------------+\n",
            "|sent_to_grid     |\n",
            "+-----------------+\n",
            "|1.792016403175495|\n",
            "|1.345920470827863|\n",
            "|1.435150673564946|\n",
            "|1.155372549078849|\n",
            "|1.411143449072801|\n",
            "+-----------------+\n",
            "only showing top 5 rows\n",
            "\n"
          ]
        }
      ]
    },
    {
      "cell_type": "code",
      "source": [
        "# 2.\n",
        "raw_time_series_df = raw_time_series_df.withColumn('received_from_pv', f.when(f.get_json_object(f.col('annotations'), '$.events.PV').isNotNull(), f.get_json_object(f.col('annotations'), '$.events.PV')).otherwise(0))\n",
        "raw_time_series_df = raw_time_series_df.withColumn('received_from_battery', f.when(f.get_json_object(f.col('annotations'), '$.events.BATTERY_OUT').isNotNull(), f.get_json_object(f.col('annotations'), '$.events.PV')).otherwise(0))\n",
        "\n",
        "raw_time_series_df.show(5,truncate=False)\n",
        "raw_time_series_df.select('received_from_pv').distinct().show(5,truncate=False)\n",
        "raw_time_series_df.select('received_from_battery').distinct().show(5,truncate=False)"
      ],
      "metadata": {
        "colab": {
          "base_uri": "https://localhost:8080/"
        },
        "id": "ttb6TqBID7AA",
        "outputId": "a7df1912-bf1b-4d42-aa9d-97702c9a6458"
      },
      "execution_count": 15,
      "outputs": [
        {
          "output_type": "stream",
          "name": "stdout",
          "text": [
            "+---------------+-------------------+-------------------+------------+--------------------------+-------------+----------+-------------------+----------+----------+---------------+------------+----------------+---------------------+\n",
            "|contract_id    |timestamp          |value              |value_source|annotations               |region       |utc_date  |local_timestamp    |local_date|sent_to_ev|sent_to_battery|sent_to_grid|received_from_pv|received_from_battery|\n",
            "+---------------+-------------------+-------------------+------------+--------------------------+-------------+----------+-------------------+----------+----------+---------------+------------+----------------+---------------------+\n",
            "|04_02_111_CHR12|2023-01-01 06:00:00|0.02591860654732236|measurement |{\"region\":\"Europe/Berlin\"}|Europe/Berlin|2023-01-01|2023-01-01 07:00:00|2023-01-01|0         |0              |0           |0               |0                    |\n",
            "|04_02_111_CHR12|2023-01-01 17:00:00|0.07385444264936832|measurement |{\"region\":\"Europe/Berlin\"}|Europe/Berlin|2023-01-01|2023-01-01 18:00:00|2023-01-01|0         |0              |0           |0               |0                    |\n",
            "|04_02_111_CHR12|2023-01-01 17:30:00|0.08180149515221906|measurement |{\"region\":\"Europe/Berlin\"}|Europe/Berlin|2023-01-01|2023-01-01 18:30:00|2023-01-01|0         |0              |0           |0               |0                    |\n",
            "|04_02_111_CHR12|2023-01-01 21:30:00|0.08670661371854547|measurement |{\"region\":\"Europe/Berlin\"}|Europe/Berlin|2023-01-01|2023-01-01 22:30:00|2023-01-01|0         |0              |0           |0               |0                    |\n",
            "|04_02_111_CHR12|2023-01-02 00:30:00|0.03597601881331959|measurement |{\"region\":\"Europe/Berlin\"}|Europe/Berlin|2023-01-02|2023-01-02 01:30:00|2023-01-02|0         |0              |0           |0               |0                    |\n",
            "+---------------+-------------------+-------------------+------------+--------------------------+-------------+----------+-------------------+----------+----------+---------------+------------+----------------+---------------------+\n",
            "only showing top 5 rows\n",
            "\n",
            "+----------------+\n",
            "|received_from_pv|\n",
            "+----------------+\n",
            "|1.15885         |\n",
            "|1.146925        |\n",
            "|1.774175        |\n",
            "|1.731425        |\n",
            "|1.88595         |\n",
            "+----------------+\n",
            "only showing top 5 rows\n",
            "\n",
            "+---------------------+\n",
            "|received_from_battery|\n",
            "+---------------------+\n",
            "|1.731425             |\n",
            "|1.146925             |\n",
            "|1.774175             |\n",
            "|1.54965              |\n",
            "|1.1022534375         |\n",
            "+---------------------+\n",
            "only showing top 5 rows\n",
            "\n"
          ]
        }
      ]
    },
    {
      "cell_type": "markdown",
      "source": [
        "## Filtrarea consumului neobișnuit\n",
        "\n",
        "Anumite valori ale consumului sunt neobișnuit de mari și este necesară scoaterea lor."
      ],
      "metadata": {
        "id": "t90SC0hNxkhr"
      }
    },
    {
      "cell_type": "markdown",
      "source": [
        "\n",
        "\n",
        "1.  Setarea coloanei „value_source” în „plausability_check_failed” pentru valorile cu consum neobișnuit din setul de date. (Decizia valorilor mari fie se face cu o analiză vizuală a datelor (sortarea și identificarea lor vizual fie prin agregări simple fie mai complicate) sau bonus, pentru cine dorește, prin tehnici de învățare automată.)\n",
        "2. Salvarea separată a datelor cu „value_source” având valoare „plausability_check_failed” într-o locație separată. Atenție, datele nu se scot din setul de date.\n",
        "3. Setarea coloanei „value” în NULL pentru datele cu „value_source” având valoare „plausability_check_failed”.\n",
        "\n"
      ],
      "metadata": {
        "id": "rK0jyoUrxqBc"
      }
    },
    {
      "cell_type": "code",
      "source": [
        "raw_time_series_df.show(5, truncate=False)"
      ],
      "metadata": {
        "id": "aEBNnf3wdOlX",
        "outputId": "e1a60a75-56d1-413e-c96b-28ba9b8d368f",
        "colab": {
          "base_uri": "https://localhost:8080/"
        }
      },
      "execution_count": 16,
      "outputs": [
        {
          "output_type": "stream",
          "name": "stdout",
          "text": [
            "+---------------+-------------------+-------------------+------------+--------------------------+-------------+----------+-------------------+----------+----------+---------------+------------+----------------+---------------------+\n",
            "|contract_id    |timestamp          |value              |value_source|annotations               |region       |utc_date  |local_timestamp    |local_date|sent_to_ev|sent_to_battery|sent_to_grid|received_from_pv|received_from_battery|\n",
            "+---------------+-------------------+-------------------+------------+--------------------------+-------------+----------+-------------------+----------+----------+---------------+------------+----------------+---------------------+\n",
            "|04_02_111_CHR12|2023-01-01 06:00:00|0.02591860654732236|measurement |{\"region\":\"Europe/Berlin\"}|Europe/Berlin|2023-01-01|2023-01-01 07:00:00|2023-01-01|0         |0              |0           |0               |0                    |\n",
            "|04_02_111_CHR12|2023-01-01 17:00:00|0.07385444264936832|measurement |{\"region\":\"Europe/Berlin\"}|Europe/Berlin|2023-01-01|2023-01-01 18:00:00|2023-01-01|0         |0              |0           |0               |0                    |\n",
            "|04_02_111_CHR12|2023-01-01 17:30:00|0.08180149515221906|measurement |{\"region\":\"Europe/Berlin\"}|Europe/Berlin|2023-01-01|2023-01-01 18:30:00|2023-01-01|0         |0              |0           |0               |0                    |\n",
            "|04_02_111_CHR12|2023-01-01 21:30:00|0.08670661371854547|measurement |{\"region\":\"Europe/Berlin\"}|Europe/Berlin|2023-01-01|2023-01-01 22:30:00|2023-01-01|0         |0              |0           |0               |0                    |\n",
            "|04_02_111_CHR12|2023-01-02 00:30:00|0.03597601881331959|measurement |{\"region\":\"Europe/Berlin\"}|Europe/Berlin|2023-01-02|2023-01-02 01:30:00|2023-01-02|0         |0              |0           |0               |0                    |\n",
            "+---------------+-------------------+-------------------+------------+--------------------------+-------------+----------+-------------------+----------+----------+---------------+------------+----------------+---------------------+\n",
            "only showing top 5 rows\n",
            "\n"
          ]
        }
      ]
    },
    {
      "cell_type": "code",
      "source": [
        "# 1. IMPLEMENTAREA I\n",
        "\n",
        "# Prea multă putere de calcul necesară pentru realizarea plot-urilor\n",
        "# pandas_df = view_details_rts_df.toPandas()\n",
        "# pandas_df.value.value_counts().plot(kind='bar')\n",
        "\n",
        "view_value_sources = raw_time_series_df.select('value').distinct().orderBy(f.col('value').desc()).limit(2000)\n",
        "print(\"view_value_sources: \")\n",
        "view_value_sources.show(5, truncate=False)\n",
        "out_path = '/content/drive/MyDrive/E.on/E.on_Data/Data/Project/outputs/view_details_rts_df'\n",
        "view_value_sources.coalesce(1).write.mode('overwrite').csv(out_path)\n",
        "\n",
        "# Din CSV-ul salvat mai sus deducem aspectul constant a creșterii valorilor, dar în intervalul 39-42 valorile încep să crească mai alarmant.\n",
        "raw_time_series_df = raw_time_series_df.withColumn('value_source', f.when(f.col('value')>39, 'plausability_check_failed').otherwise(f.col('value_source')))\n",
        "print(\"raw_time_series_df: \")\n",
        "raw_time_series_df.show(5, truncate=False)\n"
      ],
      "metadata": {
        "id": "Yn5ASnQUdToh",
        "outputId": "313441b2-38b8-4f17-e618-620e34919e85",
        "colab": {
          "base_uri": "https://localhost:8080/"
        }
      },
      "execution_count": 17,
      "outputs": [
        {
          "output_type": "stream",
          "name": "stdout",
          "text": [
            "view_value_sources: \n",
            "+-----------------+\n",
            "|value            |\n",
            "+-----------------+\n",
            "|83.7633960367971 |\n",
            "|83.45165458104191|\n",
            "|80.5203908045932 |\n",
            "|77.88889162124525|\n",
            "|77.48032877642238|\n",
            "|76.88911895599986|\n",
            "|76.69798782063941|\n",
            "|75.76717163660166|\n",
            "|75.63363148646712|\n",
            "|75.1682792514436 |\n",
            "|74.9268292510051 |\n",
            "|74.39430262643208|\n",
            "|74.17691963148631|\n",
            "|73.79597194030637|\n",
            "|73.62673236058076|\n",
            "|73.50758279260636|\n",
            "|73.24851498214987|\n",
            "|73.1949246302417 |\n",
            "|72.90555560294808|\n",
            "|72.73071224721161|\n",
            "+-----------------+\n",
            "only showing top 20 rows\n",
            "\n",
            "raw_time_series_df: \n",
            "+---------------+-------------------+-------------------+------------+--------------------------+-------------+----------+-------------------+----------+----------+---------------+------------+----------------+---------------------+\n",
            "|contract_id    |timestamp          |value              |value_source|annotations               |region       |utc_date  |local_timestamp    |local_date|sent_to_ev|sent_to_battery|sent_to_grid|received_from_pv|received_from_battery|\n",
            "+---------------+-------------------+-------------------+------------+--------------------------+-------------+----------+-------------------+----------+----------+---------------+------------+----------------+---------------------+\n",
            "|04_02_111_CHR12|2023-01-01 06:00:00|0.02591860654732236|measurement |{\"region\":\"Europe/Berlin\"}|Europe/Berlin|2023-01-01|2023-01-01 07:00:00|2023-01-01|0         |0              |0           |0               |0                    |\n",
            "|04_02_111_CHR12|2023-01-01 17:00:00|0.07385444264936832|measurement |{\"region\":\"Europe/Berlin\"}|Europe/Berlin|2023-01-01|2023-01-01 18:00:00|2023-01-01|0         |0              |0           |0               |0                    |\n",
            "|04_02_111_CHR12|2023-01-01 17:30:00|0.08180149515221906|measurement |{\"region\":\"Europe/Berlin\"}|Europe/Berlin|2023-01-01|2023-01-01 18:30:00|2023-01-01|0         |0              |0           |0               |0                    |\n",
            "|04_02_111_CHR12|2023-01-01 21:30:00|0.08670661371854547|measurement |{\"region\":\"Europe/Berlin\"}|Europe/Berlin|2023-01-01|2023-01-01 22:30:00|2023-01-01|0         |0              |0           |0               |0                    |\n",
            "|04_02_111_CHR12|2023-01-02 00:30:00|0.03597601881331959|measurement |{\"region\":\"Europe/Berlin\"}|Europe/Berlin|2023-01-02|2023-01-02 01:30:00|2023-01-02|0         |0              |0           |0               |0                    |\n",
            "+---------------+-------------------+-------------------+------------+--------------------------+-------------+----------+-------------------+----------+----------+---------------+------------+----------------+---------------------+\n",
            "only showing top 5 rows\n",
            "\n"
          ]
        }
      ]
    },
    {
      "cell_type": "code",
      "source": [
        "# 1. IMPLEMENTAREA II (BONUS)\n",
        "from pyspark.ml.feature import VectorAssembler\n",
        "from pyspark.ml.clustering import KMeans\n",
        "\n",
        "# Corectare coloană 'value' prin ștergerea valorilor de 0\n",
        "raw_time_series_df = raw_time_series_df.where(f.col('value')!=0)\n",
        "\n",
        "# Vectorizare pe coloana 'value'\n",
        "vector_assembler = VectorAssembler(inputCols=['value'], outputCol='value_features')\n",
        "data_vectorized_df = vector_assembler.transform(raw_time_series_df)\n",
        "\n",
        "# KMeans\n",
        "kmeans = KMeans(featuresCol='value_features', predictionCol='cluster', k=2)\n",
        "model = kmeans.fit(data_vectorized_df)\n",
        "\n",
        "# Calculează distanța față de centrul clusterului\n",
        "from pyspark.sql.types import DoubleType\n",
        "\n",
        "center = model.clusterCenters()[0]\n",
        "\n",
        "def distance(v):\n",
        "    return float((v - center).norm(2))\n",
        "\n",
        "distance_udf = f.udf(distance, DoubleType())\n",
        "data_with_distance = data_vectorized_df.withColumn(\"distance\", distance_udf(\"value_features\"))\n",
        "\n",
        "# Setează „value” pentru valori anormale\n",
        "threshold = 3.0\n",
        "raw_time_series_df = data_with_distance.withColumn(\n",
        "    \"value_source\",\n",
        "    f.when(f.col(\"distance\") > threshold, \"plausability_check_failed\")\n",
        "    .otherwise(f.col(\"value_source\"))\n",
        ")\n",
        "\n",
        "view_value_sources = raw_time_series_df.select('value_source').distinct()\n",
        "print(\"view_value_sources: \")\n",
        "view_value_sources.show(truncate=False)\n",
        "print(\"raw_time_series_df: \")\n",
        "raw_time_series_df.show(5, truncate=False)"
      ],
      "metadata": {
        "colab": {
          "base_uri": "https://localhost:8080/"
        },
        "id": "TFF0xkluJABK",
        "outputId": "d36c0371-c7a4-44a8-f895-793d7288f47d"
      },
      "execution_count": 18,
      "outputs": [
        {
          "output_type": "stream",
          "name": "stdout",
          "text": [
            "view_value_sources: \n",
            "+-------------------------+\n",
            "|value_source             |\n",
            "+-------------------------+\n",
            "|measurement              |\n",
            "|plausability_check_failed|\n",
            "+-------------------------+\n",
            "\n",
            "raw_time_series_df: \n",
            "+---------------+-------------------+-------------------+------------+--------------------------+-------------+----------+-------------------+----------+----------+---------------+------------+----------------+---------------------+---------------------+-------------------+\n",
            "|contract_id    |timestamp          |value              |value_source|annotations               |region       |utc_date  |local_timestamp    |local_date|sent_to_ev|sent_to_battery|sent_to_grid|received_from_pv|received_from_battery|value_features       |distance           |\n",
            "+---------------+-------------------+-------------------+------------+--------------------------+-------------+----------+-------------------+----------+----------+---------------+------------+----------------+---------------------+---------------------+-------------------+\n",
            "|04_02_111_CHR12|2023-01-01 06:00:00|0.02591860654732236|measurement |{\"region\":\"Europe/Berlin\"}|Europe/Berlin|2023-01-01|2023-01-01 07:00:00|2023-01-01|0         |0              |0           |0               |0                    |[0.02591860654732236]|0.40606496265061537|\n",
            "|04_02_111_CHR12|2023-01-01 17:00:00|0.07385444264936832|measurement |{\"region\":\"Europe/Berlin\"}|Europe/Berlin|2023-01-01|2023-01-01 18:00:00|2023-01-01|0         |0              |0           |0               |0                    |[0.07385444264936832]|0.35812912654856943|\n",
            "|04_02_111_CHR12|2023-01-01 17:30:00|0.08180149515221906|measurement |{\"region\":\"Europe/Berlin\"}|Europe/Berlin|2023-01-01|2023-01-01 18:30:00|2023-01-01|0         |0              |0           |0               |0                    |[0.08180149515221906]|0.35018207404571866|\n",
            "|04_02_111_CHR12|2023-01-01 21:30:00|0.08670661371854547|measurement |{\"region\":\"Europe/Berlin\"}|Europe/Berlin|2023-01-01|2023-01-01 22:30:00|2023-01-01|0         |0              |0           |0               |0                    |[0.08670661371854547]|0.34527695547939224|\n",
            "|04_02_111_CHR12|2023-01-02 00:30:00|0.03597601881331959|measurement |{\"region\":\"Europe/Berlin\"}|Europe/Berlin|2023-01-02|2023-01-02 01:30:00|2023-01-02|0         |0              |0           |0               |0                    |[0.03597601881331959]|0.39600755038461816|\n",
            "+---------------+-------------------+-------------------+------------+--------------------------+-------------+----------+-------------------+----------+----------+---------------+------------+----------------+---------------------+---------------------+-------------------+\n",
            "only showing top 5 rows\n",
            "\n"
          ]
        }
      ]
    },
    {
      "cell_type": "code",
      "source": [
        "# 2.\n",
        "out_path = '/content/drive/MyDrive/E.on/E.on_Data/Data/Project/outputs/plausability_check_failed'\n",
        "raw_time_series_df.coalesce(1).where(f.col('value_source')=='plausability_check_failed').write.mode('overwrite').format('parquet').save(out_path)"
      ],
      "metadata": {
        "id": "AzbCisot-3cX"
      },
      "execution_count": 19,
      "outputs": []
    },
    {
      "cell_type": "code",
      "source": [
        "# 3.\n",
        "raw_time_series_df = raw_time_series_df.withColumn('value', f.when(f.col('value_source') == 'plausability_check_failed', f.lit('Null')).otherwise(f.col('value')))\n",
        "view_value = raw_time_series_df.select('value').distinct()\n",
        "view_value.show(5, truncate=False)"
      ],
      "metadata": {
        "id": "SJzu0kn5IMyr",
        "outputId": "007f34f0-5939-454b-d645-660206daa54b",
        "colab": {
          "base_uri": "https://localhost:8080/"
        }
      },
      "execution_count": 20,
      "outputs": [
        {
          "output_type": "stream",
          "name": "stdout",
          "text": [
            "+-------------------+\n",
            "|value              |\n",
            "+-------------------+\n",
            "|0.02906966450736488|\n",
            "|0.7859             |\n",
            "|0.1538957677168379 |\n",
            "|0.2442938179085887 |\n",
            "|0.8454496624316684 |\n",
            "+-------------------+\n",
            "only showing top 5 rows\n",
            "\n"
          ]
        }
      ]
    },
    {
      "cell_type": "markdown",
      "source": [
        "## Completarea valorilor lipsă\n",
        "\n",
        "Anumiți clienți au lipsuri prezintă câteva lipsuri în consum, unele dintre ele adăugate de noi la pasul precedent:\n"
      ],
      "metadata": {
        "id": "_j9PZi3Dx4lK"
      }
    },
    {
      "cell_type": "markdown",
      "source": [
        "\n",
        "\n",
        "1. Prezicerea valorii „value” atunci când ea este NULL folosind următoarea metodă:\n",
        "\n",
        "  * Calculăm mai întâi media din ultimele 8 săptămâni a valorilor din aceeași zi a săptămânii la aceeași oră, minut și secundă. Se folosesc din ultimele 8 săptămâni doar valorile care nu lipsesc, au coloana „value_source” setată pe valoarea „measurement”.\n",
        "  * Facem suma coloanelor „sent_to_ev”, „sent_to_battery” și „sent_to_grid”.\n",
        "  * Facem suma coloanelor „received_from_pv” și „received_from_battery”.\n",
        "  * Completăm coloane „value” cu maximum dintre aceste 3 valori.\n",
        "  * **Bonus**, pentru cine dorește, puteți folosi și algoritmi de învățare automată, precum Linear Regression, în loc de calcularea mediei din ultimele 8 săptămâni și să comparați cele 2 metode.\n",
        "\n",
        "\n",
        "2. Calcularea valorii „received_from_grid” atunci când avem toate informațiile.\n",
        "  * Facem suma coloanelor „sent_to_ev”, „sent_to_battery” și „sent_to_grid” și scădem valorile din coloanele „received_from_pv” și „received_from_battery”.\n",
        "\n"
      ],
      "metadata": {
        "id": "wT916i56yT1t"
      }
    },
    {
      "cell_type": "code",
      "source": [
        "# Verificăm existența valorilor Null\n",
        "null_values = raw_time_series_df.select(f.when(f.col('value').isNull() & (f.col(\"value_source\") == 'measurement'), f.lit('Null')).alias('null_values'))\n",
        "null_values.show(5, truncate=False)"
      ],
      "metadata": {
        "id": "4G9UYZpXLSkr",
        "outputId": "d12b41ab-c117-479e-fd63-88644d655132",
        "colab": {
          "base_uri": "https://localhost:8080/"
        }
      },
      "execution_count": 21,
      "outputs": [
        {
          "output_type": "stream",
          "name": "stdout",
          "text": [
            "+-----------+\n",
            "|null_values|\n",
            "+-----------+\n",
            "|NULL       |\n",
            "|NULL       |\n",
            "|NULL       |\n",
            "|NULL       |\n",
            "|NULL       |\n",
            "+-----------+\n",
            "only showing top 5 rows\n",
            "\n"
          ]
        }
      ]
    },
    {
      "cell_type": "code",
      "source": [
        "# IMPLEMENTAREA I\n",
        "\n",
        "# Calculăm mai întâi media din ultimele 8 săptămâni a valorilor din aceeași zi a săptămânii la aceeași oră, minut și secundă. Se folosesc din ultimele 8 săptămâni doar valorile care nu lipsesc, au coloana „value_source” setată pe valoarea „measurement”\n",
        "raw_time_series_df = (raw_time_series_df.withColumn('week_day', f.dayofweek(f.col('timestamp')))\n",
        "                                        .withColumn('hour', f.hour(f.col('timestamp')))\n",
        "                                        .withColumn('minute', f.minute(f.col('timestamp')))\n",
        "                                        .withColumn('second', f.second(f.col('timestamp'))))\n",
        "raw_time_series_df.show(5, truncate=False)\n",
        "\n",
        "now = f.current_timestamp()\n",
        "eight_weeks_ago = f.date_sub(now, 56)\n",
        "\n",
        "filtered_df = raw_time_series_df.filter(\n",
        "    (f.col('timestamp') >= eight_weeks_ago).isNotNull() &\n",
        "    f.col('value').isNotNull() &\n",
        "    (f.col('value_source') == 'measurement').isNotNull()\n",
        ")\n",
        "filtered_df.show(5, truncate=False)\n",
        "\n",
        "mean_df = filtered_df.groupBy(\"week_day\", \"hour\", \"minute\", \"second\") \\\n",
        "    .agg(f.avg(\"value\").alias(\"mean_value\"))\n",
        "\n",
        "mean_df.show(10, truncate=False)"
      ],
      "metadata": {
        "id": "SbusUX0qQAyH",
        "outputId": "7c4b3b09-15ea-47b1-8063-11c3802907f5",
        "colab": {
          "base_uri": "https://localhost:8080/"
        }
      },
      "execution_count": 22,
      "outputs": [
        {
          "output_type": "stream",
          "name": "stdout",
          "text": [
            "+---------------+-------------------+-------------------+------------+--------------------------+-------------+----------+-------------------+----------+----------+---------------+------------+----------------+---------------------+---------------------+-------------------+--------+----+------+------+\n",
            "|contract_id    |timestamp          |value              |value_source|annotations               |region       |utc_date  |local_timestamp    |local_date|sent_to_ev|sent_to_battery|sent_to_grid|received_from_pv|received_from_battery|value_features       |distance           |week_day|hour|minute|second|\n",
            "+---------------+-------------------+-------------------+------------+--------------------------+-------------+----------+-------------------+----------+----------+---------------+------------+----------------+---------------------+---------------------+-------------------+--------+----+------+------+\n",
            "|04_02_111_CHR12|2023-01-01 06:00:00|0.02591860654732236|measurement |{\"region\":\"Europe/Berlin\"}|Europe/Berlin|2023-01-01|2023-01-01 07:00:00|2023-01-01|0         |0              |0           |0               |0                    |[0.02591860654732236]|0.40606496265061537|1       |6   |0     |0     |\n",
            "|04_02_111_CHR12|2023-01-01 17:00:00|0.07385444264936832|measurement |{\"region\":\"Europe/Berlin\"}|Europe/Berlin|2023-01-01|2023-01-01 18:00:00|2023-01-01|0         |0              |0           |0               |0                    |[0.07385444264936832]|0.35812912654856943|1       |17  |0     |0     |\n",
            "|04_02_111_CHR12|2023-01-01 17:30:00|0.08180149515221906|measurement |{\"region\":\"Europe/Berlin\"}|Europe/Berlin|2023-01-01|2023-01-01 18:30:00|2023-01-01|0         |0              |0           |0               |0                    |[0.08180149515221906]|0.35018207404571866|1       |17  |30    |0     |\n",
            "|04_02_111_CHR12|2023-01-01 21:30:00|0.08670661371854547|measurement |{\"region\":\"Europe/Berlin\"}|Europe/Berlin|2023-01-01|2023-01-01 22:30:00|2023-01-01|0         |0              |0           |0               |0                    |[0.08670661371854547]|0.34527695547939224|1       |21  |30    |0     |\n",
            "|04_02_111_CHR12|2023-01-02 00:30:00|0.03597601881331959|measurement |{\"region\":\"Europe/Berlin\"}|Europe/Berlin|2023-01-02|2023-01-02 01:30:00|2023-01-02|0         |0              |0           |0               |0                    |[0.03597601881331959]|0.39600755038461816|2       |0   |30    |0     |\n",
            "+---------------+-------------------+-------------------+------------+--------------------------+-------------+----------+-------------------+----------+----------+---------------+------------+----------------+---------------------+---------------------+-------------------+--------+----+------+------+\n",
            "only showing top 5 rows\n",
            "\n",
            "+---------------+-------------------+-------------------+------------+--------------------------+-------------+----------+-------------------+----------+----------+---------------+------------+----------------+---------------------+---------------------+-------------------+--------+----+------+------+\n",
            "|contract_id    |timestamp          |value              |value_source|annotations               |region       |utc_date  |local_timestamp    |local_date|sent_to_ev|sent_to_battery|sent_to_grid|received_from_pv|received_from_battery|value_features       |distance           |week_day|hour|minute|second|\n",
            "+---------------+-------------------+-------------------+------------+--------------------------+-------------+----------+-------------------+----------+----------+---------------+------------+----------------+---------------------+---------------------+-------------------+--------+----+------+------+\n",
            "|04_02_111_CHR12|2023-01-01 06:00:00|0.02591860654732236|measurement |{\"region\":\"Europe/Berlin\"}|Europe/Berlin|2023-01-01|2023-01-01 07:00:00|2023-01-01|0         |0              |0           |0               |0                    |[0.02591860654732236]|0.40606496265061537|1       |6   |0     |0     |\n",
            "|04_02_111_CHR12|2023-01-01 17:00:00|0.07385444264936832|measurement |{\"region\":\"Europe/Berlin\"}|Europe/Berlin|2023-01-01|2023-01-01 18:00:00|2023-01-01|0         |0              |0           |0               |0                    |[0.07385444264936832]|0.35812912654856943|1       |17  |0     |0     |\n",
            "|04_02_111_CHR12|2023-01-01 17:30:00|0.08180149515221906|measurement |{\"region\":\"Europe/Berlin\"}|Europe/Berlin|2023-01-01|2023-01-01 18:30:00|2023-01-01|0         |0              |0           |0               |0                    |[0.08180149515221906]|0.35018207404571866|1       |17  |30    |0     |\n",
            "|04_02_111_CHR12|2023-01-01 21:30:00|0.08670661371854547|measurement |{\"region\":\"Europe/Berlin\"}|Europe/Berlin|2023-01-01|2023-01-01 22:30:00|2023-01-01|0         |0              |0           |0               |0                    |[0.08670661371854547]|0.34527695547939224|1       |21  |30    |0     |\n",
            "|04_02_111_CHR12|2023-01-02 00:30:00|0.03597601881331959|measurement |{\"region\":\"Europe/Berlin\"}|Europe/Berlin|2023-01-02|2023-01-02 01:30:00|2023-01-02|0         |0              |0           |0               |0                    |[0.03597601881331959]|0.39600755038461816|2       |0   |30    |0     |\n",
            "+---------------+-------------------+-------------------+------------+--------------------------+-------------+----------+-------------------+----------+----------+---------------+------------+----------------+---------------------+---------------------+-------------------+--------+----+------+------+\n",
            "only showing top 5 rows\n",
            "\n",
            "+--------+----+------+------+-------------------+\n",
            "|week_day|hour|minute|second|mean_value         |\n",
            "+--------+----+------+------+-------------------+\n",
            "|4       |6   |45    |0     |0.07775048332462442|\n",
            "|4       |10  |45    |0     |0.7917969597195609 |\n",
            "|5       |4   |45    |0     |0.03600540022998355|\n",
            "|4       |6   |30    |0     |0.05935250779823782|\n",
            "|5       |20  |15    |0     |0.19701182126480699|\n",
            "|2       |22  |15    |0     |0.17429587573126334|\n",
            "|1       |7   |30    |0     |1.464450455257174  |\n",
            "|5       |0   |30    |0     |0.06103106999632055|\n",
            "|1       |10  |45    |0     |0.7424740838363432 |\n",
            "|6       |23  |30    |0     |0.12239311787360145|\n",
            "+--------+----+------+------+-------------------+\n",
            "only showing top 10 rows\n",
            "\n"
          ]
        }
      ]
    },
    {
      "cell_type": "code",
      "source": [
        "raw_time_series_df.select((f.col('value_source') == 'measurement') & (f.col('value_source').isNotNull())).show(4, truncate=False)"
      ],
      "metadata": {
        "id": "Qj3dNzM4csgQ",
        "outputId": "a0ecf2b1-20e8-4d0a-bfcf-aa5d31aa528e",
        "colab": {
          "base_uri": "https://localhost:8080/"
        }
      },
      "execution_count": 23,
      "outputs": [
        {
          "output_type": "stream",
          "name": "stdout",
          "text": [
            "+-------------------------------------------------------------+\n",
            "|((value_source = measurement) AND (value_source IS NOT NULL))|\n",
            "+-------------------------------------------------------------+\n",
            "|true                                                         |\n",
            "|true                                                         |\n",
            "|true                                                         |\n",
            "|true                                                         |\n",
            "+-------------------------------------------------------------+\n",
            "only showing top 4 rows\n",
            "\n"
          ]
        }
      ]
    },
    {
      "cell_type": "code",
      "source": [
        "raw_time_series_df.select(f.col('value').isNotNull()).show(4, truncate=False)"
      ],
      "metadata": {
        "id": "2B7uTgafcrVc",
        "outputId": "4aa9d578-7c47-4faa-b8b5-ba109ea13c1a",
        "colab": {
          "base_uri": "https://localhost:8080/"
        }
      },
      "execution_count": 24,
      "outputs": [
        {
          "output_type": "stream",
          "name": "stdout",
          "text": [
            "+-------------------+\n",
            "|(value IS NOT NULL)|\n",
            "+-------------------+\n",
            "|true               |\n",
            "|true               |\n",
            "|true               |\n",
            "|true               |\n",
            "+-------------------+\n",
            "only showing top 4 rows\n",
            "\n"
          ]
        }
      ]
    },
    {
      "cell_type": "code",
      "source": [
        "filter1 = raw_time_series_df.filter((f.col('value_source') == 'measurement').isNotNull())\n",
        "filter1.show(4, truncate=False)"
      ],
      "metadata": {
        "id": "615JuQETc1kd",
        "outputId": "b634f78e-495b-408c-aba2-82fc11a1554b",
        "colab": {
          "base_uri": "https://localhost:8080/"
        }
      },
      "execution_count": 25,
      "outputs": [
        {
          "output_type": "stream",
          "name": "stdout",
          "text": [
            "+---------------+-------------------+-------------------+------------+--------------------------+-------------+----------+-------------------+----------+----------+---------------+------------+----------------+---------------------+---------------------+-------------------+--------+----+------+------+\n",
            "|contract_id    |timestamp          |value              |value_source|annotations               |region       |utc_date  |local_timestamp    |local_date|sent_to_ev|sent_to_battery|sent_to_grid|received_from_pv|received_from_battery|value_features       |distance           |week_day|hour|minute|second|\n",
            "+---------------+-------------------+-------------------+------------+--------------------------+-------------+----------+-------------------+----------+----------+---------------+------------+----------------+---------------------+---------------------+-------------------+--------+----+------+------+\n",
            "|04_02_111_CHR12|2023-01-01 06:00:00|0.02591860654732236|measurement |{\"region\":\"Europe/Berlin\"}|Europe/Berlin|2023-01-01|2023-01-01 07:00:00|2023-01-01|0         |0              |0           |0               |0                    |[0.02591860654732236]|0.40606496265061537|1       |6   |0     |0     |\n",
            "|04_02_111_CHR12|2023-01-01 17:00:00|0.07385444264936832|measurement |{\"region\":\"Europe/Berlin\"}|Europe/Berlin|2023-01-01|2023-01-01 18:00:00|2023-01-01|0         |0              |0           |0               |0                    |[0.07385444264936832]|0.35812912654856943|1       |17  |0     |0     |\n",
            "|04_02_111_CHR12|2023-01-01 17:30:00|0.08180149515221906|measurement |{\"region\":\"Europe/Berlin\"}|Europe/Berlin|2023-01-01|2023-01-01 18:30:00|2023-01-01|0         |0              |0           |0               |0                    |[0.08180149515221906]|0.35018207404571866|1       |17  |30    |0     |\n",
            "|04_02_111_CHR12|2023-01-01 21:30:00|0.08670661371854547|measurement |{\"region\":\"Europe/Berlin\"}|Europe/Berlin|2023-01-01|2023-01-01 22:30:00|2023-01-01|0         |0              |0           |0               |0                    |[0.08670661371854547]|0.34527695547939224|1       |21  |30    |0     |\n",
            "+---------------+-------------------+-------------------+------------+--------------------------+-------------+----------+-------------------+----------+----------+---------------+------------+----------------+---------------------+---------------------+-------------------+--------+----+------+------+\n",
            "only showing top 4 rows\n",
            "\n"
          ]
        }
      ]
    },
    {
      "cell_type": "code",
      "source": [
        "# salvăm setul de date\n",
        "# out_path = '/content/drive/MyDrive/E.on/E.on_Data/Data/Project/outputs/raw_time_series_df'\n",
        "# raw_time_series_df.coalesce(1).write.mode('overwrite').format('parquet').save(out_path)"
      ],
      "metadata": {
        "id": "kPvjW0ufXS2Q"
      },
      "execution_count": 26,
      "outputs": []
    },
    {
      "cell_type": "code",
      "source": [
        "test_raw_time_series_df = raw_time_series_df\n",
        "test_raw_time_series_df.select('value_source').distinct().show()\n",
        "test_raw_time_series_df.filter(test_raw_time_series_df.value.isNotNull()).count()\n",
        "test_raw_time_series_df.select(f.min('timestamp'), f.max('timestamp')).show()"
      ],
      "metadata": {
        "id": "ut9PEj2cn-92",
        "outputId": "04648fc8-3dd7-4c09-87cd-655f5ace13e4",
        "colab": {
          "base_uri": "https://localhost:8080/"
        }
      },
      "execution_count": 27,
      "outputs": [
        {
          "output_type": "stream",
          "name": "stdout",
          "text": [
            "+--------------------+\n",
            "|        value_source|\n",
            "+--------------------+\n",
            "|         measurement|\n",
            "|plausability_chec...|\n",
            "+--------------------+\n",
            "\n",
            "+-------------------+-------------------+\n",
            "|     min(timestamp)|     max(timestamp)|\n",
            "+-------------------+-------------------+\n",
            "|2023-01-01 00:45:00|2024-01-01 00:45:00|\n",
            "+-------------------+-------------------+\n",
            "\n"
          ]
        }
      ]
    },
    {
      "cell_type": "code",
      "source": [
        "\n",
        "# Facem suma coloanelor „sent_to_ev”, „sent_to_battery” și „sent_to_grid”.\n",
        "raw_time_series_df = raw_time_series_df.withColumn(\n",
        "    'sum_sent',\n",
        "    f.col('sent_to_ev') + f.col('sent_to_battery') + f.col('sent_to_grid')\n",
        ")\n",
        "\n",
        "# Facem suma coloanelor „received_from_pv” și „received_from_battery”.\n",
        "raw_time_series_df = raw_time_series_df.withColumn(\n",
        "    'sum_received',\n",
        "    f.col('received_from_pv') + f.col('received_from_battery')\n",
        ")\n",
        "\n",
        "raw_time_series_df.show(5)"
      ],
      "metadata": {
        "colab": {
          "base_uri": "https://localhost:8080/"
        },
        "id": "Xuh8Hy-2e4Kq",
        "outputId": "27415252-61e1-4efa-eed8-25f1ea94d900"
      },
      "execution_count": 28,
      "outputs": [
        {
          "output_type": "stream",
          "name": "stdout",
          "text": [
            "+---------------+-------------------+-------------------+------------+--------------------+-------------+----------+-------------------+----------+----------+---------------+------------+----------------+---------------------+--------------------+-------------------+--------+----+------+------+--------+------------+\n",
            "|    contract_id|          timestamp|              value|value_source|         annotations|       region|  utc_date|    local_timestamp|local_date|sent_to_ev|sent_to_battery|sent_to_grid|received_from_pv|received_from_battery|      value_features|           distance|week_day|hour|minute|second|sum_sent|sum_received|\n",
            "+---------------+-------------------+-------------------+------------+--------------------+-------------+----------+-------------------+----------+----------+---------------+------------+----------------+---------------------+--------------------+-------------------+--------+----+------+------+--------+------------+\n",
            "|04_02_111_CHR12|2023-01-01 06:00:00|0.02591860654732236| measurement|{\"region\":\"Europe...|Europe/Berlin|2023-01-01|2023-01-01 07:00:00|2023-01-01|         0|              0|           0|               0|                    0|[0.02591860654732...|0.40606496265061537|       1|   6|     0|     0|     0.0|         0.0|\n",
            "|04_02_111_CHR12|2023-01-01 17:00:00|0.07385444264936832| measurement|{\"region\":\"Europe...|Europe/Berlin|2023-01-01|2023-01-01 18:00:00|2023-01-01|         0|              0|           0|               0|                    0|[0.07385444264936...|0.35812912654856943|       1|  17|     0|     0|     0.0|         0.0|\n",
            "|04_02_111_CHR12|2023-01-01 17:30:00|0.08180149515221906| measurement|{\"region\":\"Europe...|Europe/Berlin|2023-01-01|2023-01-01 18:30:00|2023-01-01|         0|              0|           0|               0|                    0|[0.08180149515221...|0.35018207404571866|       1|  17|    30|     0|     0.0|         0.0|\n",
            "|04_02_111_CHR12|2023-01-01 21:30:00|0.08670661371854547| measurement|{\"region\":\"Europe...|Europe/Berlin|2023-01-01|2023-01-01 22:30:00|2023-01-01|         0|              0|           0|               0|                    0|[0.08670661371854...|0.34527695547939224|       1|  21|    30|     0|     0.0|         0.0|\n",
            "|04_02_111_CHR12|2023-01-02 00:30:00|0.03597601881331959| measurement|{\"region\":\"Europe...|Europe/Berlin|2023-01-02|2023-01-02 01:30:00|2023-01-02|         0|              0|           0|               0|                    0|[0.03597601881331...|0.39600755038461816|       2|   0|    30|     0|     0.0|         0.0|\n",
            "+---------------+-------------------+-------------------+------------+--------------------+-------------+----------+-------------------+----------+----------+---------------+------------+----------------+---------------------+--------------------+-------------------+--------+----+------+------+--------+------------+\n",
            "only showing top 5 rows\n",
            "\n"
          ]
        }
      ]
    },
    {
      "cell_type": "code",
      "source": [
        "\n",
        "# Completăm coloane „value” cu maximum dintre aceste 3 valori.\n",
        "\n",
        "# Join pe zi, oră, minut, secundă\n",
        "raw_time_series_df = raw_time_series_df.join(\n",
        "    mean_df,\n",
        "    on=['week_day', 'hour', 'minute', 'second'],\n",
        "    how='left'\n",
        ")\n",
        "\n",
        "raw_time_series_df.show(5)"
      ],
      "metadata": {
        "colab": {
          "base_uri": "https://localhost:8080/"
        },
        "id": "PDrJ4fYIflkh",
        "outputId": "91b20f7b-b675-42d5-e746-03d44c168950"
      },
      "execution_count": 29,
      "outputs": [
        {
          "output_type": "stream",
          "name": "stdout",
          "text": [
            "+--------+----+------+------+---------------+-------------------+-------------------+------------+--------------------+-------------+----------+-------------------+----------+----------+---------------+------------+----------------+---------------------+--------------------+-------------------+--------+------------+-------------------+\n",
            "|week_day|hour|minute|second|    contract_id|          timestamp|              value|value_source|         annotations|       region|  utc_date|    local_timestamp|local_date|sent_to_ev|sent_to_battery|sent_to_grid|received_from_pv|received_from_battery|      value_features|           distance|sum_sent|sum_received|         mean_value|\n",
            "+--------+----+------+------+---------------+-------------------+-------------------+------------+--------------------+-------------+----------+-------------------+----------+----------+---------------+------------+----------------+---------------------+--------------------+-------------------+--------+------------+-------------------+\n",
            "|       1|  17|     0|     0|04_02_111_CHR12|2023-01-01 17:00:00|0.07385444264936832| measurement|{\"region\":\"Europe...|Europe/Berlin|2023-01-01|2023-01-01 18:00:00|2023-01-01|         0|              0|           0|               0|                    0|[0.07385444264936...|0.35812912654856943|     0.0|         0.0|0.47868633929540555|\n",
            "|       2|   5|    30|     0|04_02_111_CHR12|2023-01-02 05:30:00|0.03638379308965683| measurement|{\"region\":\"Europe...|Europe/Berlin|2023-01-02|2023-01-02 06:30:00|2023-01-02|         0|              0|           0|               0|                    0|[0.03638379308965...| 0.3955997761082809|     0.0|         0.0| 0.0436544798945147|\n",
            "|       1|  21|    30|     0|04_02_111_CHR12|2023-01-01 21:30:00|0.08670661371854547| measurement|{\"region\":\"Europe...|Europe/Berlin|2023-01-01|2023-01-01 22:30:00|2023-01-01|         0|              0|           0|               0|                    0|[0.08670661371854...|0.34527695547939224|     0.0|         0.0| 0.2075788134680299|\n",
            "|       1|   6|     0|     0|04_02_111_CHR12|2023-01-01 06:00:00|0.02591860654732236| measurement|{\"region\":\"Europe...|Europe/Berlin|2023-01-01|2023-01-01 07:00:00|2023-01-01|         0|              0|           0|               0|                    0|[0.02591860654732...|0.40606496265061537|     0.0|         0.0|0.05214882989526896|\n",
            "|       1|  17|    30|     0|04_02_111_CHR12|2023-01-01 17:30:00|0.08180149515221906| measurement|{\"region\":\"Europe...|Europe/Berlin|2023-01-01|2023-01-01 18:30:00|2023-01-01|         0|              0|           0|               0|                    0|[0.08180149515221...|0.35018207404571866|     0.0|         0.0| 0.4829860778581542|\n",
            "+--------+----+------+------+---------------+-------------------+-------------------+------------+--------------------+-------------+----------+-------------------+----------+----------+---------------+------------+----------------+---------------------+--------------------+-------------------+--------+------------+-------------------+\n",
            "only showing top 5 rows\n",
            "\n"
          ]
        }
      ]
    },
    {
      "cell_type": "code",
      "source": [
        "\n",
        "# Alegem maximum dintre mean_value, sum_sent și sum_received\n",
        "value_candidate = f.greatest(f.col('`mean_value`'), f.col('sum_sent'), f.col('sum_received'))\n",
        "\n",
        "# Înlocuim valoarea doar dacă value este NULL\n",
        "raw_time_series_df = raw_time_series_df.withColumn(\n",
        "    'value',\n",
        "    f.when(f.col('value').isNull(), value_candidate).otherwise(f.col('value'))\n",
        ")\n",
        "\n",
        "raw_time_series_df.show(5)"
      ],
      "metadata": {
        "id": "Lc3qaAaylW2y",
        "outputId": "e2533f36-d540-424a-8f53-0afe91725e4b",
        "colab": {
          "base_uri": "https://localhost:8080/"
        }
      },
      "execution_count": 30,
      "outputs": [
        {
          "output_type": "stream",
          "name": "stdout",
          "text": [
            "+--------+----+------+------+---------------+-------------------+-------------------+------------+--------------------+-------------+----------+-------------------+----------+----------+---------------+------------+----------------+---------------------+--------------------+-------------------+--------+------------+-------------------+\n",
            "|week_day|hour|minute|second|    contract_id|          timestamp|              value|value_source|         annotations|       region|  utc_date|    local_timestamp|local_date|sent_to_ev|sent_to_battery|sent_to_grid|received_from_pv|received_from_battery|      value_features|           distance|sum_sent|sum_received|         mean_value|\n",
            "+--------+----+------+------+---------------+-------------------+-------------------+------------+--------------------+-------------+----------+-------------------+----------+----------+---------------+------------+----------------+---------------------+--------------------+-------------------+--------+------------+-------------------+\n",
            "|       1|  17|     0|     0|04_02_111_CHR12|2023-01-01 17:00:00|0.07385444264936832| measurement|{\"region\":\"Europe...|Europe/Berlin|2023-01-01|2023-01-01 18:00:00|2023-01-01|         0|              0|           0|               0|                    0|[0.07385444264936...|0.35812912654856943|     0.0|         0.0|0.47868633929540555|\n",
            "|       2|   5|    30|     0|04_02_111_CHR12|2023-01-02 05:30:00|0.03638379308965683| measurement|{\"region\":\"Europe...|Europe/Berlin|2023-01-02|2023-01-02 06:30:00|2023-01-02|         0|              0|           0|               0|                    0|[0.03638379308965...| 0.3955997761082809|     0.0|         0.0| 0.0436544798945147|\n",
            "|       1|  21|    30|     0|04_02_111_CHR12|2023-01-01 21:30:00|0.08670661371854547| measurement|{\"region\":\"Europe...|Europe/Berlin|2023-01-01|2023-01-01 22:30:00|2023-01-01|         0|              0|           0|               0|                    0|[0.08670661371854...|0.34527695547939224|     0.0|         0.0| 0.2075788134680299|\n",
            "|       1|   6|     0|     0|04_02_111_CHR12|2023-01-01 06:00:00|0.02591860654732236| measurement|{\"region\":\"Europe...|Europe/Berlin|2023-01-01|2023-01-01 07:00:00|2023-01-01|         0|              0|           0|               0|                    0|[0.02591860654732...|0.40606496265061537|     0.0|         0.0|0.05214882989526896|\n",
            "|       1|  17|    30|     0|04_02_111_CHR12|2023-01-01 17:30:00|0.08180149515221906| measurement|{\"region\":\"Europe...|Europe/Berlin|2023-01-01|2023-01-01 18:30:00|2023-01-01|         0|              0|           0|               0|                    0|[0.08180149515221...|0.35018207404571866|     0.0|         0.0| 0.4829860778581542|\n",
            "+--------+----+------+------+---------------+-------------------+-------------------+------------+--------------------+-------------+----------+-------------------+----------+----------+---------------+------------+----------------+---------------------+--------------------+-------------------+--------+------------+-------------------+\n",
            "only showing top 5 rows\n",
            "\n"
          ]
        }
      ]
    },
    {
      "cell_type": "code",
      "source": [
        "# IMPLEMENTAREA II\n",
        "\n",
        "from pyspark.ml.feature import VectorAssembler\n",
        "from pyspark.ml.regression import LinearRegression\n",
        "\n",
        "# Pregătim trăsături (features) — le ai deja create\n",
        "features = ['week_day', 'hour', 'minute', 'second', 'sum_sent', 'sum_received']\n",
        "\n",
        "# Adăugăm eticheta 'label' doar dacă sursa este 'measurement' și valoarea nu este NULL\n",
        "ml_df = raw_time_series_df.withColumn(\n",
        "    'label',\n",
        "    f.when(\n",
        "        (f.col('value_source') == 'measurement') & f.col('value').isNotNull(),\n",
        "        f.col('value').cast(DoubleType())\n",
        "    )\n",
        ")\n",
        "\n",
        "# Filtrăm doar rândurile unde avem etichetă validă\n",
        "train_df = ml_df.filter(f.col('label').isNotNull())\n",
        "\n",
        "# Asamblăm vectorul de trăsături\n",
        "assembler = VectorAssembler(inputCols=features, outputCol='features')\n",
        "train_df = assembler.transform(train_df)\n",
        "\n",
        "# Antrenăm modelul de regresie\n",
        "lr = LinearRegression(featuresCol='features', labelCol='label')\n",
        "lr_model = lr.fit(train_df)\n"
      ],
      "metadata": {
        "id": "jiS-LAEyKwkJ"
      },
      "execution_count": 31,
      "outputs": []
    },
    {
      "cell_type": "code",
      "source": [
        "# Pregătim rândurile fără valoare pentru predicție\n",
        "predict_df = ml_df.filter(f.col('value').isNull())\n",
        "predict_df = assembler.transform(predict_df)\n",
        "\n",
        "# Facem predicția\n",
        "predicted_df = lr_model.transform(predict_df).select('timestamp', 'prediction')\n",
        "\n",
        "# Adăugăm predicția înapoi în dataframe-ul original\n",
        "raw_time_series_df = raw_time_series_df.join(predicted_df, on='timestamp', how='left')\n",
        "\n",
        "# Completăm coloana `value` DOAR dacă e NULL cu predicția ML\n",
        "raw_time_series_df = raw_time_series_df.withColumn(\n",
        "    'value_lr',\n",
        "    f.when(f.col('value').isNull(), f.col('prediction')).otherwise(f.col('value'))\n",
        ")\n"
      ],
      "metadata": {
        "id": "qkFonELvPHfC"
      },
      "execution_count": 32,
      "outputs": []
    },
    {
      "cell_type": "code",
      "source": [
        "# 2.\n",
        "raw_time_series_df = raw_time_series_df.withColumn('received_from_grid', f.col('sent_to_ev') + f.col('sent_to_battery') + f.col('sent_to_grid') - f.col('received_from_pv') - f.col('received_from_battery'))\n",
        "raw_time_series_df.show(5, truncate=False)"
      ],
      "metadata": {
        "id": "lNqz4FmYWBPv",
        "outputId": "66622347-22c9-45fa-cdff-ed2fa767f17f",
        "colab": {
          "base_uri": "https://localhost:8080/"
        }
      },
      "execution_count": 33,
      "outputs": [
        {
          "output_type": "stream",
          "name": "stdout",
          "text": [
            "+-------------------+--------+----+------+------+---------------+-------------------+------------+--------------------------+-------------+----------+-------------------+----------+----------+---------------+------------+----------------+---------------------+---------------------+-------------------+--------+------------+-------------------+----------+-------------------+------------------+\n",
            "|timestamp          |week_day|hour|minute|second|contract_id    |value              |value_source|annotations               |region       |utc_date  |local_timestamp    |local_date|sent_to_ev|sent_to_battery|sent_to_grid|received_from_pv|received_from_battery|value_features       |distance           |sum_sent|sum_received|mean_value         |prediction|value_lr           |received_from_grid|\n",
            "+-------------------+--------+----+------+------+---------------+-------------------+------------+--------------------------+-------------+----------+-------------------+----------+----------+---------------+------------+----------------+---------------------+---------------------+-------------------+--------+------------+-------------------+----------+-------------------+------------------+\n",
            "|2023-01-02 00:30:00|2       |0   |30    |0     |04_02_111_CHR12|0.03597601881331959|measurement |{\"region\":\"Europe/Berlin\"}|Europe/Berlin|2023-01-02|2023-01-02 01:30:00|2023-01-02|0         |0              |0           |0               |0                    |[0.03597601881331959]|0.39600755038461816|0.0     |0.0         |0.06714942231235047|NULL      |0.03597601881331959|0.0               |\n",
            "|2023-01-01 21:30:00|1       |21  |30    |0     |04_02_111_CHR12|0.08670661371854547|measurement |{\"region\":\"Europe/Berlin\"}|Europe/Berlin|2023-01-01|2023-01-01 22:30:00|2023-01-01|0         |0              |0           |0               |0                    |[0.08670661371854547]|0.34527695547939224|0.0     |0.0         |0.2075788134680299 |NULL      |0.08670661371854547|0.0               |\n",
            "|2023-01-01 06:00:00|1       |6   |0     |0     |04_02_111_CHR12|0.02591860654732236|measurement |{\"region\":\"Europe/Berlin\"}|Europe/Berlin|2023-01-01|2023-01-01 07:00:00|2023-01-01|0         |0              |0           |0               |0                    |[0.02591860654732236]|0.40606496265061537|0.0     |0.0         |0.05214882989526896|NULL      |0.02591860654732236|0.0               |\n",
            "|2023-01-02 05:30:00|2       |5   |30    |0     |04_02_111_CHR12|0.03638379308965683|measurement |{\"region\":\"Europe/Berlin\"}|Europe/Berlin|2023-01-02|2023-01-02 06:30:00|2023-01-02|0         |0              |0           |0               |0                    |[0.03638379308965683]|0.3955997761082809 |0.0     |0.0         |0.0436544798945147 |NULL      |0.03638379308965683|0.0               |\n",
            "|2023-01-01 17:30:00|1       |17  |30    |0     |04_02_111_CHR12|0.08180149515221906|measurement |{\"region\":\"Europe/Berlin\"}|Europe/Berlin|2023-01-01|2023-01-01 18:30:00|2023-01-01|0         |0              |0           |0               |0                    |[0.08180149515221906]|0.35018207404571866|0.0     |0.0         |0.4829860778581542 |NULL      |0.08180149515221906|0.0               |\n",
            "+-------------------+--------+----+------+------+---------------+-------------------+------------+--------------------------+-------------+----------+-------------------+----------+----------+---------------+------------+----------------+---------------------+---------------------+-------------------+--------+------------+-------------------+----------+-------------------+------------------+\n",
            "only showing top 5 rows\n",
            "\n"
          ]
        }
      ]
    },
    {
      "cell_type": "markdown",
      "source": [
        "## Asocierea cu tarifere\n",
        "\n",
        "Curățând datele și completând valorile lipsă, putem acuma să trecem la asocierea cu tarifele consumatorilor:"
      ],
      "metadata": {
        "id": "bAyDBEYNyo9n"
      }
    },
    {
      "cell_type": "markdown",
      "source": [
        "\n",
        "\n",
        "1. Asocierea intrărilor de consum cu cele de tarifare, pe bază numărului de contract, al timpului și al tipului de preț, cumpărare sau vânzare.\n",
        "  * Prețul tarifat la cumpărare este prețul de cumpărare pentru intrare de consum înmulțit cu coloana „received_from_grid”\n",
        "  * Prețul tarifat la vânzare este prețul de vânzare pentru intrare de consum înmulțit cu coloana „send_to_grid”."
      ],
      "metadata": {
        "id": "ixAI6HRYyry7"
      }
    },
    {
      "cell_type": "code",
      "source": [
        "# print(f'raw_time_series_df: {raw_time_series_df.schema} \\n {raw_time_series_df.show(5)}')\n",
        "# print(f'customer_tariff_df: {customer_tariff_df.schema} \\n {customer_tariff_df.show(5)}')\n",
        "\n",
        "print(f'raw_time_series_df: \\n{raw_time_series_df.schema}')\n",
        "print(f'customer_tariff_df: \\n{customer_tariff_df.schema}')"
      ],
      "metadata": {
        "id": "CCYt0mcfPhst",
        "outputId": "6ed1124e-b552-4f11-d213-f58559b3ee14",
        "colab": {
          "base_uri": "https://localhost:8080/"
        }
      },
      "execution_count": 142,
      "outputs": [
        {
          "output_type": "stream",
          "name": "stdout",
          "text": [
            "raw_time_series_df: \n",
            "StructType([StructField('timestamp', TimestampType(), True), StructField('week_day', IntegerType(), True), StructField('hour', IntegerType(), True), StructField('minute', IntegerType(), True), StructField('second', IntegerType(), True), StructField('contract_id', StringType(), True), StructField('value', StringType(), True), StructField('value_source', StringType(), True), StructField('annotations', StringType(), True), StructField('region', StringType(), True), StructField('utc_date', DateType(), True), StructField('local_timestamp', TimestampType(), True), StructField('local_date', DateType(), True), StructField('sent_to_ev', StringType(), True), StructField('sent_to_battery', StringType(), True), StructField('sent_to_grid', StringType(), True), StructField('received_from_pv', StringType(), True), StructField('received_from_battery', StringType(), True), StructField('value_features', VectorUDT(), True), StructField('distance', DoubleType(), True), StructField('sum_sent', DoubleType(), True), StructField('sum_received', DoubleType(), True), StructField('mean_value', DoubleType(), True), StructField('prediction', DoubleType(), True), StructField('value_lr', StringType(), True), StructField('received_from_grid', DoubleType(), True)])\n",
            "customer_tariff_df: \n",
            "StructType([StructField('contract_id', StringType(), True), StructField('target_local_start_timestamp', TimestampType(), True), StructField('target_local_end_timestamp', TimestampType(), True), StructField('tariff_name', StringType(), True), StructField('charge_type', StringType(), True), StructField('price', DoubleType(), True)])\n"
          ]
        }
      ]
    },
    {
      "cell_type": "code",
      "source": [
        "raw_df = raw_time_series_df.withColumn('local_timestamp', f.to_timestamp('local_timestamp'))\n",
        "print(f'raw_df->schema: \\n{raw_df.schema}')\n",
        "\n",
        "tariff_df = customer_tariff_df \\\n",
        "    .withColumn('target_local_start_timestamp', f.to_timestamp('target_local_start_timestamp')) \\\n",
        "    .withColumn('target_local_end_timestamp', f.to_timestamp('target_local_end_timestamp'))\n",
        "print(f'tariff_df->schema: \\n{tariff_df.schema}')"
      ],
      "metadata": {
        "id": "VK6MI7zZSgXK",
        "colab": {
          "base_uri": "https://localhost:8080/"
        },
        "outputId": "e69c217d-a1f2-467e-ce9c-9dee9b93b5f9"
      },
      "execution_count": 143,
      "outputs": [
        {
          "output_type": "stream",
          "name": "stdout",
          "text": [
            "raw_df->schema: \n",
            "StructType([StructField('timestamp', TimestampType(), True), StructField('week_day', IntegerType(), True), StructField('hour', IntegerType(), True), StructField('minute', IntegerType(), True), StructField('second', IntegerType(), True), StructField('contract_id', StringType(), True), StructField('value', StringType(), True), StructField('value_source', StringType(), True), StructField('annotations', StringType(), True), StructField('region', StringType(), True), StructField('utc_date', DateType(), True), StructField('local_timestamp', TimestampType(), True), StructField('local_date', DateType(), True), StructField('sent_to_ev', StringType(), True), StructField('sent_to_battery', StringType(), True), StructField('sent_to_grid', StringType(), True), StructField('received_from_pv', StringType(), True), StructField('received_from_battery', StringType(), True), StructField('value_features', VectorUDT(), True), StructField('distance', DoubleType(), True), StructField('sum_sent', DoubleType(), True), StructField('sum_received', DoubleType(), True), StructField('mean_value', DoubleType(), True), StructField('prediction', DoubleType(), True), StructField('value_lr', StringType(), True), StructField('received_from_grid', DoubleType(), True)])\n",
            "tariff_df->schema: \n",
            "StructType([StructField('contract_id', StringType(), True), StructField('target_local_start_timestamp', TimestampType(), True), StructField('target_local_end_timestamp', TimestampType(), True), StructField('tariff_name', StringType(), True), StructField('charge_type', StringType(), True), StructField('price', DoubleType(), True)])\n"
          ]
        }
      ]
    },
    {
      "cell_type": "code",
      "source": [
        "# Join pentru tariful de cumpărare\n",
        "buy_tariff = tariff_df.filter(f.col('charge_type') == 'buy') \\\n",
        "    .withColumnRenamed('contract_id', 'buy_contract_id')\n",
        "print(f'buy_tariff->schema: \\n{buy_tariff.schema}')\n",
        "\n",
        "raw_with_buy = raw_df.join(\n",
        "    buy_tariff,\n",
        "    (raw_df['contract_id'] == buy_tariff['buy_contract_id']) &\n",
        "    (raw_df['local_timestamp'] >= buy_tariff['target_local_start_timestamp']) &\n",
        "    (raw_df['local_timestamp'] < buy_tariff['target_local_end_timestamp']),\n",
        "    how='left'\n",
        ").withColumn('buy_cost', f.col('price') * f.col('received_from_grid'))\n",
        "\n",
        "print(f'raw_with_buy->schema: \\n{raw_with_buy.schema}')"
      ],
      "metadata": {
        "id": "baaypg8Fc-uk",
        "colab": {
          "base_uri": "https://localhost:8080/"
        },
        "outputId": "3274adbc-7e10-4b16-a190-ad60ecab0cf7"
      },
      "execution_count": 144,
      "outputs": [
        {
          "output_type": "stream",
          "name": "stdout",
          "text": [
            "buy_tariff->schema: \n",
            "StructType([StructField('buy_contract_id', StringType(), True), StructField('target_local_start_timestamp', TimestampType(), True), StructField('target_local_end_timestamp', TimestampType(), True), StructField('tariff_name', StringType(), True), StructField('charge_type', StringType(), True), StructField('price', DoubleType(), True)])\n",
            "raw_with_buy->schema: \n",
            "StructType([StructField('timestamp', TimestampType(), True), StructField('week_day', IntegerType(), True), StructField('hour', IntegerType(), True), StructField('minute', IntegerType(), True), StructField('second', IntegerType(), True), StructField('contract_id', StringType(), True), StructField('value', StringType(), True), StructField('value_source', StringType(), True), StructField('annotations', StringType(), True), StructField('region', StringType(), True), StructField('utc_date', DateType(), True), StructField('local_timestamp', TimestampType(), True), StructField('local_date', DateType(), True), StructField('sent_to_ev', StringType(), True), StructField('sent_to_battery', StringType(), True), StructField('sent_to_grid', StringType(), True), StructField('received_from_pv', StringType(), True), StructField('received_from_battery', StringType(), True), StructField('value_features', VectorUDT(), True), StructField('distance', DoubleType(), True), StructField('sum_sent', DoubleType(), True), StructField('sum_received', DoubleType(), True), StructField('mean_value', DoubleType(), True), StructField('prediction', DoubleType(), True), StructField('value_lr', StringType(), True), StructField('received_from_grid', DoubleType(), True), StructField('buy_contract_id', StringType(), True), StructField('target_local_start_timestamp', TimestampType(), True), StructField('target_local_end_timestamp', TimestampType(), True), StructField('tariff_name', StringType(), True), StructField('charge_type', StringType(), True), StructField('price', DoubleType(), True), StructField('buy_cost', DoubleType(), True)])\n"
          ]
        }
      ]
    },
    {
      "cell_type": "code",
      "source": [
        "# Join pentru tariful de vânzare\n",
        "sell_tariff = tariff_df.filter(f.col('charge_type') == 'sell') \\\n",
        "    .withColumnRenamed('contract_id', 'sell_contract_id')\n",
        "print(f'sell_tariff->schema: \\n{sell_tariff.schema}')\n",
        "\n",
        "# Aplică aliasuri pentru DataFrame-uri\n",
        "raw_with_buy_alias = raw_with_buy.alias('raw')\n",
        "sell_tariff_alias = sell_tariff.alias('sell')\n",
        "\n",
        "# Join pentru tariful de vânzare, folosind aliasuri și referințe explicite\n",
        "raw_with_sell = raw_with_buy_alias.join(\n",
        "    sell_tariff_alias,\n",
        "    (f.col('raw.contract_id') == f.col('sell.sell_contract_id')) &\n",
        "    (f.col('raw.local_timestamp') >= f.col('sell.target_local_start_timestamp')) &\n",
        "    (f.col('raw.local_timestamp') < f.col('sell.target_local_end_timestamp')),\n",
        "    how='left'\n",
        ").withColumn('sell_cost', f.col('sell.price') * f.col('raw.sent_to_grid'))\n",
        "\n",
        "print(f'raw_with_sell->schema: \\n{raw_with_sell.schema}')\n",
        "\n"
      ],
      "metadata": {
        "id": "wKkmKP5Bc8yU",
        "outputId": "6dcb694b-07dd-4709-9444-35c435c750ee",
        "colab": {
          "base_uri": "https://localhost:8080/"
        }
      },
      "execution_count": 145,
      "outputs": [
        {
          "output_type": "stream",
          "name": "stdout",
          "text": [
            "sell_tariff->schema: \n",
            "StructType([StructField('sell_contract_id', StringType(), True), StructField('target_local_start_timestamp', TimestampType(), True), StructField('target_local_end_timestamp', TimestampType(), True), StructField('tariff_name', StringType(), True), StructField('charge_type', StringType(), True), StructField('price', DoubleType(), True)])\n",
            "raw_with_sell->schema: \n",
            "StructType([StructField('timestamp', TimestampType(), True), StructField('week_day', IntegerType(), True), StructField('hour', IntegerType(), True), StructField('minute', IntegerType(), True), StructField('second', IntegerType(), True), StructField('contract_id', StringType(), True), StructField('value', StringType(), True), StructField('value_source', StringType(), True), StructField('annotations', StringType(), True), StructField('region', StringType(), True), StructField('utc_date', DateType(), True), StructField('local_timestamp', TimestampType(), True), StructField('local_date', DateType(), True), StructField('sent_to_ev', StringType(), True), StructField('sent_to_battery', StringType(), True), StructField('sent_to_grid', StringType(), True), StructField('received_from_pv', StringType(), True), StructField('received_from_battery', StringType(), True), StructField('value_features', VectorUDT(), True), StructField('distance', DoubleType(), True), StructField('sum_sent', DoubleType(), True), StructField('sum_received', DoubleType(), True), StructField('mean_value', DoubleType(), True), StructField('prediction', DoubleType(), True), StructField('value_lr', StringType(), True), StructField('received_from_grid', DoubleType(), True), StructField('buy_contract_id', StringType(), True), StructField('target_local_start_timestamp', TimestampType(), True), StructField('target_local_end_timestamp', TimestampType(), True), StructField('tariff_name', StringType(), True), StructField('charge_type', StringType(), True), StructField('price', DoubleType(), True), StructField('buy_cost', DoubleType(), True), StructField('sell_contract_id', StringType(), True), StructField('target_local_start_timestamp', TimestampType(), True), StructField('target_local_end_timestamp', TimestampType(), True), StructField('tariff_name', StringType(), True), StructField('charge_type', StringType(), True), StructField('price', DoubleType(), True), StructField('sell_cost', DoubleType(), True)])\n"
          ]
        }
      ]
    },
    {
      "cell_type": "code",
      "source": [
        "# Selectarea coloanelor utile, folosind aliasuri pentru a evita ambiguitatea\n",
        "raw_with_sell_selected = raw_with_sell.select(\n",
        "    'timestamp',  # Timpul la care se înregistrează intrarea\n",
        "    'week_day',  # Ziua săptămânii\n",
        "    'hour',  # Ora\n",
        "    'minute',  # Minutul\n",
        "    'second',  # Secunda\n",
        "    'contract_id',  # ID-ul contractului\n",
        "\n",
        "    'value',  # Valoarea consumului\n",
        "    'received_from_grid',  # Cantitatea primită din rețea\n",
        "    'received_from_battery', # Cantitatea primită de la baterie\n",
        "    'received_from_pv', #  Cantitatea primită de la pv\n",
        "    'sent_to_ev',\n",
        "    'buy_cost',\n",
        "    'sent_to_grid',  # Cantitatea trimisă la rețea\n",
        "    'sell_cost',  # Costul de vânzare\n",
        ")\n",
        "\n",
        "print(f'raw_with_sell_selected->schema: \\n{raw_with_sell_selected.schema}')\n"
      ],
      "metadata": {
        "id": "xlMYPmWTc6Vo",
        "colab": {
          "base_uri": "https://localhost:8080/"
        },
        "outputId": "0b642e2a-779c-496c-d3b8-101402982e3b"
      },
      "execution_count": 146,
      "outputs": [
        {
          "output_type": "stream",
          "name": "stdout",
          "text": [
            "raw_with_sell_selected->schema: \n",
            "StructType([StructField('timestamp', TimestampType(), True), StructField('week_day', IntegerType(), True), StructField('hour', IntegerType(), True), StructField('minute', IntegerType(), True), StructField('second', IntegerType(), True), StructField('contract_id', StringType(), True), StructField('value', StringType(), True), StructField('received_from_grid', DoubleType(), True), StructField('received_from_battery', StringType(), True), StructField('received_from_pv', StringType(), True), StructField('sent_to_ev', StringType(), True), StructField('buy_cost', DoubleType(), True), StructField('sent_to_grid', StringType(), True), StructField('sell_cost', DoubleType(), True)])\n"
          ]
        }
      ]
    },
    {
      "cell_type": "markdown",
      "source": [
        "## Calcularea consumului și a facturii\n",
        "\n",
        "După asociere, putem trece la calculul factorii:\n"
      ],
      "metadata": {
        "id": "SFLIbmqzy1a1"
      }
    },
    {
      "cell_type": "markdown",
      "source": [
        "1. Per zi / săptămâna / lună / an, pentru fiecare client, să se calculeze:\n",
        "  * Consumul de energie total (suma coloanei value) – „ kWh_total”\n",
        "  * Energia extrasă din baterie și cea din PV – „kWh_from_battery”, „kWh_from_PV”\n",
        "  * Energia folosită pentru EV – „kWh_for_EV”\n",
        "  * Consumul de energie folosit de la rețea – „kWh_from_grid”\n",
        "  * Costul consumului de energie folosit de la rețea – „price_billed”\n",
        "  * Consumul de energie trimis către rețea – „kWh_to_grid”\n",
        "  * Costul primit înapoi, a consumului de energie trimis către rețea – „price_cashback”\n",
        "  * Costul total (diferența de cost) – „price_final”\n",
        "  * Puneți codul de calculare al agregatelor pe orice perioadă de timp într-o funcție, iar pentru fiecare interval, zi / săptămâna / lună / an, rulați această funcție. Afișați pentru fiecare perioada top 10 clienți cu cel mai mare preț."
      ],
      "metadata": {
        "id": "t-488euxsCG_"
      }
    },
    {
      "cell_type": "code",
      "source": [
        "from pyspark.sql.window import Window\n",
        "\n",
        "def calculate_aggregates(df, period_column):\n",
        "    \"\"\"\n",
        "    Calculează agregatele pentru fiecare client pe baza unui interval de timp specificat.\n",
        "    :param df: DataFrame-ul cu datele de consum și tarife\n",
        "    :param period_column: Coloana care reprezintă perioada de agregare (zi, săptămână, lună, an)\n",
        "    :return: DataFrame cu agregatele calculate\n",
        "    \"\"\"\n",
        "    # Adăugarea coloanei 'local_date' dacă nu există (folosim timestamp pentru a crea data locală)\n",
        "    df = df.withColumn('local_date', f.to_date(df['timestamp']))\n",
        "\n",
        "    # Calcularea agregatelor\n",
        "    aggregates = df.groupBy('contract_id', period_column).agg(\n",
        "        f.sum('value').alias('kWh_total'),\n",
        "        f.sum('received_from_battery').alias('kWh_from_battery'),\n",
        "        f.sum('received_from_pv').alias('kWh_from_PV'),\n",
        "        f.sum('sent_to_ev').alias('kWh_for_EV'),\n",
        "        f.sum('received_from_grid').alias('kWh_from_grid'),\n",
        "        f.sum('buy_cost').alias('price_billed'),\n",
        "        f.sum('sent_to_grid').alias('kWh_to_grid'),\n",
        "        f.sum('sell_cost').alias('price_cashback')\n",
        "    )\n",
        "\n",
        "    # Calcularea costului final\n",
        "    aggregates = aggregates.withColumn('price_final', f.col('price_billed') - f.col('price_cashback'))\n",
        "\n",
        "    # Crearea unui feronici pentru a ordona clienții după prețul final\n",
        "    window_spec = Window.partitionBy(period_column).orderBy(f.col('price_final').desc())\n",
        "\n",
        "    # Selectarea top 10 clienți pe fiecare perioadă\n",
        "    top_10_customers = aggregates.withColumn('rank', f.row_number().over(window_spec)) \\\n",
        "                                .filter(f.col('rank') <= 10)\n",
        "\n",
        "    return top_10_customers\n",
        "\n",
        "# Perioada de timp - pe zi\n",
        "top_10_daily = calculate_aggregates(raw_with_sell_selected, 'local_date')\n",
        "top_10_daily.show(5)\n",
        "\n",
        "# Perioada de timp - pe săptămână (folosind numărul săptămânii)\n",
        "top_10_weekly = calculate_aggregates(raw_with_sell_selected, 'week_day')\n",
        "top_10_weekly.show(5)\n",
        "\n",
        "# Perioada de timp - pe lună (folosind luna și anul)\n",
        "top_10_monthly = calculate_aggregates(raw_with_sell_selected, 'local_month')\n",
        "top_10_monthly.show(5)\n",
        "\n",
        "# Perioada de timp - pe an (folosind anul)\n",
        "top_10_yearly = calculate_aggregates(raw_with_sell_selected, 'local_year')\n",
        "top_10_yearly.show(5)\n"
      ],
      "metadata": {
        "id": "oJ_kSRFpf2D_"
      },
      "execution_count": null,
      "outputs": []
    }
  ]
}